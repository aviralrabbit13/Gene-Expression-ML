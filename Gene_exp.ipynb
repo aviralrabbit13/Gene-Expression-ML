{
  "nbformat": 4,
  "nbformat_minor": 0,
  "metadata": {
    "colab": {
      "name": "Gene_exp.ipynb",
      "provenance": [],
      "collapsed_sections": [],
      "toc_visible": true,
      "mount_file_id": "1ylc9WQAl4oL7dyfU-kRKR7DefuIEqT3-",
      "authorship_tag": "ABX9TyP5Z5aupg9545ZhC2JbL3+G",
      "include_colab_link": true
    },
    "kernelspec": {
      "name": "python3",
      "display_name": "Python 3"
    },
    "language_info": {
      "name": "python"
    }
  },
  "cells": [
    {
      "cell_type": "markdown",
      "metadata": {
        "id": "view-in-github",
        "colab_type": "text"
      },
      "source": [
        "<a href=\"https://colab.research.google.com/github/aviralrabbit13/Gene-Expression-ML/blob/main/Gene_exp.ipynb\" target=\"_parent\"><img src=\"https://colab.research.google.com/assets/colab-badge.svg\" alt=\"Open In Colab\"/></a>"
      ]
    },
    {
      "cell_type": "markdown",
      "source": [
        "# ML model on Gene Expression of Prostate Cancer"
      ],
      "metadata": {
        "id": "8wZ_Ccg9eCJg"
      }
    },
    {
      "cell_type": "markdown",
      "source": [
        "# Libraries and modules to be used:"
      ],
      "metadata": {
        "id": "xdo6IkS6Z3jH"
      }
    },
    {
      "cell_type": "code",
      "metadata": {
        "id": "ZweWlElYxF2G"
      },
      "source": [
        "import tensorflow as tf\n",
        "import numpy as np\n",
        "import pandas as pd\n",
        "import os \n",
        "import matplotlib.pyplot as plt"
      ],
      "execution_count": 1,
      "outputs": []
    },
    {
      "cell_type": "code",
      "source": [
        "from tensorflow.keras.utils import to_categorical   #Converts a class vector (integers) to binary class matrix.\n",
        "from tensorflow.keras.backend import one_hot        #Computes the one-hot representation of an integer tensor"
      ],
      "metadata": {
        "id": "CNuO5KMWpqRX"
      },
      "execution_count": 2,
      "outputs": []
    },
    {
      "cell_type": "code",
      "source": [
        "from sklearn.model_selection import train_test_split"
      ],
      "metadata": {
        "id": "bicpq0t3puX_"
      },
      "execution_count": 3,
      "outputs": []
    },
    {
      "cell_type": "markdown",
      "source": [
        "# Dataset exploration:"
      ],
      "metadata": {
        "id": "LKvWrRjzaIO-"
      }
    },
    {
      "cell_type": "code",
      "metadata": {
        "colab": {
          "base_uri": "https://localhost:8080/"
        },
        "id": "lQ2RFGcXFhmb",
        "outputId": "b08c515b-2a1c-4aad-c408-415b2e6f155c"
      },
      "source": [
        "os.listdir(\"drive/MyDrive/Gene\")"
      ],
      "execution_count": 16,
      "outputs": [
        {
          "output_type": "execute_result",
          "data": {
            "text/plain": [
              "['data.csv', 'labels.csv', 'split60_40']"
            ]
          },
          "metadata": {},
          "execution_count": 16
        }
      ]
    },
    {
      "cell_type": "code",
      "metadata": {
        "id": "Rlmcs69ONvwm"
      },
      "source": [
        "data = pd.read_csv('drive/MyDrive/Gene/data.csv',delimiter = ',')\n",
        "labels = pd.read_csv('drive/MyDrive/Gene/labels.csv',delimiter = ',')"
      ],
      "execution_count": 5,
      "outputs": []
    },
    {
      "cell_type": "code",
      "metadata": {
        "colab": {
          "base_uri": "https://localhost:8080/",
          "height": 394
        },
        "id": "ZIJ8lxdrO1fA",
        "outputId": "67dd454d-ba3c-4563-f48b-699da9d7829a"
      },
      "source": [
        "data.describe()"
      ],
      "execution_count": 17,
      "outputs": [
        {
          "output_type": "execute_result",
          "data": {
            "text/plain": [
              "           gene_0      gene_1      gene_2      gene_3      gene_4  gene_5  \\\n",
              "count  801.000000  801.000000  801.000000  801.000000  801.000000   801.0   \n",
              "mean     0.026642    3.010909    3.095350    6.722305    9.813612     0.0   \n",
              "std      0.136850    1.200828    1.065601    0.638819    0.506537     0.0   \n",
              "min      0.000000    0.000000    0.000000    5.009284    8.435999     0.0   \n",
              "25%      0.000000    2.299039    2.390365    6.303346    9.464466     0.0   \n",
              "50%      0.000000    3.143687    3.127006    6.655893    9.791599     0.0   \n",
              "75%      0.000000    3.883484    3.802534    7.038447   10.142324     0.0   \n",
              "max      1.482332    6.237034    6.063484   10.129528   11.355621     0.0   \n",
              "\n",
              "           gene_6      gene_7      gene_8      gene_9  ...  gene_20521  \\\n",
              "count  801.000000  801.000000  801.000000  801.000000  ...  801.000000   \n",
              "mean     7.405509    0.499882    0.016744    0.013428  ...    5.896573   \n",
              "std      1.108237    0.508799    0.133635    0.204722  ...    0.746399   \n",
              "min      3.930747    0.000000    0.000000    0.000000  ...    2.853517   \n",
              "25%      6.676042    0.000000    0.000000    0.000000  ...    5.454926   \n",
              "50%      7.450114    0.443076    0.000000    0.000000  ...    5.972582   \n",
              "75%      8.121984    0.789354    0.000000    0.000000  ...    6.411292   \n",
              "max     10.718190    2.779008    1.785592    4.067604  ...    7.771054   \n",
              "\n",
              "       gene_20522  gene_20523  gene_20524  gene_20525  gene_20526  gene_20527  \\\n",
              "count  801.000000  801.000000  801.000000  801.000000  801.000000  801.000000   \n",
              "mean     8.765891   10.056252    4.847727    9.741987   11.742228   10.155271   \n",
              "std      0.603176    0.379278    2.382728    0.533898    0.670371    0.580569   \n",
              "min      6.678368    8.669456    0.000000    7.974942    9.045255    7.530141   \n",
              "25%      8.383834    9.826027    3.130750    9.400747   11.315857    9.836525   \n",
              "50%      8.784144   10.066385    5.444935    9.784524   11.749802   10.191207   \n",
              "75%      9.147136   10.299025    6.637412   10.082269   12.177852   10.578561   \n",
              "max     11.105431   11.318243    9.207495   11.811632   13.715361   11.675653   \n",
              "\n",
              "       gene_20528  gene_20529  gene_20530  \n",
              "count  801.000000  801.000000  801.000000  \n",
              "mean     9.590726    5.528177    0.095411  \n",
              "std      0.563849    2.073859    0.364529  \n",
              "min      7.864533    0.593975    0.000000  \n",
              "25%      9.244219    4.092385    0.000000  \n",
              "50%      9.566511    5.218618    0.000000  \n",
              "75%      9.917888    6.876382    0.000000  \n",
              "max     12.813320   11.205836    5.254133  \n",
              "\n",
              "[8 rows x 20531 columns]"
            ],
            "text/html": [
              "\n",
              "  <div id=\"df-c7c7cccd-16a9-4fc0-9a3c-1b69e5a73068\">\n",
              "    <div class=\"colab-df-container\">\n",
              "      <div>\n",
              "<style scoped>\n",
              "    .dataframe tbody tr th:only-of-type {\n",
              "        vertical-align: middle;\n",
              "    }\n",
              "\n",
              "    .dataframe tbody tr th {\n",
              "        vertical-align: top;\n",
              "    }\n",
              "\n",
              "    .dataframe thead th {\n",
              "        text-align: right;\n",
              "    }\n",
              "</style>\n",
              "<table border=\"1\" class=\"dataframe\">\n",
              "  <thead>\n",
              "    <tr style=\"text-align: right;\">\n",
              "      <th></th>\n",
              "      <th>gene_0</th>\n",
              "      <th>gene_1</th>\n",
              "      <th>gene_2</th>\n",
              "      <th>gene_3</th>\n",
              "      <th>gene_4</th>\n",
              "      <th>gene_5</th>\n",
              "      <th>gene_6</th>\n",
              "      <th>gene_7</th>\n",
              "      <th>gene_8</th>\n",
              "      <th>gene_9</th>\n",
              "      <th>...</th>\n",
              "      <th>gene_20521</th>\n",
              "      <th>gene_20522</th>\n",
              "      <th>gene_20523</th>\n",
              "      <th>gene_20524</th>\n",
              "      <th>gene_20525</th>\n",
              "      <th>gene_20526</th>\n",
              "      <th>gene_20527</th>\n",
              "      <th>gene_20528</th>\n",
              "      <th>gene_20529</th>\n",
              "      <th>gene_20530</th>\n",
              "    </tr>\n",
              "  </thead>\n",
              "  <tbody>\n",
              "    <tr>\n",
              "      <th>count</th>\n",
              "      <td>801.000000</td>\n",
              "      <td>801.000000</td>\n",
              "      <td>801.000000</td>\n",
              "      <td>801.000000</td>\n",
              "      <td>801.000000</td>\n",
              "      <td>801.0</td>\n",
              "      <td>801.000000</td>\n",
              "      <td>801.000000</td>\n",
              "      <td>801.000000</td>\n",
              "      <td>801.000000</td>\n",
              "      <td>...</td>\n",
              "      <td>801.000000</td>\n",
              "      <td>801.000000</td>\n",
              "      <td>801.000000</td>\n",
              "      <td>801.000000</td>\n",
              "      <td>801.000000</td>\n",
              "      <td>801.000000</td>\n",
              "      <td>801.000000</td>\n",
              "      <td>801.000000</td>\n",
              "      <td>801.000000</td>\n",
              "      <td>801.000000</td>\n",
              "    </tr>\n",
              "    <tr>\n",
              "      <th>mean</th>\n",
              "      <td>0.026642</td>\n",
              "      <td>3.010909</td>\n",
              "      <td>3.095350</td>\n",
              "      <td>6.722305</td>\n",
              "      <td>9.813612</td>\n",
              "      <td>0.0</td>\n",
              "      <td>7.405509</td>\n",
              "      <td>0.499882</td>\n",
              "      <td>0.016744</td>\n",
              "      <td>0.013428</td>\n",
              "      <td>...</td>\n",
              "      <td>5.896573</td>\n",
              "      <td>8.765891</td>\n",
              "      <td>10.056252</td>\n",
              "      <td>4.847727</td>\n",
              "      <td>9.741987</td>\n",
              "      <td>11.742228</td>\n",
              "      <td>10.155271</td>\n",
              "      <td>9.590726</td>\n",
              "      <td>5.528177</td>\n",
              "      <td>0.095411</td>\n",
              "    </tr>\n",
              "    <tr>\n",
              "      <th>std</th>\n",
              "      <td>0.136850</td>\n",
              "      <td>1.200828</td>\n",
              "      <td>1.065601</td>\n",
              "      <td>0.638819</td>\n",
              "      <td>0.506537</td>\n",
              "      <td>0.0</td>\n",
              "      <td>1.108237</td>\n",
              "      <td>0.508799</td>\n",
              "      <td>0.133635</td>\n",
              "      <td>0.204722</td>\n",
              "      <td>...</td>\n",
              "      <td>0.746399</td>\n",
              "      <td>0.603176</td>\n",
              "      <td>0.379278</td>\n",
              "      <td>2.382728</td>\n",
              "      <td>0.533898</td>\n",
              "      <td>0.670371</td>\n",
              "      <td>0.580569</td>\n",
              "      <td>0.563849</td>\n",
              "      <td>2.073859</td>\n",
              "      <td>0.364529</td>\n",
              "    </tr>\n",
              "    <tr>\n",
              "      <th>min</th>\n",
              "      <td>0.000000</td>\n",
              "      <td>0.000000</td>\n",
              "      <td>0.000000</td>\n",
              "      <td>5.009284</td>\n",
              "      <td>8.435999</td>\n",
              "      <td>0.0</td>\n",
              "      <td>3.930747</td>\n",
              "      <td>0.000000</td>\n",
              "      <td>0.000000</td>\n",
              "      <td>0.000000</td>\n",
              "      <td>...</td>\n",
              "      <td>2.853517</td>\n",
              "      <td>6.678368</td>\n",
              "      <td>8.669456</td>\n",
              "      <td>0.000000</td>\n",
              "      <td>7.974942</td>\n",
              "      <td>9.045255</td>\n",
              "      <td>7.530141</td>\n",
              "      <td>7.864533</td>\n",
              "      <td>0.593975</td>\n",
              "      <td>0.000000</td>\n",
              "    </tr>\n",
              "    <tr>\n",
              "      <th>25%</th>\n",
              "      <td>0.000000</td>\n",
              "      <td>2.299039</td>\n",
              "      <td>2.390365</td>\n",
              "      <td>6.303346</td>\n",
              "      <td>9.464466</td>\n",
              "      <td>0.0</td>\n",
              "      <td>6.676042</td>\n",
              "      <td>0.000000</td>\n",
              "      <td>0.000000</td>\n",
              "      <td>0.000000</td>\n",
              "      <td>...</td>\n",
              "      <td>5.454926</td>\n",
              "      <td>8.383834</td>\n",
              "      <td>9.826027</td>\n",
              "      <td>3.130750</td>\n",
              "      <td>9.400747</td>\n",
              "      <td>11.315857</td>\n",
              "      <td>9.836525</td>\n",
              "      <td>9.244219</td>\n",
              "      <td>4.092385</td>\n",
              "      <td>0.000000</td>\n",
              "    </tr>\n",
              "    <tr>\n",
              "      <th>50%</th>\n",
              "      <td>0.000000</td>\n",
              "      <td>3.143687</td>\n",
              "      <td>3.127006</td>\n",
              "      <td>6.655893</td>\n",
              "      <td>9.791599</td>\n",
              "      <td>0.0</td>\n",
              "      <td>7.450114</td>\n",
              "      <td>0.443076</td>\n",
              "      <td>0.000000</td>\n",
              "      <td>0.000000</td>\n",
              "      <td>...</td>\n",
              "      <td>5.972582</td>\n",
              "      <td>8.784144</td>\n",
              "      <td>10.066385</td>\n",
              "      <td>5.444935</td>\n",
              "      <td>9.784524</td>\n",
              "      <td>11.749802</td>\n",
              "      <td>10.191207</td>\n",
              "      <td>9.566511</td>\n",
              "      <td>5.218618</td>\n",
              "      <td>0.000000</td>\n",
              "    </tr>\n",
              "    <tr>\n",
              "      <th>75%</th>\n",
              "      <td>0.000000</td>\n",
              "      <td>3.883484</td>\n",
              "      <td>3.802534</td>\n",
              "      <td>7.038447</td>\n",
              "      <td>10.142324</td>\n",
              "      <td>0.0</td>\n",
              "      <td>8.121984</td>\n",
              "      <td>0.789354</td>\n",
              "      <td>0.000000</td>\n",
              "      <td>0.000000</td>\n",
              "      <td>...</td>\n",
              "      <td>6.411292</td>\n",
              "      <td>9.147136</td>\n",
              "      <td>10.299025</td>\n",
              "      <td>6.637412</td>\n",
              "      <td>10.082269</td>\n",
              "      <td>12.177852</td>\n",
              "      <td>10.578561</td>\n",
              "      <td>9.917888</td>\n",
              "      <td>6.876382</td>\n",
              "      <td>0.000000</td>\n",
              "    </tr>\n",
              "    <tr>\n",
              "      <th>max</th>\n",
              "      <td>1.482332</td>\n",
              "      <td>6.237034</td>\n",
              "      <td>6.063484</td>\n",
              "      <td>10.129528</td>\n",
              "      <td>11.355621</td>\n",
              "      <td>0.0</td>\n",
              "      <td>10.718190</td>\n",
              "      <td>2.779008</td>\n",
              "      <td>1.785592</td>\n",
              "      <td>4.067604</td>\n",
              "      <td>...</td>\n",
              "      <td>7.771054</td>\n",
              "      <td>11.105431</td>\n",
              "      <td>11.318243</td>\n",
              "      <td>9.207495</td>\n",
              "      <td>11.811632</td>\n",
              "      <td>13.715361</td>\n",
              "      <td>11.675653</td>\n",
              "      <td>12.813320</td>\n",
              "      <td>11.205836</td>\n",
              "      <td>5.254133</td>\n",
              "    </tr>\n",
              "  </tbody>\n",
              "</table>\n",
              "<p>8 rows × 20531 columns</p>\n",
              "</div>\n",
              "      <button class=\"colab-df-convert\" onclick=\"convertToInteractive('df-c7c7cccd-16a9-4fc0-9a3c-1b69e5a73068')\"\n",
              "              title=\"Convert this dataframe to an interactive table.\"\n",
              "              style=\"display:none;\">\n",
              "        \n",
              "  <svg xmlns=\"http://www.w3.org/2000/svg\" height=\"24px\"viewBox=\"0 0 24 24\"\n",
              "       width=\"24px\">\n",
              "    <path d=\"M0 0h24v24H0V0z\" fill=\"none\"/>\n",
              "    <path d=\"M18.56 5.44l.94 2.06.94-2.06 2.06-.94-2.06-.94-.94-2.06-.94 2.06-2.06.94zm-11 1L8.5 8.5l.94-2.06 2.06-.94-2.06-.94L8.5 2.5l-.94 2.06-2.06.94zm10 10l.94 2.06.94-2.06 2.06-.94-2.06-.94-.94-2.06-.94 2.06-2.06.94z\"/><path d=\"M17.41 7.96l-1.37-1.37c-.4-.4-.92-.59-1.43-.59-.52 0-1.04.2-1.43.59L10.3 9.45l-7.72 7.72c-.78.78-.78 2.05 0 2.83L4 21.41c.39.39.9.59 1.41.59.51 0 1.02-.2 1.41-.59l7.78-7.78 2.81-2.81c.8-.78.8-2.07 0-2.86zM5.41 20L4 18.59l7.72-7.72 1.47 1.35L5.41 20z\"/>\n",
              "  </svg>\n",
              "      </button>\n",
              "      \n",
              "  <style>\n",
              "    .colab-df-container {\n",
              "      display:flex;\n",
              "      flex-wrap:wrap;\n",
              "      gap: 12px;\n",
              "    }\n",
              "\n",
              "    .colab-df-convert {\n",
              "      background-color: #E8F0FE;\n",
              "      border: none;\n",
              "      border-radius: 50%;\n",
              "      cursor: pointer;\n",
              "      display: none;\n",
              "      fill: #1967D2;\n",
              "      height: 32px;\n",
              "      padding: 0 0 0 0;\n",
              "      width: 32px;\n",
              "    }\n",
              "\n",
              "    .colab-df-convert:hover {\n",
              "      background-color: #E2EBFA;\n",
              "      box-shadow: 0px 1px 2px rgba(60, 64, 67, 0.3), 0px 1px 3px 1px rgba(60, 64, 67, 0.15);\n",
              "      fill: #174EA6;\n",
              "    }\n",
              "\n",
              "    [theme=dark] .colab-df-convert {\n",
              "      background-color: #3B4455;\n",
              "      fill: #D2E3FC;\n",
              "    }\n",
              "\n",
              "    [theme=dark] .colab-df-convert:hover {\n",
              "      background-color: #434B5C;\n",
              "      box-shadow: 0px 1px 3px 1px rgba(0, 0, 0, 0.15);\n",
              "      filter: drop-shadow(0px 1px 2px rgba(0, 0, 0, 0.3));\n",
              "      fill: #FFFFFF;\n",
              "    }\n",
              "  </style>\n",
              "\n",
              "      <script>\n",
              "        const buttonEl =\n",
              "          document.querySelector('#df-c7c7cccd-16a9-4fc0-9a3c-1b69e5a73068 button.colab-df-convert');\n",
              "        buttonEl.style.display =\n",
              "          google.colab.kernel.accessAllowed ? 'block' : 'none';\n",
              "\n",
              "        async function convertToInteractive(key) {\n",
              "          const element = document.querySelector('#df-c7c7cccd-16a9-4fc0-9a3c-1b69e5a73068');\n",
              "          const dataTable =\n",
              "            await google.colab.kernel.invokeFunction('convertToInteractive',\n",
              "                                                     [key], {});\n",
              "          if (!dataTable) return;\n",
              "\n",
              "          const docLinkHtml = 'Like what you see? Visit the ' +\n",
              "            '<a target=\"_blank\" href=https://colab.research.google.com/notebooks/data_table.ipynb>data table notebook</a>'\n",
              "            + ' to learn more about interactive tables.';\n",
              "          element.innerHTML = '';\n",
              "          dataTable['output_type'] = 'display_data';\n",
              "          await google.colab.output.renderOutput(dataTable, element);\n",
              "          const docLink = document.createElement('div');\n",
              "          docLink.innerHTML = docLinkHtml;\n",
              "          element.appendChild(docLink);\n",
              "        }\n",
              "      </script>\n",
              "    </div>\n",
              "  </div>\n",
              "  "
            ]
          },
          "metadata": {},
          "execution_count": 17
        }
      ]
    },
    {
      "cell_type": "code",
      "metadata": {
        "colab": {
          "base_uri": "https://localhost:8080/",
          "height": 174
        },
        "id": "YOEExATqPjkm",
        "outputId": "6a7f0cf4-9154-439e-fa81-102e5f5e7a6b"
      },
      "source": [
        "labels.describe() "
      ],
      "execution_count": 7,
      "outputs": [
        {
          "output_type": "execute_result",
          "data": {
            "text/plain": [
              "       Unnamed: 0 Class\n",
              "count         801   801\n",
              "unique        801     5\n",
              "top      sample_0  BRCA\n",
              "freq            1   300"
            ],
            "text/html": [
              "\n",
              "  <div id=\"df-0b645bc3-948f-4228-9ae2-1c956fecbc6a\">\n",
              "    <div class=\"colab-df-container\">\n",
              "      <div>\n",
              "<style scoped>\n",
              "    .dataframe tbody tr th:only-of-type {\n",
              "        vertical-align: middle;\n",
              "    }\n",
              "\n",
              "    .dataframe tbody tr th {\n",
              "        vertical-align: top;\n",
              "    }\n",
              "\n",
              "    .dataframe thead th {\n",
              "        text-align: right;\n",
              "    }\n",
              "</style>\n",
              "<table border=\"1\" class=\"dataframe\">\n",
              "  <thead>\n",
              "    <tr style=\"text-align: right;\">\n",
              "      <th></th>\n",
              "      <th>Unnamed: 0</th>\n",
              "      <th>Class</th>\n",
              "    </tr>\n",
              "  </thead>\n",
              "  <tbody>\n",
              "    <tr>\n",
              "      <th>count</th>\n",
              "      <td>801</td>\n",
              "      <td>801</td>\n",
              "    </tr>\n",
              "    <tr>\n",
              "      <th>unique</th>\n",
              "      <td>801</td>\n",
              "      <td>5</td>\n",
              "    </tr>\n",
              "    <tr>\n",
              "      <th>top</th>\n",
              "      <td>sample_0</td>\n",
              "      <td>BRCA</td>\n",
              "    </tr>\n",
              "    <tr>\n",
              "      <th>freq</th>\n",
              "      <td>1</td>\n",
              "      <td>300</td>\n",
              "    </tr>\n",
              "  </tbody>\n",
              "</table>\n",
              "</div>\n",
              "      <button class=\"colab-df-convert\" onclick=\"convertToInteractive('df-0b645bc3-948f-4228-9ae2-1c956fecbc6a')\"\n",
              "              title=\"Convert this dataframe to an interactive table.\"\n",
              "              style=\"display:none;\">\n",
              "        \n",
              "  <svg xmlns=\"http://www.w3.org/2000/svg\" height=\"24px\"viewBox=\"0 0 24 24\"\n",
              "       width=\"24px\">\n",
              "    <path d=\"M0 0h24v24H0V0z\" fill=\"none\"/>\n",
              "    <path d=\"M18.56 5.44l.94 2.06.94-2.06 2.06-.94-2.06-.94-.94-2.06-.94 2.06-2.06.94zm-11 1L8.5 8.5l.94-2.06 2.06-.94-2.06-.94L8.5 2.5l-.94 2.06-2.06.94zm10 10l.94 2.06.94-2.06 2.06-.94-2.06-.94-.94-2.06-.94 2.06-2.06.94z\"/><path d=\"M17.41 7.96l-1.37-1.37c-.4-.4-.92-.59-1.43-.59-.52 0-1.04.2-1.43.59L10.3 9.45l-7.72 7.72c-.78.78-.78 2.05 0 2.83L4 21.41c.39.39.9.59 1.41.59.51 0 1.02-.2 1.41-.59l7.78-7.78 2.81-2.81c.8-.78.8-2.07 0-2.86zM5.41 20L4 18.59l7.72-7.72 1.47 1.35L5.41 20z\"/>\n",
              "  </svg>\n",
              "      </button>\n",
              "      \n",
              "  <style>\n",
              "    .colab-df-container {\n",
              "      display:flex;\n",
              "      flex-wrap:wrap;\n",
              "      gap: 12px;\n",
              "    }\n",
              "\n",
              "    .colab-df-convert {\n",
              "      background-color: #E8F0FE;\n",
              "      border: none;\n",
              "      border-radius: 50%;\n",
              "      cursor: pointer;\n",
              "      display: none;\n",
              "      fill: #1967D2;\n",
              "      height: 32px;\n",
              "      padding: 0 0 0 0;\n",
              "      width: 32px;\n",
              "    }\n",
              "\n",
              "    .colab-df-convert:hover {\n",
              "      background-color: #E2EBFA;\n",
              "      box-shadow: 0px 1px 2px rgba(60, 64, 67, 0.3), 0px 1px 3px 1px rgba(60, 64, 67, 0.15);\n",
              "      fill: #174EA6;\n",
              "    }\n",
              "\n",
              "    [theme=dark] .colab-df-convert {\n",
              "      background-color: #3B4455;\n",
              "      fill: #D2E3FC;\n",
              "    }\n",
              "\n",
              "    [theme=dark] .colab-df-convert:hover {\n",
              "      background-color: #434B5C;\n",
              "      box-shadow: 0px 1px 3px 1px rgba(0, 0, 0, 0.15);\n",
              "      filter: drop-shadow(0px 1px 2px rgba(0, 0, 0, 0.3));\n",
              "      fill: #FFFFFF;\n",
              "    }\n",
              "  </style>\n",
              "\n",
              "      <script>\n",
              "        const buttonEl =\n",
              "          document.querySelector('#df-0b645bc3-948f-4228-9ae2-1c956fecbc6a button.colab-df-convert');\n",
              "        buttonEl.style.display =\n",
              "          google.colab.kernel.accessAllowed ? 'block' : 'none';\n",
              "\n",
              "        async function convertToInteractive(key) {\n",
              "          const element = document.querySelector('#df-0b645bc3-948f-4228-9ae2-1c956fecbc6a');\n",
              "          const dataTable =\n",
              "            await google.colab.kernel.invokeFunction('convertToInteractive',\n",
              "                                                     [key], {});\n",
              "          if (!dataTable) return;\n",
              "\n",
              "          const docLinkHtml = 'Like what you see? Visit the ' +\n",
              "            '<a target=\"_blank\" href=https://colab.research.google.com/notebooks/data_table.ipynb>data table notebook</a>'\n",
              "            + ' to learn more about interactive tables.';\n",
              "          element.innerHTML = '';\n",
              "          dataTable['output_type'] = 'display_data';\n",
              "          await google.colab.output.renderOutput(dataTable, element);\n",
              "          const docLink = document.createElement('div');\n",
              "          docLink.innerHTML = docLinkHtml;\n",
              "          element.appendChild(docLink);\n",
              "        }\n",
              "      </script>\n",
              "    </div>\n",
              "  </div>\n",
              "  "
            ]
          },
          "metadata": {},
          "execution_count": 7
        }
      ]
    },
    {
      "cell_type": "code",
      "metadata": {
        "colab": {
          "base_uri": "https://localhost:8080/",
          "height": 317
        },
        "id": "6niDK3FYPNGI",
        "outputId": "e06eabd1-c526-4626-9f99-6e01641eb3b7"
      },
      "source": [
        "data.head()"
      ],
      "execution_count": 18,
      "outputs": [
        {
          "output_type": "execute_result",
          "data": {
            "text/plain": [
              "  Unnamed: 0  gene_0    gene_1    gene_2    gene_3     gene_4  gene_5  \\\n",
              "0   sample_0     0.0  2.017209  3.265527  5.478487  10.431999     0.0   \n",
              "1   sample_1     0.0  0.592732  1.588421  7.586157   9.623011     0.0   \n",
              "2   sample_2     0.0  3.511759  4.327199  6.881787   9.870730     0.0   \n",
              "3   sample_3     0.0  3.663618  4.507649  6.659068  10.196184     0.0   \n",
              "4   sample_4     0.0  2.655741  2.821547  6.539454   9.738265     0.0   \n",
              "\n",
              "     gene_6    gene_7  gene_8  ...  gene_20521  gene_20522  gene_20523  \\\n",
              "0  7.175175  0.591871     0.0  ...    4.926711    8.210257    9.723516   \n",
              "1  6.816049  0.000000     0.0  ...    4.593372    7.323865    9.740931   \n",
              "2  6.972130  0.452595     0.0  ...    5.125213    8.127123   10.908640   \n",
              "3  7.843375  0.434882     0.0  ...    6.076566    8.792959   10.141520   \n",
              "4  6.566967  0.360982     0.0  ...    5.996032    8.891425   10.373790   \n",
              "\n",
              "   gene_20524  gene_20525  gene_20526  gene_20527  gene_20528  gene_20529  \\\n",
              "0    7.220030    9.119813   12.003135    9.650743    8.921326    5.286759   \n",
              "1    6.256586    8.381612   12.674552   10.517059    9.397854    2.094168   \n",
              "2    5.401607    9.911597    9.045255    9.788359   10.090470    1.683023   \n",
              "3    8.942805    9.601208   11.392682    9.694814    9.684365    3.292001   \n",
              "4    7.181162    9.846910   11.922439    9.217749    9.461191    5.110372   \n",
              "\n",
              "   gene_20530  \n",
              "0         0.0  \n",
              "1         0.0  \n",
              "2         0.0  \n",
              "3         0.0  \n",
              "4         0.0  \n",
              "\n",
              "[5 rows x 20532 columns]"
            ],
            "text/html": [
              "\n",
              "  <div id=\"df-4cb708f1-b3ef-47ff-87c5-f9df07aed6e0\">\n",
              "    <div class=\"colab-df-container\">\n",
              "      <div>\n",
              "<style scoped>\n",
              "    .dataframe tbody tr th:only-of-type {\n",
              "        vertical-align: middle;\n",
              "    }\n",
              "\n",
              "    .dataframe tbody tr th {\n",
              "        vertical-align: top;\n",
              "    }\n",
              "\n",
              "    .dataframe thead th {\n",
              "        text-align: right;\n",
              "    }\n",
              "</style>\n",
              "<table border=\"1\" class=\"dataframe\">\n",
              "  <thead>\n",
              "    <tr style=\"text-align: right;\">\n",
              "      <th></th>\n",
              "      <th>Unnamed: 0</th>\n",
              "      <th>gene_0</th>\n",
              "      <th>gene_1</th>\n",
              "      <th>gene_2</th>\n",
              "      <th>gene_3</th>\n",
              "      <th>gene_4</th>\n",
              "      <th>gene_5</th>\n",
              "      <th>gene_6</th>\n",
              "      <th>gene_7</th>\n",
              "      <th>gene_8</th>\n",
              "      <th>...</th>\n",
              "      <th>gene_20521</th>\n",
              "      <th>gene_20522</th>\n",
              "      <th>gene_20523</th>\n",
              "      <th>gene_20524</th>\n",
              "      <th>gene_20525</th>\n",
              "      <th>gene_20526</th>\n",
              "      <th>gene_20527</th>\n",
              "      <th>gene_20528</th>\n",
              "      <th>gene_20529</th>\n",
              "      <th>gene_20530</th>\n",
              "    </tr>\n",
              "  </thead>\n",
              "  <tbody>\n",
              "    <tr>\n",
              "      <th>0</th>\n",
              "      <td>sample_0</td>\n",
              "      <td>0.0</td>\n",
              "      <td>2.017209</td>\n",
              "      <td>3.265527</td>\n",
              "      <td>5.478487</td>\n",
              "      <td>10.431999</td>\n",
              "      <td>0.0</td>\n",
              "      <td>7.175175</td>\n",
              "      <td>0.591871</td>\n",
              "      <td>0.0</td>\n",
              "      <td>...</td>\n",
              "      <td>4.926711</td>\n",
              "      <td>8.210257</td>\n",
              "      <td>9.723516</td>\n",
              "      <td>7.220030</td>\n",
              "      <td>9.119813</td>\n",
              "      <td>12.003135</td>\n",
              "      <td>9.650743</td>\n",
              "      <td>8.921326</td>\n",
              "      <td>5.286759</td>\n",
              "      <td>0.0</td>\n",
              "    </tr>\n",
              "    <tr>\n",
              "      <th>1</th>\n",
              "      <td>sample_1</td>\n",
              "      <td>0.0</td>\n",
              "      <td>0.592732</td>\n",
              "      <td>1.588421</td>\n",
              "      <td>7.586157</td>\n",
              "      <td>9.623011</td>\n",
              "      <td>0.0</td>\n",
              "      <td>6.816049</td>\n",
              "      <td>0.000000</td>\n",
              "      <td>0.0</td>\n",
              "      <td>...</td>\n",
              "      <td>4.593372</td>\n",
              "      <td>7.323865</td>\n",
              "      <td>9.740931</td>\n",
              "      <td>6.256586</td>\n",
              "      <td>8.381612</td>\n",
              "      <td>12.674552</td>\n",
              "      <td>10.517059</td>\n",
              "      <td>9.397854</td>\n",
              "      <td>2.094168</td>\n",
              "      <td>0.0</td>\n",
              "    </tr>\n",
              "    <tr>\n",
              "      <th>2</th>\n",
              "      <td>sample_2</td>\n",
              "      <td>0.0</td>\n",
              "      <td>3.511759</td>\n",
              "      <td>4.327199</td>\n",
              "      <td>6.881787</td>\n",
              "      <td>9.870730</td>\n",
              "      <td>0.0</td>\n",
              "      <td>6.972130</td>\n",
              "      <td>0.452595</td>\n",
              "      <td>0.0</td>\n",
              "      <td>...</td>\n",
              "      <td>5.125213</td>\n",
              "      <td>8.127123</td>\n",
              "      <td>10.908640</td>\n",
              "      <td>5.401607</td>\n",
              "      <td>9.911597</td>\n",
              "      <td>9.045255</td>\n",
              "      <td>9.788359</td>\n",
              "      <td>10.090470</td>\n",
              "      <td>1.683023</td>\n",
              "      <td>0.0</td>\n",
              "    </tr>\n",
              "    <tr>\n",
              "      <th>3</th>\n",
              "      <td>sample_3</td>\n",
              "      <td>0.0</td>\n",
              "      <td>3.663618</td>\n",
              "      <td>4.507649</td>\n",
              "      <td>6.659068</td>\n",
              "      <td>10.196184</td>\n",
              "      <td>0.0</td>\n",
              "      <td>7.843375</td>\n",
              "      <td>0.434882</td>\n",
              "      <td>0.0</td>\n",
              "      <td>...</td>\n",
              "      <td>6.076566</td>\n",
              "      <td>8.792959</td>\n",
              "      <td>10.141520</td>\n",
              "      <td>8.942805</td>\n",
              "      <td>9.601208</td>\n",
              "      <td>11.392682</td>\n",
              "      <td>9.694814</td>\n",
              "      <td>9.684365</td>\n",
              "      <td>3.292001</td>\n",
              "      <td>0.0</td>\n",
              "    </tr>\n",
              "    <tr>\n",
              "      <th>4</th>\n",
              "      <td>sample_4</td>\n",
              "      <td>0.0</td>\n",
              "      <td>2.655741</td>\n",
              "      <td>2.821547</td>\n",
              "      <td>6.539454</td>\n",
              "      <td>9.738265</td>\n",
              "      <td>0.0</td>\n",
              "      <td>6.566967</td>\n",
              "      <td>0.360982</td>\n",
              "      <td>0.0</td>\n",
              "      <td>...</td>\n",
              "      <td>5.996032</td>\n",
              "      <td>8.891425</td>\n",
              "      <td>10.373790</td>\n",
              "      <td>7.181162</td>\n",
              "      <td>9.846910</td>\n",
              "      <td>11.922439</td>\n",
              "      <td>9.217749</td>\n",
              "      <td>9.461191</td>\n",
              "      <td>5.110372</td>\n",
              "      <td>0.0</td>\n",
              "    </tr>\n",
              "  </tbody>\n",
              "</table>\n",
              "<p>5 rows × 20532 columns</p>\n",
              "</div>\n",
              "      <button class=\"colab-df-convert\" onclick=\"convertToInteractive('df-4cb708f1-b3ef-47ff-87c5-f9df07aed6e0')\"\n",
              "              title=\"Convert this dataframe to an interactive table.\"\n",
              "              style=\"display:none;\">\n",
              "        \n",
              "  <svg xmlns=\"http://www.w3.org/2000/svg\" height=\"24px\"viewBox=\"0 0 24 24\"\n",
              "       width=\"24px\">\n",
              "    <path d=\"M0 0h24v24H0V0z\" fill=\"none\"/>\n",
              "    <path d=\"M18.56 5.44l.94 2.06.94-2.06 2.06-.94-2.06-.94-.94-2.06-.94 2.06-2.06.94zm-11 1L8.5 8.5l.94-2.06 2.06-.94-2.06-.94L8.5 2.5l-.94 2.06-2.06.94zm10 10l.94 2.06.94-2.06 2.06-.94-2.06-.94-.94-2.06-.94 2.06-2.06.94z\"/><path d=\"M17.41 7.96l-1.37-1.37c-.4-.4-.92-.59-1.43-.59-.52 0-1.04.2-1.43.59L10.3 9.45l-7.72 7.72c-.78.78-.78 2.05 0 2.83L4 21.41c.39.39.9.59 1.41.59.51 0 1.02-.2 1.41-.59l7.78-7.78 2.81-2.81c.8-.78.8-2.07 0-2.86zM5.41 20L4 18.59l7.72-7.72 1.47 1.35L5.41 20z\"/>\n",
              "  </svg>\n",
              "      </button>\n",
              "      \n",
              "  <style>\n",
              "    .colab-df-container {\n",
              "      display:flex;\n",
              "      flex-wrap:wrap;\n",
              "      gap: 12px;\n",
              "    }\n",
              "\n",
              "    .colab-df-convert {\n",
              "      background-color: #E8F0FE;\n",
              "      border: none;\n",
              "      border-radius: 50%;\n",
              "      cursor: pointer;\n",
              "      display: none;\n",
              "      fill: #1967D2;\n",
              "      height: 32px;\n",
              "      padding: 0 0 0 0;\n",
              "      width: 32px;\n",
              "    }\n",
              "\n",
              "    .colab-df-convert:hover {\n",
              "      background-color: #E2EBFA;\n",
              "      box-shadow: 0px 1px 2px rgba(60, 64, 67, 0.3), 0px 1px 3px 1px rgba(60, 64, 67, 0.15);\n",
              "      fill: #174EA6;\n",
              "    }\n",
              "\n",
              "    [theme=dark] .colab-df-convert {\n",
              "      background-color: #3B4455;\n",
              "      fill: #D2E3FC;\n",
              "    }\n",
              "\n",
              "    [theme=dark] .colab-df-convert:hover {\n",
              "      background-color: #434B5C;\n",
              "      box-shadow: 0px 1px 3px 1px rgba(0, 0, 0, 0.15);\n",
              "      filter: drop-shadow(0px 1px 2px rgba(0, 0, 0, 0.3));\n",
              "      fill: #FFFFFF;\n",
              "    }\n",
              "  </style>\n",
              "\n",
              "      <script>\n",
              "        const buttonEl =\n",
              "          document.querySelector('#df-4cb708f1-b3ef-47ff-87c5-f9df07aed6e0 button.colab-df-convert');\n",
              "        buttonEl.style.display =\n",
              "          google.colab.kernel.accessAllowed ? 'block' : 'none';\n",
              "\n",
              "        async function convertToInteractive(key) {\n",
              "          const element = document.querySelector('#df-4cb708f1-b3ef-47ff-87c5-f9df07aed6e0');\n",
              "          const dataTable =\n",
              "            await google.colab.kernel.invokeFunction('convertToInteractive',\n",
              "                                                     [key], {});\n",
              "          if (!dataTable) return;\n",
              "\n",
              "          const docLinkHtml = 'Like what you see? Visit the ' +\n",
              "            '<a target=\"_blank\" href=https://colab.research.google.com/notebooks/data_table.ipynb>data table notebook</a>'\n",
              "            + ' to learn more about interactive tables.';\n",
              "          element.innerHTML = '';\n",
              "          dataTable['output_type'] = 'display_data';\n",
              "          await google.colab.output.renderOutput(dataTable, element);\n",
              "          const docLink = document.createElement('div');\n",
              "          docLink.innerHTML = docLinkHtml;\n",
              "          element.appendChild(docLink);\n",
              "        }\n",
              "      </script>\n",
              "    </div>\n",
              "  </div>\n",
              "  "
            ]
          },
          "metadata": {},
          "execution_count": 18
        }
      ]
    },
    {
      "cell_type": "code",
      "metadata": {
        "colab": {
          "base_uri": "https://localhost:8080/",
          "height": 206
        },
        "id": "6gMjWzS9PUNq",
        "outputId": "83eb707e-4193-4ce9-a17f-d163fa080fd8"
      },
      "source": [
        "labels.head()"
      ],
      "execution_count": 19,
      "outputs": [
        {
          "output_type": "execute_result",
          "data": {
            "text/plain": [
              "  Unnamed: 0  Class\n",
              "0   sample_0      0\n",
              "1   sample_1      1\n",
              "2   sample_2      0\n",
              "3   sample_3      0\n",
              "4   sample_4      2"
            ],
            "text/html": [
              "\n",
              "  <div id=\"df-e8e207fe-f59e-4717-93c8-d72c6f2cb03c\">\n",
              "    <div class=\"colab-df-container\">\n",
              "      <div>\n",
              "<style scoped>\n",
              "    .dataframe tbody tr th:only-of-type {\n",
              "        vertical-align: middle;\n",
              "    }\n",
              "\n",
              "    .dataframe tbody tr th {\n",
              "        vertical-align: top;\n",
              "    }\n",
              "\n",
              "    .dataframe thead th {\n",
              "        text-align: right;\n",
              "    }\n",
              "</style>\n",
              "<table border=\"1\" class=\"dataframe\">\n",
              "  <thead>\n",
              "    <tr style=\"text-align: right;\">\n",
              "      <th></th>\n",
              "      <th>Unnamed: 0</th>\n",
              "      <th>Class</th>\n",
              "    </tr>\n",
              "  </thead>\n",
              "  <tbody>\n",
              "    <tr>\n",
              "      <th>0</th>\n",
              "      <td>sample_0</td>\n",
              "      <td>0</td>\n",
              "    </tr>\n",
              "    <tr>\n",
              "      <th>1</th>\n",
              "      <td>sample_1</td>\n",
              "      <td>1</td>\n",
              "    </tr>\n",
              "    <tr>\n",
              "      <th>2</th>\n",
              "      <td>sample_2</td>\n",
              "      <td>0</td>\n",
              "    </tr>\n",
              "    <tr>\n",
              "      <th>3</th>\n",
              "      <td>sample_3</td>\n",
              "      <td>0</td>\n",
              "    </tr>\n",
              "    <tr>\n",
              "      <th>4</th>\n",
              "      <td>sample_4</td>\n",
              "      <td>2</td>\n",
              "    </tr>\n",
              "  </tbody>\n",
              "</table>\n",
              "</div>\n",
              "      <button class=\"colab-df-convert\" onclick=\"convertToInteractive('df-e8e207fe-f59e-4717-93c8-d72c6f2cb03c')\"\n",
              "              title=\"Convert this dataframe to an interactive table.\"\n",
              "              style=\"display:none;\">\n",
              "        \n",
              "  <svg xmlns=\"http://www.w3.org/2000/svg\" height=\"24px\"viewBox=\"0 0 24 24\"\n",
              "       width=\"24px\">\n",
              "    <path d=\"M0 0h24v24H0V0z\" fill=\"none\"/>\n",
              "    <path d=\"M18.56 5.44l.94 2.06.94-2.06 2.06-.94-2.06-.94-.94-2.06-.94 2.06-2.06.94zm-11 1L8.5 8.5l.94-2.06 2.06-.94-2.06-.94L8.5 2.5l-.94 2.06-2.06.94zm10 10l.94 2.06.94-2.06 2.06-.94-2.06-.94-.94-2.06-.94 2.06-2.06.94z\"/><path d=\"M17.41 7.96l-1.37-1.37c-.4-.4-.92-.59-1.43-.59-.52 0-1.04.2-1.43.59L10.3 9.45l-7.72 7.72c-.78.78-.78 2.05 0 2.83L4 21.41c.39.39.9.59 1.41.59.51 0 1.02-.2 1.41-.59l7.78-7.78 2.81-2.81c.8-.78.8-2.07 0-2.86zM5.41 20L4 18.59l7.72-7.72 1.47 1.35L5.41 20z\"/>\n",
              "  </svg>\n",
              "      </button>\n",
              "      \n",
              "  <style>\n",
              "    .colab-df-container {\n",
              "      display:flex;\n",
              "      flex-wrap:wrap;\n",
              "      gap: 12px;\n",
              "    }\n",
              "\n",
              "    .colab-df-convert {\n",
              "      background-color: #E8F0FE;\n",
              "      border: none;\n",
              "      border-radius: 50%;\n",
              "      cursor: pointer;\n",
              "      display: none;\n",
              "      fill: #1967D2;\n",
              "      height: 32px;\n",
              "      padding: 0 0 0 0;\n",
              "      width: 32px;\n",
              "    }\n",
              "\n",
              "    .colab-df-convert:hover {\n",
              "      background-color: #E2EBFA;\n",
              "      box-shadow: 0px 1px 2px rgba(60, 64, 67, 0.3), 0px 1px 3px 1px rgba(60, 64, 67, 0.15);\n",
              "      fill: #174EA6;\n",
              "    }\n",
              "\n",
              "    [theme=dark] .colab-df-convert {\n",
              "      background-color: #3B4455;\n",
              "      fill: #D2E3FC;\n",
              "    }\n",
              "\n",
              "    [theme=dark] .colab-df-convert:hover {\n",
              "      background-color: #434B5C;\n",
              "      box-shadow: 0px 1px 3px 1px rgba(0, 0, 0, 0.15);\n",
              "      filter: drop-shadow(0px 1px 2px rgba(0, 0, 0, 0.3));\n",
              "      fill: #FFFFFF;\n",
              "    }\n",
              "  </style>\n",
              "\n",
              "      <script>\n",
              "        const buttonEl =\n",
              "          document.querySelector('#df-e8e207fe-f59e-4717-93c8-d72c6f2cb03c button.colab-df-convert');\n",
              "        buttonEl.style.display =\n",
              "          google.colab.kernel.accessAllowed ? 'block' : 'none';\n",
              "\n",
              "        async function convertToInteractive(key) {\n",
              "          const element = document.querySelector('#df-e8e207fe-f59e-4717-93c8-d72c6f2cb03c');\n",
              "          const dataTable =\n",
              "            await google.colab.kernel.invokeFunction('convertToInteractive',\n",
              "                                                     [key], {});\n",
              "          if (!dataTable) return;\n",
              "\n",
              "          const docLinkHtml = 'Like what you see? Visit the ' +\n",
              "            '<a target=\"_blank\" href=https://colab.research.google.com/notebooks/data_table.ipynb>data table notebook</a>'\n",
              "            + ' to learn more about interactive tables.';\n",
              "          element.innerHTML = '';\n",
              "          dataTable['output_type'] = 'display_data';\n",
              "          await google.colab.output.renderOutput(dataTable, element);\n",
              "          const docLink = document.createElement('div');\n",
              "          docLink.innerHTML = docLinkHtml;\n",
              "          element.appendChild(docLink);\n",
              "        }\n",
              "      </script>\n",
              "    </div>\n",
              "  </div>\n",
              "  "
            ]
          },
          "metadata": {},
          "execution_count": 19
        }
      ]
    },
    {
      "cell_type": "code",
      "metadata": {
        "colab": {
          "base_uri": "https://localhost:8080/",
          "height": 505
        },
        "id": "ZRVx0J1KPfpz",
        "outputId": "b7aca395-9f61-4b76-cf90-9ae0f6fe0b3f"
      },
      "source": [
        "data.isnull()"
      ],
      "execution_count": 20,
      "outputs": [
        {
          "output_type": "execute_result",
          "data": {
            "text/plain": [
              "     Unnamed: 0  gene_0  gene_1  gene_2  gene_3  gene_4  gene_5  gene_6  \\\n",
              "0         False   False   False   False   False   False   False   False   \n",
              "1         False   False   False   False   False   False   False   False   \n",
              "2         False   False   False   False   False   False   False   False   \n",
              "3         False   False   False   False   False   False   False   False   \n",
              "4         False   False   False   False   False   False   False   False   \n",
              "..          ...     ...     ...     ...     ...     ...     ...     ...   \n",
              "796       False   False   False   False   False   False   False   False   \n",
              "797       False   False   False   False   False   False   False   False   \n",
              "798       False   False   False   False   False   False   False   False   \n",
              "799       False   False   False   False   False   False   False   False   \n",
              "800       False   False   False   False   False   False   False   False   \n",
              "\n",
              "     gene_7  gene_8  ...  gene_20521  gene_20522  gene_20523  gene_20524  \\\n",
              "0     False   False  ...       False       False       False       False   \n",
              "1     False   False  ...       False       False       False       False   \n",
              "2     False   False  ...       False       False       False       False   \n",
              "3     False   False  ...       False       False       False       False   \n",
              "4     False   False  ...       False       False       False       False   \n",
              "..      ...     ...  ...         ...         ...         ...         ...   \n",
              "796   False   False  ...       False       False       False       False   \n",
              "797   False   False  ...       False       False       False       False   \n",
              "798   False   False  ...       False       False       False       False   \n",
              "799   False   False  ...       False       False       False       False   \n",
              "800   False   False  ...       False       False       False       False   \n",
              "\n",
              "     gene_20525  gene_20526  gene_20527  gene_20528  gene_20529  gene_20530  \n",
              "0         False       False       False       False       False       False  \n",
              "1         False       False       False       False       False       False  \n",
              "2         False       False       False       False       False       False  \n",
              "3         False       False       False       False       False       False  \n",
              "4         False       False       False       False       False       False  \n",
              "..          ...         ...         ...         ...         ...         ...  \n",
              "796       False       False       False       False       False       False  \n",
              "797       False       False       False       False       False       False  \n",
              "798       False       False       False       False       False       False  \n",
              "799       False       False       False       False       False       False  \n",
              "800       False       False       False       False       False       False  \n",
              "\n",
              "[801 rows x 20532 columns]"
            ],
            "text/html": [
              "\n",
              "  <div id=\"df-e1fd8f75-4408-4d5f-b7ca-7be1367c25f0\">\n",
              "    <div class=\"colab-df-container\">\n",
              "      <div>\n",
              "<style scoped>\n",
              "    .dataframe tbody tr th:only-of-type {\n",
              "        vertical-align: middle;\n",
              "    }\n",
              "\n",
              "    .dataframe tbody tr th {\n",
              "        vertical-align: top;\n",
              "    }\n",
              "\n",
              "    .dataframe thead th {\n",
              "        text-align: right;\n",
              "    }\n",
              "</style>\n",
              "<table border=\"1\" class=\"dataframe\">\n",
              "  <thead>\n",
              "    <tr style=\"text-align: right;\">\n",
              "      <th></th>\n",
              "      <th>Unnamed: 0</th>\n",
              "      <th>gene_0</th>\n",
              "      <th>gene_1</th>\n",
              "      <th>gene_2</th>\n",
              "      <th>gene_3</th>\n",
              "      <th>gene_4</th>\n",
              "      <th>gene_5</th>\n",
              "      <th>gene_6</th>\n",
              "      <th>gene_7</th>\n",
              "      <th>gene_8</th>\n",
              "      <th>...</th>\n",
              "      <th>gene_20521</th>\n",
              "      <th>gene_20522</th>\n",
              "      <th>gene_20523</th>\n",
              "      <th>gene_20524</th>\n",
              "      <th>gene_20525</th>\n",
              "      <th>gene_20526</th>\n",
              "      <th>gene_20527</th>\n",
              "      <th>gene_20528</th>\n",
              "      <th>gene_20529</th>\n",
              "      <th>gene_20530</th>\n",
              "    </tr>\n",
              "  </thead>\n",
              "  <tbody>\n",
              "    <tr>\n",
              "      <th>0</th>\n",
              "      <td>False</td>\n",
              "      <td>False</td>\n",
              "      <td>False</td>\n",
              "      <td>False</td>\n",
              "      <td>False</td>\n",
              "      <td>False</td>\n",
              "      <td>False</td>\n",
              "      <td>False</td>\n",
              "      <td>False</td>\n",
              "      <td>False</td>\n",
              "      <td>...</td>\n",
              "      <td>False</td>\n",
              "      <td>False</td>\n",
              "      <td>False</td>\n",
              "      <td>False</td>\n",
              "      <td>False</td>\n",
              "      <td>False</td>\n",
              "      <td>False</td>\n",
              "      <td>False</td>\n",
              "      <td>False</td>\n",
              "      <td>False</td>\n",
              "    </tr>\n",
              "    <tr>\n",
              "      <th>1</th>\n",
              "      <td>False</td>\n",
              "      <td>False</td>\n",
              "      <td>False</td>\n",
              "      <td>False</td>\n",
              "      <td>False</td>\n",
              "      <td>False</td>\n",
              "      <td>False</td>\n",
              "      <td>False</td>\n",
              "      <td>False</td>\n",
              "      <td>False</td>\n",
              "      <td>...</td>\n",
              "      <td>False</td>\n",
              "      <td>False</td>\n",
              "      <td>False</td>\n",
              "      <td>False</td>\n",
              "      <td>False</td>\n",
              "      <td>False</td>\n",
              "      <td>False</td>\n",
              "      <td>False</td>\n",
              "      <td>False</td>\n",
              "      <td>False</td>\n",
              "    </tr>\n",
              "    <tr>\n",
              "      <th>2</th>\n",
              "      <td>False</td>\n",
              "      <td>False</td>\n",
              "      <td>False</td>\n",
              "      <td>False</td>\n",
              "      <td>False</td>\n",
              "      <td>False</td>\n",
              "      <td>False</td>\n",
              "      <td>False</td>\n",
              "      <td>False</td>\n",
              "      <td>False</td>\n",
              "      <td>...</td>\n",
              "      <td>False</td>\n",
              "      <td>False</td>\n",
              "      <td>False</td>\n",
              "      <td>False</td>\n",
              "      <td>False</td>\n",
              "      <td>False</td>\n",
              "      <td>False</td>\n",
              "      <td>False</td>\n",
              "      <td>False</td>\n",
              "      <td>False</td>\n",
              "    </tr>\n",
              "    <tr>\n",
              "      <th>3</th>\n",
              "      <td>False</td>\n",
              "      <td>False</td>\n",
              "      <td>False</td>\n",
              "      <td>False</td>\n",
              "      <td>False</td>\n",
              "      <td>False</td>\n",
              "      <td>False</td>\n",
              "      <td>False</td>\n",
              "      <td>False</td>\n",
              "      <td>False</td>\n",
              "      <td>...</td>\n",
              "      <td>False</td>\n",
              "      <td>False</td>\n",
              "      <td>False</td>\n",
              "      <td>False</td>\n",
              "      <td>False</td>\n",
              "      <td>False</td>\n",
              "      <td>False</td>\n",
              "      <td>False</td>\n",
              "      <td>False</td>\n",
              "      <td>False</td>\n",
              "    </tr>\n",
              "    <tr>\n",
              "      <th>4</th>\n",
              "      <td>False</td>\n",
              "      <td>False</td>\n",
              "      <td>False</td>\n",
              "      <td>False</td>\n",
              "      <td>False</td>\n",
              "      <td>False</td>\n",
              "      <td>False</td>\n",
              "      <td>False</td>\n",
              "      <td>False</td>\n",
              "      <td>False</td>\n",
              "      <td>...</td>\n",
              "      <td>False</td>\n",
              "      <td>False</td>\n",
              "      <td>False</td>\n",
              "      <td>False</td>\n",
              "      <td>False</td>\n",
              "      <td>False</td>\n",
              "      <td>False</td>\n",
              "      <td>False</td>\n",
              "      <td>False</td>\n",
              "      <td>False</td>\n",
              "    </tr>\n",
              "    <tr>\n",
              "      <th>...</th>\n",
              "      <td>...</td>\n",
              "      <td>...</td>\n",
              "      <td>...</td>\n",
              "      <td>...</td>\n",
              "      <td>...</td>\n",
              "      <td>...</td>\n",
              "      <td>...</td>\n",
              "      <td>...</td>\n",
              "      <td>...</td>\n",
              "      <td>...</td>\n",
              "      <td>...</td>\n",
              "      <td>...</td>\n",
              "      <td>...</td>\n",
              "      <td>...</td>\n",
              "      <td>...</td>\n",
              "      <td>...</td>\n",
              "      <td>...</td>\n",
              "      <td>...</td>\n",
              "      <td>...</td>\n",
              "      <td>...</td>\n",
              "      <td>...</td>\n",
              "    </tr>\n",
              "    <tr>\n",
              "      <th>796</th>\n",
              "      <td>False</td>\n",
              "      <td>False</td>\n",
              "      <td>False</td>\n",
              "      <td>False</td>\n",
              "      <td>False</td>\n",
              "      <td>False</td>\n",
              "      <td>False</td>\n",
              "      <td>False</td>\n",
              "      <td>False</td>\n",
              "      <td>False</td>\n",
              "      <td>...</td>\n",
              "      <td>False</td>\n",
              "      <td>False</td>\n",
              "      <td>False</td>\n",
              "      <td>False</td>\n",
              "      <td>False</td>\n",
              "      <td>False</td>\n",
              "      <td>False</td>\n",
              "      <td>False</td>\n",
              "      <td>False</td>\n",
              "      <td>False</td>\n",
              "    </tr>\n",
              "    <tr>\n",
              "      <th>797</th>\n",
              "      <td>False</td>\n",
              "      <td>False</td>\n",
              "      <td>False</td>\n",
              "      <td>False</td>\n",
              "      <td>False</td>\n",
              "      <td>False</td>\n",
              "      <td>False</td>\n",
              "      <td>False</td>\n",
              "      <td>False</td>\n",
              "      <td>False</td>\n",
              "      <td>...</td>\n",
              "      <td>False</td>\n",
              "      <td>False</td>\n",
              "      <td>False</td>\n",
              "      <td>False</td>\n",
              "      <td>False</td>\n",
              "      <td>False</td>\n",
              "      <td>False</td>\n",
              "      <td>False</td>\n",
              "      <td>False</td>\n",
              "      <td>False</td>\n",
              "    </tr>\n",
              "    <tr>\n",
              "      <th>798</th>\n",
              "      <td>False</td>\n",
              "      <td>False</td>\n",
              "      <td>False</td>\n",
              "      <td>False</td>\n",
              "      <td>False</td>\n",
              "      <td>False</td>\n",
              "      <td>False</td>\n",
              "      <td>False</td>\n",
              "      <td>False</td>\n",
              "      <td>False</td>\n",
              "      <td>...</td>\n",
              "      <td>False</td>\n",
              "      <td>False</td>\n",
              "      <td>False</td>\n",
              "      <td>False</td>\n",
              "      <td>False</td>\n",
              "      <td>False</td>\n",
              "      <td>False</td>\n",
              "      <td>False</td>\n",
              "      <td>False</td>\n",
              "      <td>False</td>\n",
              "    </tr>\n",
              "    <tr>\n",
              "      <th>799</th>\n",
              "      <td>False</td>\n",
              "      <td>False</td>\n",
              "      <td>False</td>\n",
              "      <td>False</td>\n",
              "      <td>False</td>\n",
              "      <td>False</td>\n",
              "      <td>False</td>\n",
              "      <td>False</td>\n",
              "      <td>False</td>\n",
              "      <td>False</td>\n",
              "      <td>...</td>\n",
              "      <td>False</td>\n",
              "      <td>False</td>\n",
              "      <td>False</td>\n",
              "      <td>False</td>\n",
              "      <td>False</td>\n",
              "      <td>False</td>\n",
              "      <td>False</td>\n",
              "      <td>False</td>\n",
              "      <td>False</td>\n",
              "      <td>False</td>\n",
              "    </tr>\n",
              "    <tr>\n",
              "      <th>800</th>\n",
              "      <td>False</td>\n",
              "      <td>False</td>\n",
              "      <td>False</td>\n",
              "      <td>False</td>\n",
              "      <td>False</td>\n",
              "      <td>False</td>\n",
              "      <td>False</td>\n",
              "      <td>False</td>\n",
              "      <td>False</td>\n",
              "      <td>False</td>\n",
              "      <td>...</td>\n",
              "      <td>False</td>\n",
              "      <td>False</td>\n",
              "      <td>False</td>\n",
              "      <td>False</td>\n",
              "      <td>False</td>\n",
              "      <td>False</td>\n",
              "      <td>False</td>\n",
              "      <td>False</td>\n",
              "      <td>False</td>\n",
              "      <td>False</td>\n",
              "    </tr>\n",
              "  </tbody>\n",
              "</table>\n",
              "<p>801 rows × 20532 columns</p>\n",
              "</div>\n",
              "      <button class=\"colab-df-convert\" onclick=\"convertToInteractive('df-e1fd8f75-4408-4d5f-b7ca-7be1367c25f0')\"\n",
              "              title=\"Convert this dataframe to an interactive table.\"\n",
              "              style=\"display:none;\">\n",
              "        \n",
              "  <svg xmlns=\"http://www.w3.org/2000/svg\" height=\"24px\"viewBox=\"0 0 24 24\"\n",
              "       width=\"24px\">\n",
              "    <path d=\"M0 0h24v24H0V0z\" fill=\"none\"/>\n",
              "    <path d=\"M18.56 5.44l.94 2.06.94-2.06 2.06-.94-2.06-.94-.94-2.06-.94 2.06-2.06.94zm-11 1L8.5 8.5l.94-2.06 2.06-.94-2.06-.94L8.5 2.5l-.94 2.06-2.06.94zm10 10l.94 2.06.94-2.06 2.06-.94-2.06-.94-.94-2.06-.94 2.06-2.06.94z\"/><path d=\"M17.41 7.96l-1.37-1.37c-.4-.4-.92-.59-1.43-.59-.52 0-1.04.2-1.43.59L10.3 9.45l-7.72 7.72c-.78.78-.78 2.05 0 2.83L4 21.41c.39.39.9.59 1.41.59.51 0 1.02-.2 1.41-.59l7.78-7.78 2.81-2.81c.8-.78.8-2.07 0-2.86zM5.41 20L4 18.59l7.72-7.72 1.47 1.35L5.41 20z\"/>\n",
              "  </svg>\n",
              "      </button>\n",
              "      \n",
              "  <style>\n",
              "    .colab-df-container {\n",
              "      display:flex;\n",
              "      flex-wrap:wrap;\n",
              "      gap: 12px;\n",
              "    }\n",
              "\n",
              "    .colab-df-convert {\n",
              "      background-color: #E8F0FE;\n",
              "      border: none;\n",
              "      border-radius: 50%;\n",
              "      cursor: pointer;\n",
              "      display: none;\n",
              "      fill: #1967D2;\n",
              "      height: 32px;\n",
              "      padding: 0 0 0 0;\n",
              "      width: 32px;\n",
              "    }\n",
              "\n",
              "    .colab-df-convert:hover {\n",
              "      background-color: #E2EBFA;\n",
              "      box-shadow: 0px 1px 2px rgba(60, 64, 67, 0.3), 0px 1px 3px 1px rgba(60, 64, 67, 0.15);\n",
              "      fill: #174EA6;\n",
              "    }\n",
              "\n",
              "    [theme=dark] .colab-df-convert {\n",
              "      background-color: #3B4455;\n",
              "      fill: #D2E3FC;\n",
              "    }\n",
              "\n",
              "    [theme=dark] .colab-df-convert:hover {\n",
              "      background-color: #434B5C;\n",
              "      box-shadow: 0px 1px 3px 1px rgba(0, 0, 0, 0.15);\n",
              "      filter: drop-shadow(0px 1px 2px rgba(0, 0, 0, 0.3));\n",
              "      fill: #FFFFFF;\n",
              "    }\n",
              "  </style>\n",
              "\n",
              "      <script>\n",
              "        const buttonEl =\n",
              "          document.querySelector('#df-e1fd8f75-4408-4d5f-b7ca-7be1367c25f0 button.colab-df-convert');\n",
              "        buttonEl.style.display =\n",
              "          google.colab.kernel.accessAllowed ? 'block' : 'none';\n",
              "\n",
              "        async function convertToInteractive(key) {\n",
              "          const element = document.querySelector('#df-e1fd8f75-4408-4d5f-b7ca-7be1367c25f0');\n",
              "          const dataTable =\n",
              "            await google.colab.kernel.invokeFunction('convertToInteractive',\n",
              "                                                     [key], {});\n",
              "          if (!dataTable) return;\n",
              "\n",
              "          const docLinkHtml = 'Like what you see? Visit the ' +\n",
              "            '<a target=\"_blank\" href=https://colab.research.google.com/notebooks/data_table.ipynb>data table notebook</a>'\n",
              "            + ' to learn more about interactive tables.';\n",
              "          element.innerHTML = '';\n",
              "          dataTable['output_type'] = 'display_data';\n",
              "          await google.colab.output.renderOutput(dataTable, element);\n",
              "          const docLink = document.createElement('div');\n",
              "          docLink.innerHTML = docLinkHtml;\n",
              "          element.appendChild(docLink);\n",
              "        }\n",
              "      </script>\n",
              "    </div>\n",
              "  </div>\n",
              "  "
            ]
          },
          "metadata": {},
          "execution_count": 20
        }
      ]
    },
    {
      "cell_type": "code",
      "metadata": {
        "colab": {
          "base_uri": "https://localhost:8080/"
        },
        "id": "_2apPQHcPcFk",
        "outputId": "d36a1d7b-4df2-4d94-e3f0-d2bf3211f453"
      },
      "source": [
        "data['Unnamed: 0']"
      ],
      "execution_count": 21,
      "outputs": [
        {
          "output_type": "execute_result",
          "data": {
            "text/plain": [
              "0        sample_0\n",
              "1        sample_1\n",
              "2        sample_2\n",
              "3        sample_3\n",
              "4        sample_4\n",
              "          ...    \n",
              "796    sample_796\n",
              "797    sample_797\n",
              "798    sample_798\n",
              "799    sample_799\n",
              "800    sample_800\n",
              "Name: Unnamed: 0, Length: 801, dtype: object"
            ]
          },
          "metadata": {},
          "execution_count": 21
        }
      ]
    },
    {
      "cell_type": "code",
      "metadata": {
        "colab": {
          "base_uri": "https://localhost:8080/"
        },
        "id": "4qnSISfXB-IW",
        "outputId": "f770521b-2f51-43ad-e493-a435efdf379b"
      },
      "source": [
        "labels['Unnamed: 0']"
      ],
      "execution_count": 22,
      "outputs": [
        {
          "output_type": "execute_result",
          "data": {
            "text/plain": [
              "0        sample_0\n",
              "1        sample_1\n",
              "2        sample_2\n",
              "3        sample_3\n",
              "4        sample_4\n",
              "          ...    \n",
              "796    sample_796\n",
              "797    sample_797\n",
              "798    sample_798\n",
              "799    sample_799\n",
              "800    sample_800\n",
              "Name: Unnamed: 0, Length: 801, dtype: object"
            ]
          },
          "metadata": {},
          "execution_count": 22
        }
      ]
    },
    {
      "cell_type": "code",
      "metadata": {
        "colab": {
          "base_uri": "https://localhost:8080/"
        },
        "id": "VlzTWx7HRZ67",
        "outputId": "2dadd57c-63c1-435f-f218-d2585b0be5a2"
      },
      "source": [
        "labels['Class']"
      ],
      "execution_count": 23,
      "outputs": [
        {
          "output_type": "execute_result",
          "data": {
            "text/plain": [
              "0      0\n",
              "1      1\n",
              "2      0\n",
              "3      0\n",
              "4      2\n",
              "      ..\n",
              "796    2\n",
              "797    1\n",
              "798    4\n",
              "799    0\n",
              "800    0\n",
              "Name: Class, Length: 801, dtype: int64"
            ]
          },
          "metadata": {},
          "execution_count": 23
        }
      ]
    },
    {
      "cell_type": "code",
      "source": [
        "labels['Class'].unique()"
      ],
      "metadata": {
        "colab": {
          "base_uri": "https://localhost:8080/"
        },
        "id": "GEWc6vv6sgJX",
        "outputId": "9af03ecb-ebd7-4c7c-b380-69ad16280bff"
      },
      "execution_count": 8,
      "outputs": [
        {
          "output_type": "execute_result",
          "data": {
            "text/plain": [
              "array(['PRAD', 'LUAD', 'BRCA', 'KIRC', 'COAD'], dtype=object)"
            ]
          },
          "metadata": {},
          "execution_count": 8
        }
      ]
    },
    {
      "cell_type": "markdown",
      "source": [
        "We will change the datatype of the labels class to numeric values so we can use one_hot encoder or to-categorical.\n"
      ],
      "metadata": {
        "id": "tOyd8iZTpPiP"
      }
    },
    {
      "cell_type": "code",
      "source": [
        "labels = labels.replace({'PRAD': 0})\n",
        "labels = labels.replace({'LUAD': 1})\n",
        "labels = labels.replace({'BRCA': 2})\n",
        "labels = labels.replace({'KIRC': 3})\n",
        "labels = labels.replace({'COAD': 4})"
      ],
      "metadata": {
        "id": "rcBubPLmtgje"
      },
      "execution_count": 9,
      "outputs": []
    },
    {
      "cell_type": "code",
      "source": [
        "labels['Class'].unique()\n"
      ],
      "metadata": {
        "colab": {
          "base_uri": "https://localhost:8080/"
        },
        "id": "OkanTMfotliW",
        "outputId": "5d54eb00-3685-4bb5-e29e-3255d0a8ab85"
      },
      "execution_count": 10,
      "outputs": [
        {
          "output_type": "execute_result",
          "data": {
            "text/plain": [
              "array([0, 1, 2, 3, 4])"
            ]
          },
          "metadata": {},
          "execution_count": 10
        }
      ]
    },
    {
      "cell_type": "code",
      "metadata": {
        "id": "nkFZ_sLOSVE2"
      },
      "source": [
        "df = pd.DataFrame(data)"
      ],
      "execution_count": 33,
      "outputs": []
    },
    {
      "cell_type": "code",
      "source": [
        "#df.join(labels.set_index('Unnamed: 0'), on='Unnamed: 0'); we changed this unneccessary thing\n",
        "df = pd.merge(df, labels, left_on='Unnamed: 0', right_on='Unnamed: 0', how='left').drop('Unnamed: 0', axis=1)"
      ],
      "metadata": {
        "id": "47HLDgE3t87f",
        "colab": {
          "base_uri": "https://localhost:8080/",
          "height": 328
        },
        "outputId": "397e1fff-1934-41aa-aec7-596173be6b98"
      },
      "execution_count": 32,
      "outputs": [
        {
          "output_type": "error",
          "ename": "KeyError",
          "evalue": "ignored",
          "traceback": [
            "\u001b[0;31m---------------------------------------------------------------------------\u001b[0m",
            "\u001b[0;31mKeyError\u001b[0m                                  Traceback (most recent call last)",
            "\u001b[0;32m<ipython-input-32-c1b727afc79e>\u001b[0m in \u001b[0;36m<module>\u001b[0;34m()\u001b[0m\n\u001b[1;32m      1\u001b[0m \u001b[0;31m#df.join(labels.set_index('Unnamed: 0'), on='Unnamed: 0'); we changed this unneccessary thing\u001b[0m\u001b[0;34m\u001b[0m\u001b[0;34m\u001b[0m\u001b[0;34m\u001b[0m\u001b[0m\n\u001b[0;32m----> 2\u001b[0;31m \u001b[0mdf\u001b[0m \u001b[0;34m=\u001b[0m \u001b[0mpd\u001b[0m\u001b[0;34m.\u001b[0m\u001b[0mmerge\u001b[0m\u001b[0;34m(\u001b[0m\u001b[0mdf\u001b[0m\u001b[0;34m,\u001b[0m \u001b[0mlabels\u001b[0m\u001b[0;34m,\u001b[0m \u001b[0mleft_on\u001b[0m\u001b[0;34m=\u001b[0m\u001b[0;34m'Unnamed: 0'\u001b[0m\u001b[0;34m,\u001b[0m \u001b[0mright_on\u001b[0m\u001b[0;34m=\u001b[0m\u001b[0;34m'Unnamed: 0'\u001b[0m\u001b[0;34m,\u001b[0m \u001b[0mhow\u001b[0m\u001b[0;34m=\u001b[0m\u001b[0;34m'left'\u001b[0m\u001b[0;34m)\u001b[0m\u001b[0;34m.\u001b[0m\u001b[0mdrop\u001b[0m\u001b[0;34m(\u001b[0m\u001b[0;34m'Unnamed: 0'\u001b[0m\u001b[0;34m,\u001b[0m \u001b[0maxis\u001b[0m\u001b[0;34m=\u001b[0m\u001b[0;36m1\u001b[0m\u001b[0;34m)\u001b[0m\u001b[0;34m\u001b[0m\u001b[0;34m\u001b[0m\u001b[0m\n\u001b[0m",
            "\u001b[0;32m/usr/local/lib/python3.7/dist-packages/pandas/core/reshape/merge.py\u001b[0m in \u001b[0;36mmerge\u001b[0;34m(left, right, how, on, left_on, right_on, left_index, right_index, sort, suffixes, copy, indicator, validate)\u001b[0m\n\u001b[1;32m    117\u001b[0m         \u001b[0mcopy\u001b[0m\u001b[0;34m=\u001b[0m\u001b[0mcopy\u001b[0m\u001b[0;34m,\u001b[0m\u001b[0;34m\u001b[0m\u001b[0;34m\u001b[0m\u001b[0m\n\u001b[1;32m    118\u001b[0m         \u001b[0mindicator\u001b[0m\u001b[0;34m=\u001b[0m\u001b[0mindicator\u001b[0m\u001b[0;34m,\u001b[0m\u001b[0;34m\u001b[0m\u001b[0;34m\u001b[0m\u001b[0m\n\u001b[0;32m--> 119\u001b[0;31m         \u001b[0mvalidate\u001b[0m\u001b[0;34m=\u001b[0m\u001b[0mvalidate\u001b[0m\u001b[0;34m,\u001b[0m\u001b[0;34m\u001b[0m\u001b[0;34m\u001b[0m\u001b[0m\n\u001b[0m\u001b[1;32m    120\u001b[0m     )\n\u001b[1;32m    121\u001b[0m     \u001b[0;32mreturn\u001b[0m \u001b[0mop\u001b[0m\u001b[0;34m.\u001b[0m\u001b[0mget_result\u001b[0m\u001b[0;34m(\u001b[0m\u001b[0;34m)\u001b[0m\u001b[0;34m\u001b[0m\u001b[0;34m\u001b[0m\u001b[0m\n",
            "\u001b[0;32m/usr/local/lib/python3.7/dist-packages/pandas/core/reshape/merge.py\u001b[0m in \u001b[0;36m__init__\u001b[0;34m(self, left, right, how, on, left_on, right_on, axis, left_index, right_index, sort, suffixes, copy, indicator, validate)\u001b[0m\n\u001b[1;32m    697\u001b[0m             \u001b[0mself\u001b[0m\u001b[0;34m.\u001b[0m\u001b[0mright_join_keys\u001b[0m\u001b[0;34m,\u001b[0m\u001b[0;34m\u001b[0m\u001b[0;34m\u001b[0m\u001b[0m\n\u001b[1;32m    698\u001b[0m             \u001b[0mself\u001b[0m\u001b[0;34m.\u001b[0m\u001b[0mjoin_names\u001b[0m\u001b[0;34m,\u001b[0m\u001b[0;34m\u001b[0m\u001b[0;34m\u001b[0m\u001b[0m\n\u001b[0;32m--> 699\u001b[0;31m         ) = self._get_merge_keys()\n\u001b[0m\u001b[1;32m    700\u001b[0m \u001b[0;34m\u001b[0m\u001b[0m\n\u001b[1;32m    701\u001b[0m         \u001b[0;31m# validate the merge keys dtypes. We may need to coerce\u001b[0m\u001b[0;34m\u001b[0m\u001b[0;34m\u001b[0m\u001b[0;34m\u001b[0m\u001b[0m\n",
            "\u001b[0;32m/usr/local/lib/python3.7/dist-packages/pandas/core/reshape/merge.py\u001b[0m in \u001b[0;36m_get_merge_keys\u001b[0;34m(self)\u001b[0m\n\u001b[1;32m   1107\u001b[0m                         \u001b[0mright_keys\u001b[0m\u001b[0;34m.\u001b[0m\u001b[0mappend\u001b[0m\u001b[0;34m(\u001b[0m\u001b[0mrk\u001b[0m\u001b[0;34m)\u001b[0m\u001b[0;34m\u001b[0m\u001b[0;34m\u001b[0m\u001b[0m\n\u001b[1;32m   1108\u001b[0m                     \u001b[0;32mif\u001b[0m \u001b[0mlk\u001b[0m \u001b[0;32mis\u001b[0m \u001b[0;32mnot\u001b[0m \u001b[0;32mNone\u001b[0m\u001b[0;34m:\u001b[0m\u001b[0;34m\u001b[0m\u001b[0;34m\u001b[0m\u001b[0m\n\u001b[0;32m-> 1109\u001b[0;31m                         \u001b[0mleft_keys\u001b[0m\u001b[0;34m.\u001b[0m\u001b[0mappend\u001b[0m\u001b[0;34m(\u001b[0m\u001b[0mleft\u001b[0m\u001b[0;34m.\u001b[0m\u001b[0m_get_label_or_level_values\u001b[0m\u001b[0;34m(\u001b[0m\u001b[0mlk\u001b[0m\u001b[0;34m)\u001b[0m\u001b[0;34m)\u001b[0m\u001b[0;34m\u001b[0m\u001b[0;34m\u001b[0m\u001b[0m\n\u001b[0m\u001b[1;32m   1110\u001b[0m                         \u001b[0mjoin_names\u001b[0m\u001b[0;34m.\u001b[0m\u001b[0mappend\u001b[0m\u001b[0;34m(\u001b[0m\u001b[0mlk\u001b[0m\u001b[0;34m)\u001b[0m\u001b[0;34m\u001b[0m\u001b[0;34m\u001b[0m\u001b[0m\n\u001b[1;32m   1111\u001b[0m                     \u001b[0;32melse\u001b[0m\u001b[0;34m:\u001b[0m\u001b[0;34m\u001b[0m\u001b[0;34m\u001b[0m\u001b[0m\n",
            "\u001b[0;32m/usr/local/lib/python3.7/dist-packages/pandas/core/generic.py\u001b[0m in \u001b[0;36m_get_label_or_level_values\u001b[0;34m(self, key, axis)\u001b[0m\n\u001b[1;32m   1777\u001b[0m             \u001b[0mvalues\u001b[0m \u001b[0;34m=\u001b[0m \u001b[0mself\u001b[0m\u001b[0;34m.\u001b[0m\u001b[0maxes\u001b[0m\u001b[0;34m[\u001b[0m\u001b[0maxis\u001b[0m\u001b[0;34m]\u001b[0m\u001b[0;34m.\u001b[0m\u001b[0mget_level_values\u001b[0m\u001b[0;34m(\u001b[0m\u001b[0mkey\u001b[0m\u001b[0;34m)\u001b[0m\u001b[0;34m.\u001b[0m\u001b[0m_values\u001b[0m\u001b[0;34m\u001b[0m\u001b[0;34m\u001b[0m\u001b[0m\n\u001b[1;32m   1778\u001b[0m         \u001b[0;32melse\u001b[0m\u001b[0;34m:\u001b[0m\u001b[0;34m\u001b[0m\u001b[0;34m\u001b[0m\u001b[0m\n\u001b[0;32m-> 1779\u001b[0;31m             \u001b[0;32mraise\u001b[0m \u001b[0mKeyError\u001b[0m\u001b[0;34m(\u001b[0m\u001b[0mkey\u001b[0m\u001b[0;34m)\u001b[0m\u001b[0;34m\u001b[0m\u001b[0;34m\u001b[0m\u001b[0m\n\u001b[0m\u001b[1;32m   1780\u001b[0m \u001b[0;34m\u001b[0m\u001b[0m\n\u001b[1;32m   1781\u001b[0m         \u001b[0;31m# Check for duplicates\u001b[0m\u001b[0;34m\u001b[0m\u001b[0;34m\u001b[0m\u001b[0;34m\u001b[0m\u001b[0m\n",
            "\u001b[0;31mKeyError\u001b[0m: 'Unnamed: 0'"
          ]
        }
      ]
    },
    {
      "cell_type": "code",
      "metadata": {
        "colab": {
          "base_uri": "https://localhost:8080/",
          "height": 487
        },
        "id": "VXZwbPhCU0Zh",
        "outputId": "cc22fab4-bace-4afd-f16c-7edc551f8723"
      },
      "source": [
        "df"
      ],
      "execution_count": 24,
      "outputs": [
        {
          "output_type": "execute_result",
          "data": {
            "text/plain": [
              "     gene_0    gene_1    gene_2    gene_3     gene_4  gene_5    gene_6  \\\n",
              "0       0.0  2.017209  3.265527  5.478487  10.431999     0.0  7.175175   \n",
              "1       0.0  0.592732  1.588421  7.586157   9.623011     0.0  6.816049   \n",
              "2       0.0  3.511759  4.327199  6.881787   9.870730     0.0  6.972130   \n",
              "3       0.0  3.663618  4.507649  6.659068  10.196184     0.0  7.843375   \n",
              "4       0.0  2.655741  2.821547  6.539454   9.738265     0.0  6.566967   \n",
              "..      ...       ...       ...       ...        ...     ...       ...   \n",
              "796     0.0  1.865642  2.718197  7.350099  10.006003     0.0  6.764792   \n",
              "797     0.0  3.942955  4.453807  6.346597  10.056868     0.0  7.320331   \n",
              "798     0.0  3.249582  3.707492  8.185901   9.504082     0.0  7.536589   \n",
              "799     0.0  2.590339  2.787976  7.318624   9.987136     0.0  9.213464   \n",
              "800     0.0  2.325242  3.805932  6.530246   9.560367     0.0  7.957027   \n",
              "\n",
              "       gene_7  gene_8  gene_9  ...  gene_20522  gene_20523  gene_20524  \\\n",
              "0    0.591871     0.0     0.0  ...    8.210257    9.723516    7.220030   \n",
              "1    0.000000     0.0     0.0  ...    7.323865    9.740931    6.256586   \n",
              "2    0.452595     0.0     0.0  ...    8.127123   10.908640    5.401607   \n",
              "3    0.434882     0.0     0.0  ...    8.792959   10.141520    8.942805   \n",
              "4    0.360982     0.0     0.0  ...    8.891425   10.373790    7.181162   \n",
              "..        ...     ...     ...  ...         ...         ...         ...   \n",
              "796  0.496922     0.0     0.0  ...    9.118313   10.004852    4.484415   \n",
              "797  0.000000     0.0     0.0  ...    9.623335    9.823921    6.555327   \n",
              "798  1.811101     0.0     0.0  ...    8.610704   10.485517    3.589763   \n",
              "799  0.000000     0.0     0.0  ...    8.605387   11.004677    4.745888   \n",
              "800  0.000000     0.0     0.0  ...    8.594354   10.243079    9.139459   \n",
              "\n",
              "     gene_20525  gene_20526  gene_20527  gene_20528  gene_20529  gene_20530  \\\n",
              "0      9.119813   12.003135    9.650743    8.921326    5.286759    0.000000   \n",
              "1      8.381612   12.674552   10.517059    9.397854    2.094168    0.000000   \n",
              "2      9.911597    9.045255    9.788359   10.090470    1.683023    0.000000   \n",
              "3      9.601208   11.392682    9.694814    9.684365    3.292001    0.000000   \n",
              "4      9.846910   11.922439    9.217749    9.461191    5.110372    0.000000   \n",
              "..          ...         ...         ...         ...         ...         ...   \n",
              "796    9.614701   12.031267    9.813063   10.092770    8.819269    0.000000   \n",
              "797    9.064002   11.633422   10.317266    8.745983    9.659081    0.000000   \n",
              "798    9.350636   12.180944   10.681194    9.466711    4.677458    0.586693   \n",
              "799    9.626383   11.198279   10.335513   10.400581    5.718751    0.000000   \n",
              "800   10.102934   11.641081   10.607358    9.844794    4.550716    0.000000   \n",
              "\n",
              "     Class  \n",
              "0        0  \n",
              "1        1  \n",
              "2        0  \n",
              "3        0  \n",
              "4        2  \n",
              "..     ...  \n",
              "796      2  \n",
              "797      1  \n",
              "798      4  \n",
              "799      0  \n",
              "800      0  \n",
              "\n",
              "[801 rows x 20532 columns]"
            ],
            "text/html": [
              "\n",
              "  <div id=\"df-fe104a63-f6d7-482d-a297-065c6cccbd48\">\n",
              "    <div class=\"colab-df-container\">\n",
              "      <div>\n",
              "<style scoped>\n",
              "    .dataframe tbody tr th:only-of-type {\n",
              "        vertical-align: middle;\n",
              "    }\n",
              "\n",
              "    .dataframe tbody tr th {\n",
              "        vertical-align: top;\n",
              "    }\n",
              "\n",
              "    .dataframe thead th {\n",
              "        text-align: right;\n",
              "    }\n",
              "</style>\n",
              "<table border=\"1\" class=\"dataframe\">\n",
              "  <thead>\n",
              "    <tr style=\"text-align: right;\">\n",
              "      <th></th>\n",
              "      <th>gene_0</th>\n",
              "      <th>gene_1</th>\n",
              "      <th>gene_2</th>\n",
              "      <th>gene_3</th>\n",
              "      <th>gene_4</th>\n",
              "      <th>gene_5</th>\n",
              "      <th>gene_6</th>\n",
              "      <th>gene_7</th>\n",
              "      <th>gene_8</th>\n",
              "      <th>gene_9</th>\n",
              "      <th>...</th>\n",
              "      <th>gene_20522</th>\n",
              "      <th>gene_20523</th>\n",
              "      <th>gene_20524</th>\n",
              "      <th>gene_20525</th>\n",
              "      <th>gene_20526</th>\n",
              "      <th>gene_20527</th>\n",
              "      <th>gene_20528</th>\n",
              "      <th>gene_20529</th>\n",
              "      <th>gene_20530</th>\n",
              "      <th>Class</th>\n",
              "    </tr>\n",
              "  </thead>\n",
              "  <tbody>\n",
              "    <tr>\n",
              "      <th>0</th>\n",
              "      <td>0.0</td>\n",
              "      <td>2.017209</td>\n",
              "      <td>3.265527</td>\n",
              "      <td>5.478487</td>\n",
              "      <td>10.431999</td>\n",
              "      <td>0.0</td>\n",
              "      <td>7.175175</td>\n",
              "      <td>0.591871</td>\n",
              "      <td>0.0</td>\n",
              "      <td>0.0</td>\n",
              "      <td>...</td>\n",
              "      <td>8.210257</td>\n",
              "      <td>9.723516</td>\n",
              "      <td>7.220030</td>\n",
              "      <td>9.119813</td>\n",
              "      <td>12.003135</td>\n",
              "      <td>9.650743</td>\n",
              "      <td>8.921326</td>\n",
              "      <td>5.286759</td>\n",
              "      <td>0.000000</td>\n",
              "      <td>0</td>\n",
              "    </tr>\n",
              "    <tr>\n",
              "      <th>1</th>\n",
              "      <td>0.0</td>\n",
              "      <td>0.592732</td>\n",
              "      <td>1.588421</td>\n",
              "      <td>7.586157</td>\n",
              "      <td>9.623011</td>\n",
              "      <td>0.0</td>\n",
              "      <td>6.816049</td>\n",
              "      <td>0.000000</td>\n",
              "      <td>0.0</td>\n",
              "      <td>0.0</td>\n",
              "      <td>...</td>\n",
              "      <td>7.323865</td>\n",
              "      <td>9.740931</td>\n",
              "      <td>6.256586</td>\n",
              "      <td>8.381612</td>\n",
              "      <td>12.674552</td>\n",
              "      <td>10.517059</td>\n",
              "      <td>9.397854</td>\n",
              "      <td>2.094168</td>\n",
              "      <td>0.000000</td>\n",
              "      <td>1</td>\n",
              "    </tr>\n",
              "    <tr>\n",
              "      <th>2</th>\n",
              "      <td>0.0</td>\n",
              "      <td>3.511759</td>\n",
              "      <td>4.327199</td>\n",
              "      <td>6.881787</td>\n",
              "      <td>9.870730</td>\n",
              "      <td>0.0</td>\n",
              "      <td>6.972130</td>\n",
              "      <td>0.452595</td>\n",
              "      <td>0.0</td>\n",
              "      <td>0.0</td>\n",
              "      <td>...</td>\n",
              "      <td>8.127123</td>\n",
              "      <td>10.908640</td>\n",
              "      <td>5.401607</td>\n",
              "      <td>9.911597</td>\n",
              "      <td>9.045255</td>\n",
              "      <td>9.788359</td>\n",
              "      <td>10.090470</td>\n",
              "      <td>1.683023</td>\n",
              "      <td>0.000000</td>\n",
              "      <td>0</td>\n",
              "    </tr>\n",
              "    <tr>\n",
              "      <th>3</th>\n",
              "      <td>0.0</td>\n",
              "      <td>3.663618</td>\n",
              "      <td>4.507649</td>\n",
              "      <td>6.659068</td>\n",
              "      <td>10.196184</td>\n",
              "      <td>0.0</td>\n",
              "      <td>7.843375</td>\n",
              "      <td>0.434882</td>\n",
              "      <td>0.0</td>\n",
              "      <td>0.0</td>\n",
              "      <td>...</td>\n",
              "      <td>8.792959</td>\n",
              "      <td>10.141520</td>\n",
              "      <td>8.942805</td>\n",
              "      <td>9.601208</td>\n",
              "      <td>11.392682</td>\n",
              "      <td>9.694814</td>\n",
              "      <td>9.684365</td>\n",
              "      <td>3.292001</td>\n",
              "      <td>0.000000</td>\n",
              "      <td>0</td>\n",
              "    </tr>\n",
              "    <tr>\n",
              "      <th>4</th>\n",
              "      <td>0.0</td>\n",
              "      <td>2.655741</td>\n",
              "      <td>2.821547</td>\n",
              "      <td>6.539454</td>\n",
              "      <td>9.738265</td>\n",
              "      <td>0.0</td>\n",
              "      <td>6.566967</td>\n",
              "      <td>0.360982</td>\n",
              "      <td>0.0</td>\n",
              "      <td>0.0</td>\n",
              "      <td>...</td>\n",
              "      <td>8.891425</td>\n",
              "      <td>10.373790</td>\n",
              "      <td>7.181162</td>\n",
              "      <td>9.846910</td>\n",
              "      <td>11.922439</td>\n",
              "      <td>9.217749</td>\n",
              "      <td>9.461191</td>\n",
              "      <td>5.110372</td>\n",
              "      <td>0.000000</td>\n",
              "      <td>2</td>\n",
              "    </tr>\n",
              "    <tr>\n",
              "      <th>...</th>\n",
              "      <td>...</td>\n",
              "      <td>...</td>\n",
              "      <td>...</td>\n",
              "      <td>...</td>\n",
              "      <td>...</td>\n",
              "      <td>...</td>\n",
              "      <td>...</td>\n",
              "      <td>...</td>\n",
              "      <td>...</td>\n",
              "      <td>...</td>\n",
              "      <td>...</td>\n",
              "      <td>...</td>\n",
              "      <td>...</td>\n",
              "      <td>...</td>\n",
              "      <td>...</td>\n",
              "      <td>...</td>\n",
              "      <td>...</td>\n",
              "      <td>...</td>\n",
              "      <td>...</td>\n",
              "      <td>...</td>\n",
              "      <td>...</td>\n",
              "    </tr>\n",
              "    <tr>\n",
              "      <th>796</th>\n",
              "      <td>0.0</td>\n",
              "      <td>1.865642</td>\n",
              "      <td>2.718197</td>\n",
              "      <td>7.350099</td>\n",
              "      <td>10.006003</td>\n",
              "      <td>0.0</td>\n",
              "      <td>6.764792</td>\n",
              "      <td>0.496922</td>\n",
              "      <td>0.0</td>\n",
              "      <td>0.0</td>\n",
              "      <td>...</td>\n",
              "      <td>9.118313</td>\n",
              "      <td>10.004852</td>\n",
              "      <td>4.484415</td>\n",
              "      <td>9.614701</td>\n",
              "      <td>12.031267</td>\n",
              "      <td>9.813063</td>\n",
              "      <td>10.092770</td>\n",
              "      <td>8.819269</td>\n",
              "      <td>0.000000</td>\n",
              "      <td>2</td>\n",
              "    </tr>\n",
              "    <tr>\n",
              "      <th>797</th>\n",
              "      <td>0.0</td>\n",
              "      <td>3.942955</td>\n",
              "      <td>4.453807</td>\n",
              "      <td>6.346597</td>\n",
              "      <td>10.056868</td>\n",
              "      <td>0.0</td>\n",
              "      <td>7.320331</td>\n",
              "      <td>0.000000</td>\n",
              "      <td>0.0</td>\n",
              "      <td>0.0</td>\n",
              "      <td>...</td>\n",
              "      <td>9.623335</td>\n",
              "      <td>9.823921</td>\n",
              "      <td>6.555327</td>\n",
              "      <td>9.064002</td>\n",
              "      <td>11.633422</td>\n",
              "      <td>10.317266</td>\n",
              "      <td>8.745983</td>\n",
              "      <td>9.659081</td>\n",
              "      <td>0.000000</td>\n",
              "      <td>1</td>\n",
              "    </tr>\n",
              "    <tr>\n",
              "      <th>798</th>\n",
              "      <td>0.0</td>\n",
              "      <td>3.249582</td>\n",
              "      <td>3.707492</td>\n",
              "      <td>8.185901</td>\n",
              "      <td>9.504082</td>\n",
              "      <td>0.0</td>\n",
              "      <td>7.536589</td>\n",
              "      <td>1.811101</td>\n",
              "      <td>0.0</td>\n",
              "      <td>0.0</td>\n",
              "      <td>...</td>\n",
              "      <td>8.610704</td>\n",
              "      <td>10.485517</td>\n",
              "      <td>3.589763</td>\n",
              "      <td>9.350636</td>\n",
              "      <td>12.180944</td>\n",
              "      <td>10.681194</td>\n",
              "      <td>9.466711</td>\n",
              "      <td>4.677458</td>\n",
              "      <td>0.586693</td>\n",
              "      <td>4</td>\n",
              "    </tr>\n",
              "    <tr>\n",
              "      <th>799</th>\n",
              "      <td>0.0</td>\n",
              "      <td>2.590339</td>\n",
              "      <td>2.787976</td>\n",
              "      <td>7.318624</td>\n",
              "      <td>9.987136</td>\n",
              "      <td>0.0</td>\n",
              "      <td>9.213464</td>\n",
              "      <td>0.000000</td>\n",
              "      <td>0.0</td>\n",
              "      <td>0.0</td>\n",
              "      <td>...</td>\n",
              "      <td>8.605387</td>\n",
              "      <td>11.004677</td>\n",
              "      <td>4.745888</td>\n",
              "      <td>9.626383</td>\n",
              "      <td>11.198279</td>\n",
              "      <td>10.335513</td>\n",
              "      <td>10.400581</td>\n",
              "      <td>5.718751</td>\n",
              "      <td>0.000000</td>\n",
              "      <td>0</td>\n",
              "    </tr>\n",
              "    <tr>\n",
              "      <th>800</th>\n",
              "      <td>0.0</td>\n",
              "      <td>2.325242</td>\n",
              "      <td>3.805932</td>\n",
              "      <td>6.530246</td>\n",
              "      <td>9.560367</td>\n",
              "      <td>0.0</td>\n",
              "      <td>7.957027</td>\n",
              "      <td>0.000000</td>\n",
              "      <td>0.0</td>\n",
              "      <td>0.0</td>\n",
              "      <td>...</td>\n",
              "      <td>8.594354</td>\n",
              "      <td>10.243079</td>\n",
              "      <td>9.139459</td>\n",
              "      <td>10.102934</td>\n",
              "      <td>11.641081</td>\n",
              "      <td>10.607358</td>\n",
              "      <td>9.844794</td>\n",
              "      <td>4.550716</td>\n",
              "      <td>0.000000</td>\n",
              "      <td>0</td>\n",
              "    </tr>\n",
              "  </tbody>\n",
              "</table>\n",
              "<p>801 rows × 20532 columns</p>\n",
              "</div>\n",
              "      <button class=\"colab-df-convert\" onclick=\"convertToInteractive('df-fe104a63-f6d7-482d-a297-065c6cccbd48')\"\n",
              "              title=\"Convert this dataframe to an interactive table.\"\n",
              "              style=\"display:none;\">\n",
              "        \n",
              "  <svg xmlns=\"http://www.w3.org/2000/svg\" height=\"24px\"viewBox=\"0 0 24 24\"\n",
              "       width=\"24px\">\n",
              "    <path d=\"M0 0h24v24H0V0z\" fill=\"none\"/>\n",
              "    <path d=\"M18.56 5.44l.94 2.06.94-2.06 2.06-.94-2.06-.94-.94-2.06-.94 2.06-2.06.94zm-11 1L8.5 8.5l.94-2.06 2.06-.94-2.06-.94L8.5 2.5l-.94 2.06-2.06.94zm10 10l.94 2.06.94-2.06 2.06-.94-2.06-.94-.94-2.06-.94 2.06-2.06.94z\"/><path d=\"M17.41 7.96l-1.37-1.37c-.4-.4-.92-.59-1.43-.59-.52 0-1.04.2-1.43.59L10.3 9.45l-7.72 7.72c-.78.78-.78 2.05 0 2.83L4 21.41c.39.39.9.59 1.41.59.51 0 1.02-.2 1.41-.59l7.78-7.78 2.81-2.81c.8-.78.8-2.07 0-2.86zM5.41 20L4 18.59l7.72-7.72 1.47 1.35L5.41 20z\"/>\n",
              "  </svg>\n",
              "      </button>\n",
              "      \n",
              "  <style>\n",
              "    .colab-df-container {\n",
              "      display:flex;\n",
              "      flex-wrap:wrap;\n",
              "      gap: 12px;\n",
              "    }\n",
              "\n",
              "    .colab-df-convert {\n",
              "      background-color: #E8F0FE;\n",
              "      border: none;\n",
              "      border-radius: 50%;\n",
              "      cursor: pointer;\n",
              "      display: none;\n",
              "      fill: #1967D2;\n",
              "      height: 32px;\n",
              "      padding: 0 0 0 0;\n",
              "      width: 32px;\n",
              "    }\n",
              "\n",
              "    .colab-df-convert:hover {\n",
              "      background-color: #E2EBFA;\n",
              "      box-shadow: 0px 1px 2px rgba(60, 64, 67, 0.3), 0px 1px 3px 1px rgba(60, 64, 67, 0.15);\n",
              "      fill: #174EA6;\n",
              "    }\n",
              "\n",
              "    [theme=dark] .colab-df-convert {\n",
              "      background-color: #3B4455;\n",
              "      fill: #D2E3FC;\n",
              "    }\n",
              "\n",
              "    [theme=dark] .colab-df-convert:hover {\n",
              "      background-color: #434B5C;\n",
              "      box-shadow: 0px 1px 3px 1px rgba(0, 0, 0, 0.15);\n",
              "      filter: drop-shadow(0px 1px 2px rgba(0, 0, 0, 0.3));\n",
              "      fill: #FFFFFF;\n",
              "    }\n",
              "  </style>\n",
              "\n",
              "      <script>\n",
              "        const buttonEl =\n",
              "          document.querySelector('#df-fe104a63-f6d7-482d-a297-065c6cccbd48 button.colab-df-convert');\n",
              "        buttonEl.style.display =\n",
              "          google.colab.kernel.accessAllowed ? 'block' : 'none';\n",
              "\n",
              "        async function convertToInteractive(key) {\n",
              "          const element = document.querySelector('#df-fe104a63-f6d7-482d-a297-065c6cccbd48');\n",
              "          const dataTable =\n",
              "            await google.colab.kernel.invokeFunction('convertToInteractive',\n",
              "                                                     [key], {});\n",
              "          if (!dataTable) return;\n",
              "\n",
              "          const docLinkHtml = 'Like what you see? Visit the ' +\n",
              "            '<a target=\"_blank\" href=https://colab.research.google.com/notebooks/data_table.ipynb>data table notebook</a>'\n",
              "            + ' to learn more about interactive tables.';\n",
              "          element.innerHTML = '';\n",
              "          dataTable['output_type'] = 'display_data';\n",
              "          await google.colab.output.renderOutput(dataTable, element);\n",
              "          const docLink = document.createElement('div');\n",
              "          docLink.innerHTML = docLinkHtml;\n",
              "          element.appendChild(docLink);\n",
              "        }\n",
              "      </script>\n",
              "    </div>\n",
              "  </div>\n",
              "  "
            ]
          },
          "metadata": {},
          "execution_count": 24
        }
      ]
    },
    {
      "cell_type": "markdown",
      "source": [
        "We have dropped the labeling of individual samples but it will create no problem since we have unique samples and we have the entries from 0 to 800 respectively of each sample."
      ],
      "metadata": {
        "id": "qu1dzVwduWZf"
      }
    },
    {
      "cell_type": "markdown",
      "source": [
        "# Splitting the dataset into Testing, Training and validation set"
      ],
      "metadata": {
        "id": "Ig5HwuyrpQqK"
      }
    },
    {
      "cell_type": "code",
      "metadata": {
        "id": "tRZvkEWPP8TU"
      },
      "source": [
        "from sklearn.model_selection import train_test_split\n",
        "train, test = train_test_split(df, test_size = 0.4, random_state=42, shuffle = True)"
      ],
      "execution_count": 13,
      "outputs": []
    },
    {
      "cell_type": "code",
      "metadata": {
        "colab": {
          "base_uri": "https://localhost:8080/"
        },
        "id": "GPnpwBQLQgBO",
        "outputId": "48ced4dd-2e36-41d4-ad43-0ca661189cb9"
      },
      "source": [
        "#os.mkdir('drive/MyDrive/Gene/split60_40')\n",
        "os.listdir('drive/MyDrive/Gene')"
      ],
      "execution_count": 36,
      "outputs": [
        {
          "output_type": "execute_result",
          "data": {
            "text/plain": [
              "['data.csv', 'labels.csv', 'split60_40']"
            ]
          },
          "metadata": {},
          "execution_count": 36
        }
      ]
    },
    {
      "cell_type": "code",
      "metadata": {
        "id": "3z4j2-gTbgDq"
      },
      "source": [
        "from pathlib import Path \n",
        "train_path = os.path.join('drive/MyDrive/Gene/split60_40','train.csv')\n",
        "test_path = os.path.join('drive/MyDrive/Gene/split60_40','test.csv') "
      ],
      "execution_count": 37,
      "outputs": []
    },
    {
      "cell_type": "code",
      "metadata": {
        "id": "WajS-pX6b2zG"
      },
      "source": [
        "train.to_csv(train_path, sep=',', index= False)\n",
        "test.to_csv(test_path, sep=',', index= False)"
      ],
      "execution_count": 38,
      "outputs": []
    },
    {
      "cell_type": "code",
      "source": [
        "print(\"Number of example in Training set \" + str(train['Class'].count()));\n",
        "print(\"Number of example in Test set \"+ str(test['Class'].count()));\n",
        "print(\"Number of example in Valid set \"+str(test['Class'].count()))"
      ],
      "metadata": {
        "colab": {
          "base_uri": "https://localhost:8080/"
        },
        "id": "HsAwO49bzG-t",
        "outputId": "38569186-402c-4c4a-d406-c00f42f0e81b"
      },
      "execution_count": 39,
      "outputs": [
        {
          "output_type": "stream",
          "name": "stdout",
          "text": [
            "Number of example in Training set 480\n",
            "Number of example in Test set 321\n",
            "Number of example in Valid set 321\n"
          ]
        }
      ]
    },
    {
      "cell_type": "code",
      "metadata": {
        "id": "hVF0k4kjclDL"
      },
      "source": [
        "test, valid = train_test_split(test, test_size = 0.5,random_state=42,shuffle = True)"
      ],
      "execution_count": 40,
      "outputs": []
    },
    {
      "cell_type": "code",
      "metadata": {
        "id": "mbqCa1TneRy3"
      },
      "source": [
        "test_path = os.path.join('drive/MyDrive/Gene/split60_40','test.csv')\n",
        "valid_path = os.path.join('drive/MyDrive/Gene/split60_40','valid.csv')"
      ],
      "execution_count": 41,
      "outputs": []
    },
    {
      "cell_type": "code",
      "metadata": {
        "id": "vb6ueSpydWe9"
      },
      "source": [
        "test.to_csv(train_path, sep=',', index= False)\n",
        "valid.to_csv(valid_path, sep=',', index= False)"
      ],
      "execution_count": 42,
      "outputs": []
    },
    {
      "cell_type": "code",
      "metadata": {
        "colab": {
          "base_uri": "https://localhost:8080/"
        },
        "id": "9Sik6qG9iUhI",
        "outputId": "48e93f8b-b27e-4f5a-cba9-7288a493fe7f"
      },
      "source": [
        "print(\"number of example in Training set = \"+ str(train['Class'].count()));\n",
        "print(\"number of example in test set = \"+ str(test['Class'].count()));\n",
        "print(\"number of example in valid set = \"+ str(test['Class'].count()));"
      ],
      "execution_count": 43,
      "outputs": [
        {
          "output_type": "stream",
          "name": "stdout",
          "text": [
            "number of example in Training set = 480\n",
            "number of example in test set = 160\n",
            "number of example in valid set = 160\n"
          ]
        }
      ]
    },
    {
      "cell_type": "code",
      "metadata": {
        "id": "FaBJCKVPt5oP"
      },
      "source": [
        "train_labels = train['Class']\n",
        "del train['Class']\n",
        "train_features = train"
      ],
      "execution_count": 44,
      "outputs": []
    },
    {
      "cell_type": "code",
      "metadata": {
        "id": "Ql-rW6hkuREE"
      },
      "source": [
        "test_labels = test['Class']\n",
        "del test['Class']\n",
        "test_features = test\n",
        "\n",
        "valid_labels = valid['Class']\n",
        "del valid['Class']\n",
        "valid_features = valid"
      ],
      "execution_count": 45,
      "outputs": []
    },
    {
      "cell_type": "code",
      "metadata": {
        "id": "7y_2lY_MwRLa",
        "colab": {
          "base_uri": "https://localhost:8080/"
        },
        "outputId": "55733a75-2d2a-44a0-fb4d-5242686f454b"
      },
      "source": [
        "valid_labels"
      ],
      "execution_count": 46,
      "outputs": [
        {
          "output_type": "execute_result",
          "data": {
            "text/plain": [
              "381    3\n",
              "81     0\n",
              "181    3\n",
              "456    1\n",
              "76     2\n",
              "      ..\n",
              "711    3\n",
              "737    2\n",
              "467    2\n",
              "703    3\n",
              "518    1\n",
              "Name: Class, Length: 161, dtype: int64"
            ]
          },
          "metadata": {},
          "execution_count": 46
        }
      ]
    },
    {
      "cell_type": "code",
      "source": [
        "valid_features"
      ],
      "metadata": {
        "colab": {
          "base_uri": "https://localhost:8080/",
          "height": 487
        },
        "id": "jQjN9CmGz0hk",
        "outputId": "55d42288-6ffc-4a69-d897-93e47546de61"
      },
      "execution_count": 47,
      "outputs": [
        {
          "output_type": "execute_result",
          "data": {
            "text/plain": [
              "     gene_0    gene_1    gene_2    gene_3     gene_4  gene_5    gene_6  \\\n",
              "381     0.0  3.170101  3.060895  6.114013   9.746153     0.0  9.524634   \n",
              "81      0.0  2.486663  4.057987  6.784059   9.741900     0.0  7.790603   \n",
              "181     0.0  0.721154  1.697285  6.754634   9.837111     0.0  7.978058   \n",
              "456     0.0  4.126527  3.887993  6.060731   8.763929     0.0  6.260750   \n",
              "76      0.0  3.195537  2.275156  5.719778   9.145591     0.0  7.333683   \n",
              "..      ...       ...       ...       ...        ...     ...       ...   \n",
              "711     0.0  1.889162  3.257524  5.979214  10.296159     0.0  8.182777   \n",
              "737     0.0  3.998728  3.537644  6.336483  10.198433     0.0  6.605121   \n",
              "467     0.0  3.144503  1.053667  6.893386  10.498221     0.0  8.181391   \n",
              "703     0.0  4.143565  3.043834  6.211337   8.791908     0.0  7.691960   \n",
              "518     0.0  3.809857  4.396447  6.908405   9.626833     0.0  7.888755   \n",
              "\n",
              "       gene_7  gene_8  gene_9  ...  gene_20521  gene_20522  gene_20523  \\\n",
              "381  0.612777     0.0     0.0  ...    5.454926    7.577217    9.909059   \n",
              "81   1.155684     0.0     0.0  ...    3.515700    8.594593   10.005863   \n",
              "181  0.868766     0.0     0.0  ...    5.976316    7.807664    9.977309   \n",
              "456  1.031254     0.0     0.0  ...    6.280257    8.995470   10.622674   \n",
              "76   1.192762     0.0     0.0  ...    6.534924    9.382676    9.893725   \n",
              "..        ...     ...     ...  ...         ...         ...         ...   \n",
              "711  1.088684     0.0     0.0  ...    5.577749    7.922971    9.770025   \n",
              "737  0.438825     0.0     0.0  ...    5.782456    9.070140    9.589436   \n",
              "467  0.000000     0.0     0.0  ...    4.906193    7.635769    9.747215   \n",
              "703  1.154907     0.0     0.0  ...    7.238070    9.143623   10.484390   \n",
              "518  1.072312     0.0     0.0  ...    5.347007    8.672210    9.544004   \n",
              "\n",
              "     gene_20524  gene_20525  gene_20526  gene_20527  gene_20528  gene_20529  \\\n",
              "381    5.208814   10.115837   11.606563   10.037368    9.246572    4.886316   \n",
              "81     4.031148    9.694583   10.371461   10.297386    9.239670    4.324307   \n",
              "181    0.868766   10.252571   12.590075   10.138771    9.233598    5.751429   \n",
              "456    2.752984   10.533028   12.077303   10.459001    9.650538    5.230142   \n",
              "76     7.298759    9.906667   11.913095    9.846816    9.708798    5.412016   \n",
              "..          ...         ...         ...         ...         ...         ...   \n",
              "711    0.644687    9.484809   12.210032   10.270062    9.102585    9.324181   \n",
              "737    6.227893   10.301599   11.729030   10.140983    9.519872    8.503579   \n",
              "467    6.085119    9.461506   12.117328    9.241354    9.113622    4.823408   \n",
              "703    4.344878   10.448746   10.912785   10.373365   10.094183    3.857364   \n",
              "518    7.725455    8.989522   12.531603   10.077697    9.320868    9.071653   \n",
              "\n",
              "     gene_20530  \n",
              "381    0.000000  \n",
              "81     0.000000  \n",
              "181    0.000000  \n",
              "456    0.605874  \n",
              "76     0.000000  \n",
              "..          ...  \n",
              "711    0.000000  \n",
              "737    0.000000  \n",
              "467    0.000000  \n",
              "703    0.000000  \n",
              "518    0.000000  \n",
              "\n",
              "[161 rows x 20531 columns]"
            ],
            "text/html": [
              "\n",
              "  <div id=\"df-534403da-ea00-4e02-8749-b69e9855b294\">\n",
              "    <div class=\"colab-df-container\">\n",
              "      <div>\n",
              "<style scoped>\n",
              "    .dataframe tbody tr th:only-of-type {\n",
              "        vertical-align: middle;\n",
              "    }\n",
              "\n",
              "    .dataframe tbody tr th {\n",
              "        vertical-align: top;\n",
              "    }\n",
              "\n",
              "    .dataframe thead th {\n",
              "        text-align: right;\n",
              "    }\n",
              "</style>\n",
              "<table border=\"1\" class=\"dataframe\">\n",
              "  <thead>\n",
              "    <tr style=\"text-align: right;\">\n",
              "      <th></th>\n",
              "      <th>gene_0</th>\n",
              "      <th>gene_1</th>\n",
              "      <th>gene_2</th>\n",
              "      <th>gene_3</th>\n",
              "      <th>gene_4</th>\n",
              "      <th>gene_5</th>\n",
              "      <th>gene_6</th>\n",
              "      <th>gene_7</th>\n",
              "      <th>gene_8</th>\n",
              "      <th>gene_9</th>\n",
              "      <th>...</th>\n",
              "      <th>gene_20521</th>\n",
              "      <th>gene_20522</th>\n",
              "      <th>gene_20523</th>\n",
              "      <th>gene_20524</th>\n",
              "      <th>gene_20525</th>\n",
              "      <th>gene_20526</th>\n",
              "      <th>gene_20527</th>\n",
              "      <th>gene_20528</th>\n",
              "      <th>gene_20529</th>\n",
              "      <th>gene_20530</th>\n",
              "    </tr>\n",
              "  </thead>\n",
              "  <tbody>\n",
              "    <tr>\n",
              "      <th>381</th>\n",
              "      <td>0.0</td>\n",
              "      <td>3.170101</td>\n",
              "      <td>3.060895</td>\n",
              "      <td>6.114013</td>\n",
              "      <td>9.746153</td>\n",
              "      <td>0.0</td>\n",
              "      <td>9.524634</td>\n",
              "      <td>0.612777</td>\n",
              "      <td>0.0</td>\n",
              "      <td>0.0</td>\n",
              "      <td>...</td>\n",
              "      <td>5.454926</td>\n",
              "      <td>7.577217</td>\n",
              "      <td>9.909059</td>\n",
              "      <td>5.208814</td>\n",
              "      <td>10.115837</td>\n",
              "      <td>11.606563</td>\n",
              "      <td>10.037368</td>\n",
              "      <td>9.246572</td>\n",
              "      <td>4.886316</td>\n",
              "      <td>0.000000</td>\n",
              "    </tr>\n",
              "    <tr>\n",
              "      <th>81</th>\n",
              "      <td>0.0</td>\n",
              "      <td>2.486663</td>\n",
              "      <td>4.057987</td>\n",
              "      <td>6.784059</td>\n",
              "      <td>9.741900</td>\n",
              "      <td>0.0</td>\n",
              "      <td>7.790603</td>\n",
              "      <td>1.155684</td>\n",
              "      <td>0.0</td>\n",
              "      <td>0.0</td>\n",
              "      <td>...</td>\n",
              "      <td>3.515700</td>\n",
              "      <td>8.594593</td>\n",
              "      <td>10.005863</td>\n",
              "      <td>4.031148</td>\n",
              "      <td>9.694583</td>\n",
              "      <td>10.371461</td>\n",
              "      <td>10.297386</td>\n",
              "      <td>9.239670</td>\n",
              "      <td>4.324307</td>\n",
              "      <td>0.000000</td>\n",
              "    </tr>\n",
              "    <tr>\n",
              "      <th>181</th>\n",
              "      <td>0.0</td>\n",
              "      <td>0.721154</td>\n",
              "      <td>1.697285</td>\n",
              "      <td>6.754634</td>\n",
              "      <td>9.837111</td>\n",
              "      <td>0.0</td>\n",
              "      <td>7.978058</td>\n",
              "      <td>0.868766</td>\n",
              "      <td>0.0</td>\n",
              "      <td>0.0</td>\n",
              "      <td>...</td>\n",
              "      <td>5.976316</td>\n",
              "      <td>7.807664</td>\n",
              "      <td>9.977309</td>\n",
              "      <td>0.868766</td>\n",
              "      <td>10.252571</td>\n",
              "      <td>12.590075</td>\n",
              "      <td>10.138771</td>\n",
              "      <td>9.233598</td>\n",
              "      <td>5.751429</td>\n",
              "      <td>0.000000</td>\n",
              "    </tr>\n",
              "    <tr>\n",
              "      <th>456</th>\n",
              "      <td>0.0</td>\n",
              "      <td>4.126527</td>\n",
              "      <td>3.887993</td>\n",
              "      <td>6.060731</td>\n",
              "      <td>8.763929</td>\n",
              "      <td>0.0</td>\n",
              "      <td>6.260750</td>\n",
              "      <td>1.031254</td>\n",
              "      <td>0.0</td>\n",
              "      <td>0.0</td>\n",
              "      <td>...</td>\n",
              "      <td>6.280257</td>\n",
              "      <td>8.995470</td>\n",
              "      <td>10.622674</td>\n",
              "      <td>2.752984</td>\n",
              "      <td>10.533028</td>\n",
              "      <td>12.077303</td>\n",
              "      <td>10.459001</td>\n",
              "      <td>9.650538</td>\n",
              "      <td>5.230142</td>\n",
              "      <td>0.605874</td>\n",
              "    </tr>\n",
              "    <tr>\n",
              "      <th>76</th>\n",
              "      <td>0.0</td>\n",
              "      <td>3.195537</td>\n",
              "      <td>2.275156</td>\n",
              "      <td>5.719778</td>\n",
              "      <td>9.145591</td>\n",
              "      <td>0.0</td>\n",
              "      <td>7.333683</td>\n",
              "      <td>1.192762</td>\n",
              "      <td>0.0</td>\n",
              "      <td>0.0</td>\n",
              "      <td>...</td>\n",
              "      <td>6.534924</td>\n",
              "      <td>9.382676</td>\n",
              "      <td>9.893725</td>\n",
              "      <td>7.298759</td>\n",
              "      <td>9.906667</td>\n",
              "      <td>11.913095</td>\n",
              "      <td>9.846816</td>\n",
              "      <td>9.708798</td>\n",
              "      <td>5.412016</td>\n",
              "      <td>0.000000</td>\n",
              "    </tr>\n",
              "    <tr>\n",
              "      <th>...</th>\n",
              "      <td>...</td>\n",
              "      <td>...</td>\n",
              "      <td>...</td>\n",
              "      <td>...</td>\n",
              "      <td>...</td>\n",
              "      <td>...</td>\n",
              "      <td>...</td>\n",
              "      <td>...</td>\n",
              "      <td>...</td>\n",
              "      <td>...</td>\n",
              "      <td>...</td>\n",
              "      <td>...</td>\n",
              "      <td>...</td>\n",
              "      <td>...</td>\n",
              "      <td>...</td>\n",
              "      <td>...</td>\n",
              "      <td>...</td>\n",
              "      <td>...</td>\n",
              "      <td>...</td>\n",
              "      <td>...</td>\n",
              "      <td>...</td>\n",
              "    </tr>\n",
              "    <tr>\n",
              "      <th>711</th>\n",
              "      <td>0.0</td>\n",
              "      <td>1.889162</td>\n",
              "      <td>3.257524</td>\n",
              "      <td>5.979214</td>\n",
              "      <td>10.296159</td>\n",
              "      <td>0.0</td>\n",
              "      <td>8.182777</td>\n",
              "      <td>1.088684</td>\n",
              "      <td>0.0</td>\n",
              "      <td>0.0</td>\n",
              "      <td>...</td>\n",
              "      <td>5.577749</td>\n",
              "      <td>7.922971</td>\n",
              "      <td>9.770025</td>\n",
              "      <td>0.644687</td>\n",
              "      <td>9.484809</td>\n",
              "      <td>12.210032</td>\n",
              "      <td>10.270062</td>\n",
              "      <td>9.102585</td>\n",
              "      <td>9.324181</td>\n",
              "      <td>0.000000</td>\n",
              "    </tr>\n",
              "    <tr>\n",
              "      <th>737</th>\n",
              "      <td>0.0</td>\n",
              "      <td>3.998728</td>\n",
              "      <td>3.537644</td>\n",
              "      <td>6.336483</td>\n",
              "      <td>10.198433</td>\n",
              "      <td>0.0</td>\n",
              "      <td>6.605121</td>\n",
              "      <td>0.438825</td>\n",
              "      <td>0.0</td>\n",
              "      <td>0.0</td>\n",
              "      <td>...</td>\n",
              "      <td>5.782456</td>\n",
              "      <td>9.070140</td>\n",
              "      <td>9.589436</td>\n",
              "      <td>6.227893</td>\n",
              "      <td>10.301599</td>\n",
              "      <td>11.729030</td>\n",
              "      <td>10.140983</td>\n",
              "      <td>9.519872</td>\n",
              "      <td>8.503579</td>\n",
              "      <td>0.000000</td>\n",
              "    </tr>\n",
              "    <tr>\n",
              "      <th>467</th>\n",
              "      <td>0.0</td>\n",
              "      <td>3.144503</td>\n",
              "      <td>1.053667</td>\n",
              "      <td>6.893386</td>\n",
              "      <td>10.498221</td>\n",
              "      <td>0.0</td>\n",
              "      <td>8.181391</td>\n",
              "      <td>0.000000</td>\n",
              "      <td>0.0</td>\n",
              "      <td>0.0</td>\n",
              "      <td>...</td>\n",
              "      <td>4.906193</td>\n",
              "      <td>7.635769</td>\n",
              "      <td>9.747215</td>\n",
              "      <td>6.085119</td>\n",
              "      <td>9.461506</td>\n",
              "      <td>12.117328</td>\n",
              "      <td>9.241354</td>\n",
              "      <td>9.113622</td>\n",
              "      <td>4.823408</td>\n",
              "      <td>0.000000</td>\n",
              "    </tr>\n",
              "    <tr>\n",
              "      <th>703</th>\n",
              "      <td>0.0</td>\n",
              "      <td>4.143565</td>\n",
              "      <td>3.043834</td>\n",
              "      <td>6.211337</td>\n",
              "      <td>8.791908</td>\n",
              "      <td>0.0</td>\n",
              "      <td>7.691960</td>\n",
              "      <td>1.154907</td>\n",
              "      <td>0.0</td>\n",
              "      <td>0.0</td>\n",
              "      <td>...</td>\n",
              "      <td>7.238070</td>\n",
              "      <td>9.143623</td>\n",
              "      <td>10.484390</td>\n",
              "      <td>4.344878</td>\n",
              "      <td>10.448746</td>\n",
              "      <td>10.912785</td>\n",
              "      <td>10.373365</td>\n",
              "      <td>10.094183</td>\n",
              "      <td>3.857364</td>\n",
              "      <td>0.000000</td>\n",
              "    </tr>\n",
              "    <tr>\n",
              "      <th>518</th>\n",
              "      <td>0.0</td>\n",
              "      <td>3.809857</td>\n",
              "      <td>4.396447</td>\n",
              "      <td>6.908405</td>\n",
              "      <td>9.626833</td>\n",
              "      <td>0.0</td>\n",
              "      <td>7.888755</td>\n",
              "      <td>1.072312</td>\n",
              "      <td>0.0</td>\n",
              "      <td>0.0</td>\n",
              "      <td>...</td>\n",
              "      <td>5.347007</td>\n",
              "      <td>8.672210</td>\n",
              "      <td>9.544004</td>\n",
              "      <td>7.725455</td>\n",
              "      <td>8.989522</td>\n",
              "      <td>12.531603</td>\n",
              "      <td>10.077697</td>\n",
              "      <td>9.320868</td>\n",
              "      <td>9.071653</td>\n",
              "      <td>0.000000</td>\n",
              "    </tr>\n",
              "  </tbody>\n",
              "</table>\n",
              "<p>161 rows × 20531 columns</p>\n",
              "</div>\n",
              "      <button class=\"colab-df-convert\" onclick=\"convertToInteractive('df-534403da-ea00-4e02-8749-b69e9855b294')\"\n",
              "              title=\"Convert this dataframe to an interactive table.\"\n",
              "              style=\"display:none;\">\n",
              "        \n",
              "  <svg xmlns=\"http://www.w3.org/2000/svg\" height=\"24px\"viewBox=\"0 0 24 24\"\n",
              "       width=\"24px\">\n",
              "    <path d=\"M0 0h24v24H0V0z\" fill=\"none\"/>\n",
              "    <path d=\"M18.56 5.44l.94 2.06.94-2.06 2.06-.94-2.06-.94-.94-2.06-.94 2.06-2.06.94zm-11 1L8.5 8.5l.94-2.06 2.06-.94-2.06-.94L8.5 2.5l-.94 2.06-2.06.94zm10 10l.94 2.06.94-2.06 2.06-.94-2.06-.94-.94-2.06-.94 2.06-2.06.94z\"/><path d=\"M17.41 7.96l-1.37-1.37c-.4-.4-.92-.59-1.43-.59-.52 0-1.04.2-1.43.59L10.3 9.45l-7.72 7.72c-.78.78-.78 2.05 0 2.83L4 21.41c.39.39.9.59 1.41.59.51 0 1.02-.2 1.41-.59l7.78-7.78 2.81-2.81c.8-.78.8-2.07 0-2.86zM5.41 20L4 18.59l7.72-7.72 1.47 1.35L5.41 20z\"/>\n",
              "  </svg>\n",
              "      </button>\n",
              "      \n",
              "  <style>\n",
              "    .colab-df-container {\n",
              "      display:flex;\n",
              "      flex-wrap:wrap;\n",
              "      gap: 12px;\n",
              "    }\n",
              "\n",
              "    .colab-df-convert {\n",
              "      background-color: #E8F0FE;\n",
              "      border: none;\n",
              "      border-radius: 50%;\n",
              "      cursor: pointer;\n",
              "      display: none;\n",
              "      fill: #1967D2;\n",
              "      height: 32px;\n",
              "      padding: 0 0 0 0;\n",
              "      width: 32px;\n",
              "    }\n",
              "\n",
              "    .colab-df-convert:hover {\n",
              "      background-color: #E2EBFA;\n",
              "      box-shadow: 0px 1px 2px rgba(60, 64, 67, 0.3), 0px 1px 3px 1px rgba(60, 64, 67, 0.15);\n",
              "      fill: #174EA6;\n",
              "    }\n",
              "\n",
              "    [theme=dark] .colab-df-convert {\n",
              "      background-color: #3B4455;\n",
              "      fill: #D2E3FC;\n",
              "    }\n",
              "\n",
              "    [theme=dark] .colab-df-convert:hover {\n",
              "      background-color: #434B5C;\n",
              "      box-shadow: 0px 1px 3px 1px rgba(0, 0, 0, 0.15);\n",
              "      filter: drop-shadow(0px 1px 2px rgba(0, 0, 0, 0.3));\n",
              "      fill: #FFFFFF;\n",
              "    }\n",
              "  </style>\n",
              "\n",
              "      <script>\n",
              "        const buttonEl =\n",
              "          document.querySelector('#df-534403da-ea00-4e02-8749-b69e9855b294 button.colab-df-convert');\n",
              "        buttonEl.style.display =\n",
              "          google.colab.kernel.accessAllowed ? 'block' : 'none';\n",
              "\n",
              "        async function convertToInteractive(key) {\n",
              "          const element = document.querySelector('#df-534403da-ea00-4e02-8749-b69e9855b294');\n",
              "          const dataTable =\n",
              "            await google.colab.kernel.invokeFunction('convertToInteractive',\n",
              "                                                     [key], {});\n",
              "          if (!dataTable) return;\n",
              "\n",
              "          const docLinkHtml = 'Like what you see? Visit the ' +\n",
              "            '<a target=\"_blank\" href=https://colab.research.google.com/notebooks/data_table.ipynb>data table notebook</a>'\n",
              "            + ' to learn more about interactive tables.';\n",
              "          element.innerHTML = '';\n",
              "          dataTable['output_type'] = 'display_data';\n",
              "          await google.colab.output.renderOutput(dataTable, element);\n",
              "          const docLink = document.createElement('div');\n",
              "          docLink.innerHTML = docLinkHtml;\n",
              "          element.appendChild(docLink);\n",
              "        }\n",
              "      </script>\n",
              "    </div>\n",
              "  </div>\n",
              "  "
            ]
          },
          "metadata": {},
          "execution_count": 47
        }
      ]
    },
    {
      "cell_type": "code",
      "source": [
        "test_labels"
      ],
      "metadata": {
        "colab": {
          "base_uri": "https://localhost:8080/"
        },
        "id": "RmQhASLmz6_8",
        "outputId": "4da49807-ee7a-41b4-de66-6648e8bfce10"
      },
      "execution_count": 48,
      "outputs": [
        {
          "output_type": "execute_result",
          "data": {
            "text/plain": [
              "63     1\n",
              "110    0\n",
              "79     4\n",
              "69     2\n",
              "316    3\n",
              "      ..\n",
              "431    4\n",
              "192    1\n",
              "352    2\n",
              "83     2\n",
              "97     2\n",
              "Name: Class, Length: 160, dtype: int64"
            ]
          },
          "metadata": {},
          "execution_count": 48
        }
      ]
    },
    {
      "cell_type": "code",
      "source": [
        "test_features"
      ],
      "metadata": {
        "colab": {
          "base_uri": "https://localhost:8080/",
          "height": 487
        },
        "id": "2aOFw34cz0Qs",
        "outputId": "0e367b04-5b60-42d3-e4e0-3cb02be68245"
      },
      "execution_count": 49,
      "outputs": [
        {
          "output_type": "execute_result",
          "data": {
            "text/plain": [
              "       gene_0    gene_1    gene_2    gene_3     gene_4  gene_5    gene_6  \\\n",
              "63   0.000000  4.418817  3.555374  6.468829   9.777303     0.0  6.361089   \n",
              "110  0.000000  0.000000  3.830610  5.595736  10.520864     0.0  9.021033   \n",
              "79   0.000000  3.219029  2.284781  8.124178  10.386132     0.0  5.780310   \n",
              "69   0.000000  2.471942  2.868292  7.696536  10.273143     0.0  6.713943   \n",
              "316  0.000000  4.365686  4.142609  6.310825   8.623929     0.0  8.268182   \n",
              "..        ...       ...       ...       ...        ...     ...       ...   \n",
              "431  0.000000  2.603407  3.303620  8.546624  10.954603     0.0  6.526396   \n",
              "192  0.531868  3.755486  1.868963  6.726123  10.859449     0.0  7.610154   \n",
              "352  0.000000  3.045356  2.839234  5.992823   9.867693     0.0  6.527726   \n",
              "83   0.000000  2.306437  2.063227  6.984339   9.921173     0.0  7.694170   \n",
              "97   0.000000  2.517704  3.030407  5.901779   9.736554     0.0  6.648996   \n",
              "\n",
              "       gene_7  gene_8  gene_9  ...  gene_20521  gene_20522  gene_20523  \\\n",
              "63   0.000000     0.0     0.0  ...    5.609722    8.692375   10.391888   \n",
              "110  0.000000     0.0     0.0  ...    5.009746    7.875669    9.844736   \n",
              "79   0.521252     0.0     0.0  ...    4.235850    8.706959    9.637483   \n",
              "69   0.000000     0.0     0.0  ...    5.333814    8.119590   10.329471   \n",
              "316  1.436801     0.0     0.0  ...    7.016452    8.868810   10.720501   \n",
              "..        ...     ...     ...  ...         ...         ...         ...   \n",
              "431  0.997473     0.0     0.0  ...    4.750033    8.437918    9.373261   \n",
              "192  0.000000     0.0     0.0  ...    4.884266    8.129752    9.938672   \n",
              "352  0.408277     0.0     0.0  ...    6.116192    9.025466   10.556573   \n",
              "83   0.630499     0.0     0.0  ...    6.223498   10.050583   10.509716   \n",
              "97   0.402176     0.0     0.0  ...    6.503199    9.405503   10.299025   \n",
              "\n",
              "     gene_20524  gene_20525  gene_20526  gene_20527  gene_20528  gene_20529  \\\n",
              "63     2.116697    9.751472   11.838751   10.293035    9.147676    4.538966   \n",
              "110    7.168492    8.639825   11.265838    9.713600    7.963919    4.537433   \n",
              "79     0.521252    9.059715   12.218963   10.892148    9.083054    3.460572   \n",
              "69     6.656920    9.024838   13.491289   10.173877    8.951643    6.222824   \n",
              "316    1.995521   10.332137   11.305788   11.012834    9.786600    4.141212   \n",
              "..          ...         ...         ...         ...         ...         ...   \n",
              "431    0.000000    8.604153   13.220469    9.442050    8.359108    4.518743   \n",
              "192    6.847158    9.011046   11.632282    9.872284    9.073266    9.106317   \n",
              "352    4.144291   10.082269   11.218805   10.592167    9.637623    4.598449   \n",
              "83     5.891813   10.135286   11.475597   10.129296   10.229528    3.547030   \n",
              "97     5.259235    9.395206   11.307633   10.276764    9.890615    8.811314   \n",
              "\n",
              "     gene_20530  \n",
              "63     0.000000  \n",
              "110    0.000000  \n",
              "79     0.000000  \n",
              "69     0.000000  \n",
              "316    0.512783  \n",
              "..          ...  \n",
              "431    0.000000  \n",
              "192    0.000000  \n",
              "352    0.000000  \n",
              "83     0.000000  \n",
              "97     0.000000  \n",
              "\n",
              "[160 rows x 20531 columns]"
            ],
            "text/html": [
              "\n",
              "  <div id=\"df-49f7ec7a-191e-47c3-a7b0-eb087b34b01c\">\n",
              "    <div class=\"colab-df-container\">\n",
              "      <div>\n",
              "<style scoped>\n",
              "    .dataframe tbody tr th:only-of-type {\n",
              "        vertical-align: middle;\n",
              "    }\n",
              "\n",
              "    .dataframe tbody tr th {\n",
              "        vertical-align: top;\n",
              "    }\n",
              "\n",
              "    .dataframe thead th {\n",
              "        text-align: right;\n",
              "    }\n",
              "</style>\n",
              "<table border=\"1\" class=\"dataframe\">\n",
              "  <thead>\n",
              "    <tr style=\"text-align: right;\">\n",
              "      <th></th>\n",
              "      <th>gene_0</th>\n",
              "      <th>gene_1</th>\n",
              "      <th>gene_2</th>\n",
              "      <th>gene_3</th>\n",
              "      <th>gene_4</th>\n",
              "      <th>gene_5</th>\n",
              "      <th>gene_6</th>\n",
              "      <th>gene_7</th>\n",
              "      <th>gene_8</th>\n",
              "      <th>gene_9</th>\n",
              "      <th>...</th>\n",
              "      <th>gene_20521</th>\n",
              "      <th>gene_20522</th>\n",
              "      <th>gene_20523</th>\n",
              "      <th>gene_20524</th>\n",
              "      <th>gene_20525</th>\n",
              "      <th>gene_20526</th>\n",
              "      <th>gene_20527</th>\n",
              "      <th>gene_20528</th>\n",
              "      <th>gene_20529</th>\n",
              "      <th>gene_20530</th>\n",
              "    </tr>\n",
              "  </thead>\n",
              "  <tbody>\n",
              "    <tr>\n",
              "      <th>63</th>\n",
              "      <td>0.000000</td>\n",
              "      <td>4.418817</td>\n",
              "      <td>3.555374</td>\n",
              "      <td>6.468829</td>\n",
              "      <td>9.777303</td>\n",
              "      <td>0.0</td>\n",
              "      <td>6.361089</td>\n",
              "      <td>0.000000</td>\n",
              "      <td>0.0</td>\n",
              "      <td>0.0</td>\n",
              "      <td>...</td>\n",
              "      <td>5.609722</td>\n",
              "      <td>8.692375</td>\n",
              "      <td>10.391888</td>\n",
              "      <td>2.116697</td>\n",
              "      <td>9.751472</td>\n",
              "      <td>11.838751</td>\n",
              "      <td>10.293035</td>\n",
              "      <td>9.147676</td>\n",
              "      <td>4.538966</td>\n",
              "      <td>0.000000</td>\n",
              "    </tr>\n",
              "    <tr>\n",
              "      <th>110</th>\n",
              "      <td>0.000000</td>\n",
              "      <td>0.000000</td>\n",
              "      <td>3.830610</td>\n",
              "      <td>5.595736</td>\n",
              "      <td>10.520864</td>\n",
              "      <td>0.0</td>\n",
              "      <td>9.021033</td>\n",
              "      <td>0.000000</td>\n",
              "      <td>0.0</td>\n",
              "      <td>0.0</td>\n",
              "      <td>...</td>\n",
              "      <td>5.009746</td>\n",
              "      <td>7.875669</td>\n",
              "      <td>9.844736</td>\n",
              "      <td>7.168492</td>\n",
              "      <td>8.639825</td>\n",
              "      <td>11.265838</td>\n",
              "      <td>9.713600</td>\n",
              "      <td>7.963919</td>\n",
              "      <td>4.537433</td>\n",
              "      <td>0.000000</td>\n",
              "    </tr>\n",
              "    <tr>\n",
              "      <th>79</th>\n",
              "      <td>0.000000</td>\n",
              "      <td>3.219029</td>\n",
              "      <td>2.284781</td>\n",
              "      <td>8.124178</td>\n",
              "      <td>10.386132</td>\n",
              "      <td>0.0</td>\n",
              "      <td>5.780310</td>\n",
              "      <td>0.521252</td>\n",
              "      <td>0.0</td>\n",
              "      <td>0.0</td>\n",
              "      <td>...</td>\n",
              "      <td>4.235850</td>\n",
              "      <td>8.706959</td>\n",
              "      <td>9.637483</td>\n",
              "      <td>0.521252</td>\n",
              "      <td>9.059715</td>\n",
              "      <td>12.218963</td>\n",
              "      <td>10.892148</td>\n",
              "      <td>9.083054</td>\n",
              "      <td>3.460572</td>\n",
              "      <td>0.000000</td>\n",
              "    </tr>\n",
              "    <tr>\n",
              "      <th>69</th>\n",
              "      <td>0.000000</td>\n",
              "      <td>2.471942</td>\n",
              "      <td>2.868292</td>\n",
              "      <td>7.696536</td>\n",
              "      <td>10.273143</td>\n",
              "      <td>0.0</td>\n",
              "      <td>6.713943</td>\n",
              "      <td>0.000000</td>\n",
              "      <td>0.0</td>\n",
              "      <td>0.0</td>\n",
              "      <td>...</td>\n",
              "      <td>5.333814</td>\n",
              "      <td>8.119590</td>\n",
              "      <td>10.329471</td>\n",
              "      <td>6.656920</td>\n",
              "      <td>9.024838</td>\n",
              "      <td>13.491289</td>\n",
              "      <td>10.173877</td>\n",
              "      <td>8.951643</td>\n",
              "      <td>6.222824</td>\n",
              "      <td>0.000000</td>\n",
              "    </tr>\n",
              "    <tr>\n",
              "      <th>316</th>\n",
              "      <td>0.000000</td>\n",
              "      <td>4.365686</td>\n",
              "      <td>4.142609</td>\n",
              "      <td>6.310825</td>\n",
              "      <td>8.623929</td>\n",
              "      <td>0.0</td>\n",
              "      <td>8.268182</td>\n",
              "      <td>1.436801</td>\n",
              "      <td>0.0</td>\n",
              "      <td>0.0</td>\n",
              "      <td>...</td>\n",
              "      <td>7.016452</td>\n",
              "      <td>8.868810</td>\n",
              "      <td>10.720501</td>\n",
              "      <td>1.995521</td>\n",
              "      <td>10.332137</td>\n",
              "      <td>11.305788</td>\n",
              "      <td>11.012834</td>\n",
              "      <td>9.786600</td>\n",
              "      <td>4.141212</td>\n",
              "      <td>0.512783</td>\n",
              "    </tr>\n",
              "    <tr>\n",
              "      <th>...</th>\n",
              "      <td>...</td>\n",
              "      <td>...</td>\n",
              "      <td>...</td>\n",
              "      <td>...</td>\n",
              "      <td>...</td>\n",
              "      <td>...</td>\n",
              "      <td>...</td>\n",
              "      <td>...</td>\n",
              "      <td>...</td>\n",
              "      <td>...</td>\n",
              "      <td>...</td>\n",
              "      <td>...</td>\n",
              "      <td>...</td>\n",
              "      <td>...</td>\n",
              "      <td>...</td>\n",
              "      <td>...</td>\n",
              "      <td>...</td>\n",
              "      <td>...</td>\n",
              "      <td>...</td>\n",
              "      <td>...</td>\n",
              "      <td>...</td>\n",
              "    </tr>\n",
              "    <tr>\n",
              "      <th>431</th>\n",
              "      <td>0.000000</td>\n",
              "      <td>2.603407</td>\n",
              "      <td>3.303620</td>\n",
              "      <td>8.546624</td>\n",
              "      <td>10.954603</td>\n",
              "      <td>0.0</td>\n",
              "      <td>6.526396</td>\n",
              "      <td>0.997473</td>\n",
              "      <td>0.0</td>\n",
              "      <td>0.0</td>\n",
              "      <td>...</td>\n",
              "      <td>4.750033</td>\n",
              "      <td>8.437918</td>\n",
              "      <td>9.373261</td>\n",
              "      <td>0.000000</td>\n",
              "      <td>8.604153</td>\n",
              "      <td>13.220469</td>\n",
              "      <td>9.442050</td>\n",
              "      <td>8.359108</td>\n",
              "      <td>4.518743</td>\n",
              "      <td>0.000000</td>\n",
              "    </tr>\n",
              "    <tr>\n",
              "      <th>192</th>\n",
              "      <td>0.531868</td>\n",
              "      <td>3.755486</td>\n",
              "      <td>1.868963</td>\n",
              "      <td>6.726123</td>\n",
              "      <td>10.859449</td>\n",
              "      <td>0.0</td>\n",
              "      <td>7.610154</td>\n",
              "      <td>0.000000</td>\n",
              "      <td>0.0</td>\n",
              "      <td>0.0</td>\n",
              "      <td>...</td>\n",
              "      <td>4.884266</td>\n",
              "      <td>8.129752</td>\n",
              "      <td>9.938672</td>\n",
              "      <td>6.847158</td>\n",
              "      <td>9.011046</td>\n",
              "      <td>11.632282</td>\n",
              "      <td>9.872284</td>\n",
              "      <td>9.073266</td>\n",
              "      <td>9.106317</td>\n",
              "      <td>0.000000</td>\n",
              "    </tr>\n",
              "    <tr>\n",
              "      <th>352</th>\n",
              "      <td>0.000000</td>\n",
              "      <td>3.045356</td>\n",
              "      <td>2.839234</td>\n",
              "      <td>5.992823</td>\n",
              "      <td>9.867693</td>\n",
              "      <td>0.0</td>\n",
              "      <td>6.527726</td>\n",
              "      <td>0.408277</td>\n",
              "      <td>0.0</td>\n",
              "      <td>0.0</td>\n",
              "      <td>...</td>\n",
              "      <td>6.116192</td>\n",
              "      <td>9.025466</td>\n",
              "      <td>10.556573</td>\n",
              "      <td>4.144291</td>\n",
              "      <td>10.082269</td>\n",
              "      <td>11.218805</td>\n",
              "      <td>10.592167</td>\n",
              "      <td>9.637623</td>\n",
              "      <td>4.598449</td>\n",
              "      <td>0.000000</td>\n",
              "    </tr>\n",
              "    <tr>\n",
              "      <th>83</th>\n",
              "      <td>0.000000</td>\n",
              "      <td>2.306437</td>\n",
              "      <td>2.063227</td>\n",
              "      <td>6.984339</td>\n",
              "      <td>9.921173</td>\n",
              "      <td>0.0</td>\n",
              "      <td>7.694170</td>\n",
              "      <td>0.630499</td>\n",
              "      <td>0.0</td>\n",
              "      <td>0.0</td>\n",
              "      <td>...</td>\n",
              "      <td>6.223498</td>\n",
              "      <td>10.050583</td>\n",
              "      <td>10.509716</td>\n",
              "      <td>5.891813</td>\n",
              "      <td>10.135286</td>\n",
              "      <td>11.475597</td>\n",
              "      <td>10.129296</td>\n",
              "      <td>10.229528</td>\n",
              "      <td>3.547030</td>\n",
              "      <td>0.000000</td>\n",
              "    </tr>\n",
              "    <tr>\n",
              "      <th>97</th>\n",
              "      <td>0.000000</td>\n",
              "      <td>2.517704</td>\n",
              "      <td>3.030407</td>\n",
              "      <td>5.901779</td>\n",
              "      <td>9.736554</td>\n",
              "      <td>0.0</td>\n",
              "      <td>6.648996</td>\n",
              "      <td>0.402176</td>\n",
              "      <td>0.0</td>\n",
              "      <td>0.0</td>\n",
              "      <td>...</td>\n",
              "      <td>6.503199</td>\n",
              "      <td>9.405503</td>\n",
              "      <td>10.299025</td>\n",
              "      <td>5.259235</td>\n",
              "      <td>9.395206</td>\n",
              "      <td>11.307633</td>\n",
              "      <td>10.276764</td>\n",
              "      <td>9.890615</td>\n",
              "      <td>8.811314</td>\n",
              "      <td>0.000000</td>\n",
              "    </tr>\n",
              "  </tbody>\n",
              "</table>\n",
              "<p>160 rows × 20531 columns</p>\n",
              "</div>\n",
              "      <button class=\"colab-df-convert\" onclick=\"convertToInteractive('df-49f7ec7a-191e-47c3-a7b0-eb087b34b01c')\"\n",
              "              title=\"Convert this dataframe to an interactive table.\"\n",
              "              style=\"display:none;\">\n",
              "        \n",
              "  <svg xmlns=\"http://www.w3.org/2000/svg\" height=\"24px\"viewBox=\"0 0 24 24\"\n",
              "       width=\"24px\">\n",
              "    <path d=\"M0 0h24v24H0V0z\" fill=\"none\"/>\n",
              "    <path d=\"M18.56 5.44l.94 2.06.94-2.06 2.06-.94-2.06-.94-.94-2.06-.94 2.06-2.06.94zm-11 1L8.5 8.5l.94-2.06 2.06-.94-2.06-.94L8.5 2.5l-.94 2.06-2.06.94zm10 10l.94 2.06.94-2.06 2.06-.94-2.06-.94-.94-2.06-.94 2.06-2.06.94z\"/><path d=\"M17.41 7.96l-1.37-1.37c-.4-.4-.92-.59-1.43-.59-.52 0-1.04.2-1.43.59L10.3 9.45l-7.72 7.72c-.78.78-.78 2.05 0 2.83L4 21.41c.39.39.9.59 1.41.59.51 0 1.02-.2 1.41-.59l7.78-7.78 2.81-2.81c.8-.78.8-2.07 0-2.86zM5.41 20L4 18.59l7.72-7.72 1.47 1.35L5.41 20z\"/>\n",
              "  </svg>\n",
              "      </button>\n",
              "      \n",
              "  <style>\n",
              "    .colab-df-container {\n",
              "      display:flex;\n",
              "      flex-wrap:wrap;\n",
              "      gap: 12px;\n",
              "    }\n",
              "\n",
              "    .colab-df-convert {\n",
              "      background-color: #E8F0FE;\n",
              "      border: none;\n",
              "      border-radius: 50%;\n",
              "      cursor: pointer;\n",
              "      display: none;\n",
              "      fill: #1967D2;\n",
              "      height: 32px;\n",
              "      padding: 0 0 0 0;\n",
              "      width: 32px;\n",
              "    }\n",
              "\n",
              "    .colab-df-convert:hover {\n",
              "      background-color: #E2EBFA;\n",
              "      box-shadow: 0px 1px 2px rgba(60, 64, 67, 0.3), 0px 1px 3px 1px rgba(60, 64, 67, 0.15);\n",
              "      fill: #174EA6;\n",
              "    }\n",
              "\n",
              "    [theme=dark] .colab-df-convert {\n",
              "      background-color: #3B4455;\n",
              "      fill: #D2E3FC;\n",
              "    }\n",
              "\n",
              "    [theme=dark] .colab-df-convert:hover {\n",
              "      background-color: #434B5C;\n",
              "      box-shadow: 0px 1px 3px 1px rgba(0, 0, 0, 0.15);\n",
              "      filter: drop-shadow(0px 1px 2px rgba(0, 0, 0, 0.3));\n",
              "      fill: #FFFFFF;\n",
              "    }\n",
              "  </style>\n",
              "\n",
              "      <script>\n",
              "        const buttonEl =\n",
              "          document.querySelector('#df-49f7ec7a-191e-47c3-a7b0-eb087b34b01c button.colab-df-convert');\n",
              "        buttonEl.style.display =\n",
              "          google.colab.kernel.accessAllowed ? 'block' : 'none';\n",
              "\n",
              "        async function convertToInteractive(key) {\n",
              "          const element = document.querySelector('#df-49f7ec7a-191e-47c3-a7b0-eb087b34b01c');\n",
              "          const dataTable =\n",
              "            await google.colab.kernel.invokeFunction('convertToInteractive',\n",
              "                                                     [key], {});\n",
              "          if (!dataTable) return;\n",
              "\n",
              "          const docLinkHtml = 'Like what you see? Visit the ' +\n",
              "            '<a target=\"_blank\" href=https://colab.research.google.com/notebooks/data_table.ipynb>data table notebook</a>'\n",
              "            + ' to learn more about interactive tables.';\n",
              "          element.innerHTML = '';\n",
              "          dataTable['output_type'] = 'display_data';\n",
              "          await google.colab.output.renderOutput(dataTable, element);\n",
              "          const docLink = document.createElement('div');\n",
              "          docLink.innerHTML = docLinkHtml;\n",
              "          element.appendChild(docLink);\n",
              "        }\n",
              "      </script>\n",
              "    </div>\n",
              "  </div>\n",
              "  "
            ]
          },
          "metadata": {},
          "execution_count": 49
        }
      ]
    },
    {
      "cell_type": "markdown",
      "source": [
        "So now we have to analzise the data in each row and check if they neeed to be normalized and plot them and deduce statstical inference. "
      ],
      "metadata": {
        "id": "v8KfwdaM0G2k"
      }
    },
    {
      "cell_type": "code",
      "source": [
        "train_labels"
      ],
      "metadata": {
        "colab": {
          "base_uri": "https://localhost:8080/"
        },
        "id": "RF-txC5d0q5T",
        "outputId": "5af79ac0-462f-46e6-baa3-bc14ca632f3c"
      },
      "execution_count": 50,
      "outputs": [
        {
          "output_type": "execute_result",
          "data": {
            "text/plain": [
              "257    0\n",
              "766    4\n",
              "544    2\n",
              "15     2\n",
              "3      0\n",
              "      ..\n",
              "71     2\n",
              "106    1\n",
              "270    3\n",
              "435    3\n",
              "102    2\n",
              "Name: Class, Length: 480, dtype: int64"
            ]
          },
          "metadata": {},
          "execution_count": 50
        }
      ]
    },
    {
      "cell_type": "code",
      "source": [
        "labels['Class'].unique()"
      ],
      "metadata": {
        "colab": {
          "base_uri": "https://localhost:8080/"
        },
        "id": "GhhkL8am0vTr",
        "outputId": "ccd432c7-c8db-4608-f6d1-23d563dfebd3"
      },
      "execution_count": 51,
      "outputs": [
        {
          "output_type": "execute_result",
          "data": {
            "text/plain": [
              "array([0, 1, 2, 3, 4])"
            ]
          },
          "metadata": {},
          "execution_count": 51
        }
      ]
    },
    {
      "cell_type": "markdown",
      "source": [
        "We have 5 classes in total , so the final output layers must have 5 neurons. \n",
        "To make them into categorical data, we will use the util module from keras\n",
        "but first we convert it into nummpy array with pandas"
      ],
      "metadata": {
        "id": "M_HkjRmJkfC-"
      }
    },
    {
      "cell_type": "code",
      "source": [
        "train_labels = pd.DataFrame(train_labels).to_numpy()\n"
      ],
      "metadata": {
        "id": "b-Rw8Bul054E"
      },
      "execution_count": 52,
      "outputs": []
    },
    {
      "cell_type": "code",
      "source": [
        "train_labels.shape"
      ],
      "metadata": {
        "colab": {
          "base_uri": "https://localhost:8080/"
        },
        "id": "Ijju8wh-1Ckc",
        "outputId": "da8b5470-eada-429e-b894-1cc9344fb405"
      },
      "execution_count": 53,
      "outputs": [
        {
          "output_type": "execute_result",
          "data": {
            "text/plain": [
              "(480, 1)"
            ]
          },
          "metadata": {},
          "execution_count": 53
        }
      ]
    },
    {
      "cell_type": "code",
      "source": [
        "test_labels = pd.DataFrame(test_labels).to_numpy()\n",
        "valid_labels = pd.DataFrame(valid_labels).to_numpy()\n",
        "train_features = pd.DataFrame(train_features).to_numpy()\n",
        "test_features = pd.DataFrame(test_features).to_numpy()\n",
        "valid_features = pd.DataFrame(valid_features).to_numpy()"
      ],
      "metadata": {
        "id": "YGwLZivB1Mb8"
      },
      "execution_count": 54,
      "outputs": []
    },
    {
      "cell_type": "markdown",
      "source": [
        "\n",
        "to_categorical module need numeric value; so we might have to convert all this into numeric values"
      ],
      "metadata": {
        "id": "YFm8TF-QkWZQ"
      }
    },
    {
      "cell_type": "code",
      "source": [
        "train_labels_categorical = to_categorical(train_labels,5)\n",
        "train_labels_one_hot = tf.keras.backend.one_hot(train_labels, 5)"
      ],
      "metadata": {
        "id": "Js5tTeHt1QE8"
      },
      "execution_count": 55,
      "outputs": []
    },
    {
      "cell_type": "code",
      "metadata": {
        "id": "--GBG63JIapX"
      },
      "source": [
        "from tensorflow.keras.utils import to_categorical\n",
        "from tensorflow.keras.backend import one_hot"
      ],
      "execution_count": 56,
      "outputs": []
    },
    {
      "cell_type": "markdown",
      "source": [
        "We have a lot of features- 20531 features so can't plot them all.\n",
        "We neeed to one hot encode our labels and check how many unique values are there in pandas to decide that many categories."
      ],
      "metadata": {
        "id": "S-BWlnT42GhQ"
      }
    },
    {
      "cell_type": "code",
      "source": [
        "train_labels_categorical = to_categorical(train_labels,5)\n",
        "train_labels_one_hot = tf.keras.backend.one_hot(train_labels, 5)"
      ],
      "metadata": {
        "id": "38p_ejkc8GKr"
      },
      "execution_count": 57,
      "outputs": []
    },
    {
      "cell_type": "code",
      "source": [
        "train_labels_categorical.shape"
      ],
      "metadata": {
        "colab": {
          "base_uri": "https://localhost:8080/"
        },
        "id": "UYlWwxCa8Lnz",
        "outputId": "058801f0-59ce-4a21-c30c-e9e0a5ae52ca"
      },
      "execution_count": 58,
      "outputs": [
        {
          "output_type": "execute_result",
          "data": {
            "text/plain": [
              "(480, 5)"
            ]
          },
          "metadata": {},
          "execution_count": 58
        }
      ]
    },
    {
      "cell_type": "code",
      "source": [
        "valid_labels_categorical = to_categorical(valid_labels,5)\n",
        "test_labels_categorical = to_categorical(test_labels,5)"
      ],
      "metadata": {
        "id": "ZlQxSEVU8Nj5"
      },
      "execution_count": 59,
      "outputs": []
    },
    {
      "cell_type": "code",
      "metadata": {
        "id": "IftUUzOgerFD",
        "colab": {
          "base_uri": "https://localhost:8080/",
          "height": 380
        },
        "outputId": "529cebeb-eff9-4aca-9721-d3edd68fc5af"
      },
      "source": [
        "labels = labels['Class'].replace(to_replace='PRAD', value =0, regex=True)\n",
        "labels = labels['Class'].replace(to_replace='LUAD', value =1,regex=True)\n",
        "labels = labels['Class'].replace(to_replace='BRCA', value =2,regex=True)\n",
        "labels = labels['Class'].replace(to_replace='KIRC', value =3,regex=True)\n",
        "labels = labels['Class'].replace(to_replace='COAD', value =4,regex=True)\n"
      ],
      "execution_count": 60,
      "outputs": [
        {
          "output_type": "error",
          "ename": "KeyError",
          "evalue": "ignored",
          "traceback": [
            "\u001b[0;31m---------------------------------------------------------------------------\u001b[0m",
            "\u001b[0;31mKeyError\u001b[0m                                  Traceback (most recent call last)",
            "\u001b[0;32m<ipython-input-60-9ace2bfbc5d3>\u001b[0m in \u001b[0;36m<module>\u001b[0;34m()\u001b[0m\n\u001b[1;32m      1\u001b[0m \u001b[0mlabels\u001b[0m \u001b[0;34m=\u001b[0m \u001b[0mlabels\u001b[0m\u001b[0;34m[\u001b[0m\u001b[0;34m'Class'\u001b[0m\u001b[0;34m]\u001b[0m\u001b[0;34m.\u001b[0m\u001b[0mreplace\u001b[0m\u001b[0;34m(\u001b[0m\u001b[0mto_replace\u001b[0m\u001b[0;34m=\u001b[0m\u001b[0;34m'PRAD'\u001b[0m\u001b[0;34m,\u001b[0m \u001b[0mvalue\u001b[0m \u001b[0;34m=\u001b[0m\u001b[0;36m0\u001b[0m\u001b[0;34m,\u001b[0m \u001b[0mregex\u001b[0m\u001b[0;34m=\u001b[0m\u001b[0;32mTrue\u001b[0m\u001b[0;34m)\u001b[0m\u001b[0;34m\u001b[0m\u001b[0;34m\u001b[0m\u001b[0m\n\u001b[0;32m----> 2\u001b[0;31m \u001b[0mlabels\u001b[0m \u001b[0;34m=\u001b[0m \u001b[0mlabels\u001b[0m\u001b[0;34m[\u001b[0m\u001b[0;34m'Class'\u001b[0m\u001b[0;34m]\u001b[0m\u001b[0;34m.\u001b[0m\u001b[0mreplace\u001b[0m\u001b[0;34m(\u001b[0m\u001b[0mto_replace\u001b[0m\u001b[0;34m=\u001b[0m\u001b[0;34m'LUAD'\u001b[0m\u001b[0;34m,\u001b[0m \u001b[0mvalue\u001b[0m \u001b[0;34m=\u001b[0m\u001b[0;36m1\u001b[0m\u001b[0;34m,\u001b[0m\u001b[0mregex\u001b[0m\u001b[0;34m=\u001b[0m\u001b[0;32mTrue\u001b[0m\u001b[0;34m)\u001b[0m\u001b[0;34m\u001b[0m\u001b[0;34m\u001b[0m\u001b[0m\n\u001b[0m\u001b[1;32m      3\u001b[0m \u001b[0mlabels\u001b[0m \u001b[0;34m=\u001b[0m \u001b[0mlabels\u001b[0m\u001b[0;34m[\u001b[0m\u001b[0;34m'Class'\u001b[0m\u001b[0;34m]\u001b[0m\u001b[0;34m.\u001b[0m\u001b[0mreplace\u001b[0m\u001b[0;34m(\u001b[0m\u001b[0mto_replace\u001b[0m\u001b[0;34m=\u001b[0m\u001b[0;34m'BRCA'\u001b[0m\u001b[0;34m,\u001b[0m \u001b[0mvalue\u001b[0m \u001b[0;34m=\u001b[0m\u001b[0;36m2\u001b[0m\u001b[0;34m,\u001b[0m\u001b[0mregex\u001b[0m\u001b[0;34m=\u001b[0m\u001b[0;32mTrue\u001b[0m\u001b[0;34m)\u001b[0m\u001b[0;34m\u001b[0m\u001b[0;34m\u001b[0m\u001b[0m\n\u001b[1;32m      4\u001b[0m \u001b[0mlabels\u001b[0m \u001b[0;34m=\u001b[0m \u001b[0mlabels\u001b[0m\u001b[0;34m[\u001b[0m\u001b[0;34m'Class'\u001b[0m\u001b[0;34m]\u001b[0m\u001b[0;34m.\u001b[0m\u001b[0mreplace\u001b[0m\u001b[0;34m(\u001b[0m\u001b[0mto_replace\u001b[0m\u001b[0;34m=\u001b[0m\u001b[0;34m'KIRC'\u001b[0m\u001b[0;34m,\u001b[0m \u001b[0mvalue\u001b[0m \u001b[0;34m=\u001b[0m\u001b[0;36m3\u001b[0m\u001b[0;34m,\u001b[0m\u001b[0mregex\u001b[0m\u001b[0;34m=\u001b[0m\u001b[0;32mTrue\u001b[0m\u001b[0;34m)\u001b[0m\u001b[0;34m\u001b[0m\u001b[0;34m\u001b[0m\u001b[0m\n\u001b[1;32m      5\u001b[0m \u001b[0mlabels\u001b[0m \u001b[0;34m=\u001b[0m \u001b[0mlabels\u001b[0m\u001b[0;34m[\u001b[0m\u001b[0;34m'Class'\u001b[0m\u001b[0;34m]\u001b[0m\u001b[0;34m.\u001b[0m\u001b[0mreplace\u001b[0m\u001b[0;34m(\u001b[0m\u001b[0mto_replace\u001b[0m\u001b[0;34m=\u001b[0m\u001b[0;34m'COAD'\u001b[0m\u001b[0;34m,\u001b[0m \u001b[0mvalue\u001b[0m \u001b[0;34m=\u001b[0m\u001b[0;36m4\u001b[0m\u001b[0;34m,\u001b[0m\u001b[0mregex\u001b[0m\u001b[0;34m=\u001b[0m\u001b[0;32mTrue\u001b[0m\u001b[0;34m)\u001b[0m\u001b[0;34m\u001b[0m\u001b[0;34m\u001b[0m\u001b[0m\n",
            "\u001b[0;32m/usr/local/lib/python3.7/dist-packages/pandas/core/series.py\u001b[0m in \u001b[0;36m__getitem__\u001b[0;34m(self, key)\u001b[0m\n\u001b[1;32m    940\u001b[0m \u001b[0;34m\u001b[0m\u001b[0m\n\u001b[1;32m    941\u001b[0m         \u001b[0;32melif\u001b[0m \u001b[0mkey_is_scalar\u001b[0m\u001b[0;34m:\u001b[0m\u001b[0;34m\u001b[0m\u001b[0;34m\u001b[0m\u001b[0m\n\u001b[0;32m--> 942\u001b[0;31m             \u001b[0;32mreturn\u001b[0m \u001b[0mself\u001b[0m\u001b[0;34m.\u001b[0m\u001b[0m_get_value\u001b[0m\u001b[0;34m(\u001b[0m\u001b[0mkey\u001b[0m\u001b[0;34m)\u001b[0m\u001b[0;34m\u001b[0m\u001b[0;34m\u001b[0m\u001b[0m\n\u001b[0m\u001b[1;32m    943\u001b[0m \u001b[0;34m\u001b[0m\u001b[0m\n\u001b[1;32m    944\u001b[0m         \u001b[0;32mif\u001b[0m \u001b[0mis_hashable\u001b[0m\u001b[0;34m(\u001b[0m\u001b[0mkey\u001b[0m\u001b[0;34m)\u001b[0m\u001b[0;34m:\u001b[0m\u001b[0;34m\u001b[0m\u001b[0;34m\u001b[0m\u001b[0m\n",
            "\u001b[0;32m/usr/local/lib/python3.7/dist-packages/pandas/core/series.py\u001b[0m in \u001b[0;36m_get_value\u001b[0;34m(self, label, takeable)\u001b[0m\n\u001b[1;32m   1049\u001b[0m \u001b[0;34m\u001b[0m\u001b[0m\n\u001b[1;32m   1050\u001b[0m         \u001b[0;31m# Similar to Index.get_value, but we do not fall back to positional\u001b[0m\u001b[0;34m\u001b[0m\u001b[0;34m\u001b[0m\u001b[0;34m\u001b[0m\u001b[0m\n\u001b[0;32m-> 1051\u001b[0;31m         \u001b[0mloc\u001b[0m \u001b[0;34m=\u001b[0m \u001b[0mself\u001b[0m\u001b[0;34m.\u001b[0m\u001b[0mindex\u001b[0m\u001b[0;34m.\u001b[0m\u001b[0mget_loc\u001b[0m\u001b[0;34m(\u001b[0m\u001b[0mlabel\u001b[0m\u001b[0;34m)\u001b[0m\u001b[0;34m\u001b[0m\u001b[0;34m\u001b[0m\u001b[0m\n\u001b[0m\u001b[1;32m   1052\u001b[0m         \u001b[0;32mreturn\u001b[0m \u001b[0mself\u001b[0m\u001b[0;34m.\u001b[0m\u001b[0mindex\u001b[0m\u001b[0;34m.\u001b[0m\u001b[0m_get_values_for_loc\u001b[0m\u001b[0;34m(\u001b[0m\u001b[0mself\u001b[0m\u001b[0;34m,\u001b[0m \u001b[0mloc\u001b[0m\u001b[0;34m,\u001b[0m \u001b[0mlabel\u001b[0m\u001b[0;34m)\u001b[0m\u001b[0;34m\u001b[0m\u001b[0;34m\u001b[0m\u001b[0m\n\u001b[1;32m   1053\u001b[0m \u001b[0;34m\u001b[0m\u001b[0m\n",
            "\u001b[0;32m/usr/local/lib/python3.7/dist-packages/pandas/core/indexes/range.py\u001b[0m in \u001b[0;36mget_loc\u001b[0;34m(self, key, method, tolerance)\u001b[0m\n\u001b[1;32m    386\u001b[0m                 \u001b[0;32mexcept\u001b[0m \u001b[0mValueError\u001b[0m \u001b[0;32mas\u001b[0m \u001b[0merr\u001b[0m\u001b[0;34m:\u001b[0m\u001b[0;34m\u001b[0m\u001b[0;34m\u001b[0m\u001b[0m\n\u001b[1;32m    387\u001b[0m                     \u001b[0;32mraise\u001b[0m \u001b[0mKeyError\u001b[0m\u001b[0;34m(\u001b[0m\u001b[0mkey\u001b[0m\u001b[0;34m)\u001b[0m \u001b[0;32mfrom\u001b[0m \u001b[0merr\u001b[0m\u001b[0;34m\u001b[0m\u001b[0;34m\u001b[0m\u001b[0m\n\u001b[0;32m--> 388\u001b[0;31m             \u001b[0;32mraise\u001b[0m \u001b[0mKeyError\u001b[0m\u001b[0;34m(\u001b[0m\u001b[0mkey\u001b[0m\u001b[0;34m)\u001b[0m\u001b[0;34m\u001b[0m\u001b[0;34m\u001b[0m\u001b[0m\n\u001b[0m\u001b[1;32m    389\u001b[0m         \u001b[0;32mreturn\u001b[0m \u001b[0msuper\u001b[0m\u001b[0;34m(\u001b[0m\u001b[0;34m)\u001b[0m\u001b[0;34m.\u001b[0m\u001b[0mget_loc\u001b[0m\u001b[0;34m(\u001b[0m\u001b[0mkey\u001b[0m\u001b[0;34m,\u001b[0m \u001b[0mmethod\u001b[0m\u001b[0;34m=\u001b[0m\u001b[0mmethod\u001b[0m\u001b[0;34m,\u001b[0m \u001b[0mtolerance\u001b[0m\u001b[0;34m=\u001b[0m\u001b[0mtolerance\u001b[0m\u001b[0;34m)\u001b[0m\u001b[0;34m\u001b[0m\u001b[0;34m\u001b[0m\u001b[0m\n\u001b[1;32m    390\u001b[0m \u001b[0;34m\u001b[0m\u001b[0m\n",
            "\u001b[0;31mKeyError\u001b[0m: 'Class'"
          ]
        }
      ]
    },
    {
      "cell_type": "markdown",
      "source": [
        "Both of these methods work the same way, but *one_hot method* give a tensorflow array type while *to_categorical* gives a numpy array"
      ],
      "metadata": {
        "id": "LWSHBuALk5yu"
      }
    },
    {
      "cell_type": "code",
      "source": [
        "train_features[0]"
      ],
      "metadata": {
        "colab": {
          "base_uri": "https://localhost:8080/"
        },
        "id": "Nl3MwMsz8UXa",
        "outputId": "b7062b98-7d08-4829-8166-7104017e788a"
      },
      "execution_count": 61,
      "outputs": [
        {
          "output_type": "execute_result",
          "data": {
            "text/plain": [
              "array([ 0.        ,  4.39652943,  4.15279185, ..., 10.21771541,\n",
              "        4.3483245 ,  0.30591217])"
            ]
          },
          "metadata": {},
          "execution_count": 61
        }
      ]
    },
    {
      "cell_type": "markdown",
      "source": [
        "A single input has 20531 features \n",
        "Normalizing the data is better since the model would give a better idea about the relation.  \n",
        "We will **normalize with tensorflow numpy array along the vertical axis -for each gene** ,\n",
        "first running vertically downwards across rows (axis 0), and the second running horizontally across columns (axis 1)."
      ],
      "metadata": {
        "id": "4sl3V0sFlE-X"
      }
    },
    {
      "cell_type": "code",
      "source": [
        "train_features"
      ],
      "metadata": {
        "colab": {
          "base_uri": "https://localhost:8080/"
        },
        "id": "jDmCjvOf9CGj",
        "outputId": "c320e1a0-7aa9-4d93-aab4-48d589ec1831"
      },
      "execution_count": 62,
      "outputs": [
        {
          "output_type": "execute_result",
          "data": {
            "text/plain": [
              "array([[ 0.        ,  4.39652943,  4.15279185, ..., 10.21771541,\n",
              "         4.3483245 ,  0.30591217],\n",
              "       [ 0.        ,  3.35133151,  3.51227746, ...,  9.57867082,\n",
              "         4.95142927,  0.        ],\n",
              "       [ 0.        ,  2.6513158 ,  2.25794595, ..., 10.39690442,\n",
              "         5.96270633,  0.        ],\n",
              "       ...,\n",
              "       [ 0.        ,  2.52839628,  2.62030488, ...,  9.27967093,\n",
              "         4.18972969,  0.        ],\n",
              "       [ 0.        ,  4.13419629,  3.7226081 , ..., 10.02350487,\n",
              "         6.3917093 ,  0.        ],\n",
              "       [ 0.        ,  2.99048296,  2.48735772, ..., 10.17624796,\n",
              "         6.94138806,  0.        ]])"
            ]
          },
          "metadata": {},
          "execution_count": 62
        }
      ]
    },
    {
      "cell_type": "code",
      "source": [
        "train_feature_norm = tf.keras.utils.normalize(train_features, axis=0, order=2)"
      ],
      "metadata": {
        "id": "d4NJPmh59Fie"
      },
      "execution_count": 63,
      "outputs": []
    },
    {
      "cell_type": "code",
      "source": [
        "train_feature_norm.shape"
      ],
      "metadata": {
        "colab": {
          "base_uri": "https://localhost:8080/"
        },
        "id": "S-tJ-sxH9Fqm",
        "outputId": "2e04914a-08dd-43b8-fbe9-f0c80f10819c"
      },
      "execution_count": 64,
      "outputs": [
        {
          "output_type": "execute_result",
          "data": {
            "text/plain": [
              "(480, 20531)"
            ]
          },
          "metadata": {},
          "execution_count": 64
        }
      ]
    },
    {
      "cell_type": "code",
      "source": [
        "test_feature_norm = tf.keras.utils.normalize(test_features, axis=0, order=2)\n",
        "valid_feature_norm = tf.keras.utils.normalize(valid_features, axis=0, order=2)"
      ],
      "metadata": {
        "id": "p-ocfYMQ9CnL"
      },
      "execution_count": 65,
      "outputs": []
    },
    {
      "cell_type": "markdown",
      "source": [
        "# **Model  building**"
      ],
      "metadata": {
        "id": "7zrS8JD09Zfz"
      }
    },
    {
      "cell_type": "code",
      "source": [
        "def model_1():\n",
        "  model = tf.keras.Sequential([\n",
        "                               tf.keras.layers.Dense(32,activation='relu',input_shape=(20531,),name='dense1_32'),\n",
        "                               tf.keras.layers.Dense(64,activation='relu',name='dense1_64'),\n",
        "                               tf.keras.layers.Dense(128,activation='relu',name='dense1_128'),\n",
        "                               tf.keras.layers.Dense(128,activation='relu',name='dense2_128'),\n",
        "                               tf.keras.layers.Dense(5,activation='softmax',name='last')\n",
        "  ])\n",
        "  model.compile(loss='categorical_crossentropy',optimizer='adam',metrics=['accuracy'])\n",
        "  # We can choose a wide variety of optimizer and loss\n",
        "\n",
        "  model.summary()\n",
        "\n",
        "  return model"
      ],
      "metadata": {
        "id": "3YfZjAdJ9uYg"
      },
      "execution_count": 66,
      "outputs": []
    },
    {
      "cell_type": "markdown",
      "source": [
        "After compilation of the model once, we run it through a single epoch to see if its accepting the data and it adds a None layer by it self for each unit."
      ],
      "metadata": {
        "id": "ZFMOiGcgrmcw"
      }
    },
    {
      "cell_type": "code",
      "source": [
        "#os.mkdir('drive/MyDrive/Gene/model_1')\n",
        "os.listdir('drive/MyDrive/Gene')"
      ],
      "metadata": {
        "colab": {
          "base_uri": "https://localhost:8080/"
        },
        "id": "OFjXJN-p91kD",
        "outputId": "165dd4b5-aa84-4955-ad10-32e802fee067"
      },
      "execution_count": 71,
      "outputs": [
        {
          "output_type": "execute_result",
          "data": {
            "text/plain": [
              "['data.csv', 'labels.csv', 'split60_40', 'model_1']"
            ]
          },
          "metadata": {},
          "execution_count": 71
        }
      ]
    },
    {
      "cell_type": "code",
      "source": [
        "#os.mkdir('drive/MyDrive/Gene/model_1/saved')\n",
        "os.listdir('drive/MyDrive/Gene/model_1')"
      ],
      "metadata": {
        "colab": {
          "base_uri": "https://localhost:8080/"
        },
        "id": "yH79d3oWGulg",
        "outputId": "622bb7a2-fd6f-4586-d5b8-7bd6856b8739"
      },
      "execution_count": 72,
      "outputs": [
        {
          "output_type": "execute_result",
          "data": {
            "text/plain": [
              "['saved']"
            ]
          },
          "metadata": {},
          "execution_count": 72
        }
      ]
    },
    {
      "cell_type": "code",
      "source": [
        "checkpoint_path = 'drive/MyDrive/Gene/model_1/saved'\n",
        "cp_callback = tf.keras.callbacks.ModelCheckpoint(checkpoint_path,monitor='val_loss',save_best_only=True,save_weights_only=False)"
      ],
      "metadata": {
        "id": "qINY0ydS_rAL"
      },
      "execution_count": 73,
      "outputs": []
    },
    {
      "cell_type": "code",
      "source": [
        "model_1 = model_1()"
      ],
      "metadata": {
        "colab": {
          "base_uri": "https://localhost:8080/"
        },
        "id": "189Q-UYDE4Vq",
        "outputId": "609614c8-8bd1-40ed-8364-a78a328e80a8"
      },
      "execution_count": 74,
      "outputs": [
        {
          "output_type": "stream",
          "name": "stdout",
          "text": [
            "Model: \"sequential\"\n",
            "_________________________________________________________________\n",
            " Layer (type)                Output Shape              Param #   \n",
            "=================================================================\n",
            " dense1_32 (Dense)           (None, 32)                657024    \n",
            "                                                                 \n",
            " dense1_64 (Dense)           (None, 64)                2112      \n",
            "                                                                 \n",
            " dense1_128 (Dense)          (None, 128)               8320      \n",
            "                                                                 \n",
            " dense2_128 (Dense)          (None, 128)               16512     \n",
            "                                                                 \n",
            " last (Dense)                (None, 5)                 645       \n",
            "                                                                 \n",
            "=================================================================\n",
            "Total params: 684,613\n",
            "Trainable params: 684,613\n",
            "Non-trainable params: 0\n",
            "_________________________________________________________________\n"
          ]
        }
      ]
    },
    {
      "cell_type": "code",
      "source": [
        "history_2 = model_1.fit(train_feature_norm,train_labels_categorical,epochs=50,validation_data=(valid_feature_norm,valid_labels_categorical),callbacks=[cp_callback])\n"
      ],
      "metadata": {
        "colab": {
          "base_uri": "https://localhost:8080/"
        },
        "id": "ER_ZSo8OFCO6",
        "outputId": "2a0c1996-f836-429a-f712-b6b58adf8642"
      },
      "execution_count": 75,
      "outputs": [
        {
          "output_type": "stream",
          "name": "stdout",
          "text": [
            "Epoch 1/50\n",
            "14/15 [===========================>..] - ETA: 0s - loss: 1.4552 - accuracy: 0.3080INFO:tensorflow:Assets written to: drive/MyDrive/Gene/model_1/saved/assets\n",
            "15/15 [==============================] - 2s 94ms/step - loss: 1.4474 - accuracy: 0.3146 - val_loss: 1.1016 - val_accuracy: 0.5217\n",
            "Epoch 2/50\n",
            "15/15 [==============================] - ETA: 0s - loss: 0.8700 - accuracy: 0.7125INFO:tensorflow:Assets written to: drive/MyDrive/Gene/model_1/saved/assets\n",
            "15/15 [==============================] - 1s 70ms/step - loss: 0.8700 - accuracy: 0.7125 - val_loss: 0.3390 - val_accuracy: 0.8758\n",
            "Epoch 3/50\n",
            "14/15 [===========================>..] - ETA: 0s - loss: 0.3002 - accuracy: 0.9353INFO:tensorflow:Assets written to: drive/MyDrive/Gene/model_1/saved/assets\n",
            "15/15 [==============================] - 1s 72ms/step - loss: 0.2945 - accuracy: 0.9375 - val_loss: 0.0931 - val_accuracy: 0.9814\n",
            "Epoch 4/50\n",
            "14/15 [===========================>..] - ETA: 0s - loss: 0.0739 - accuracy: 0.9978INFO:tensorflow:Assets written to: drive/MyDrive/Gene/model_1/saved/assets\n",
            "15/15 [==============================] - 1s 70ms/step - loss: 0.0705 - accuracy: 0.9979 - val_loss: 0.0248 - val_accuracy: 0.9876\n",
            "Epoch 5/50\n",
            "15/15 [==============================] - ETA: 0s - loss: 0.0247 - accuracy: 0.9979INFO:tensorflow:Assets written to: drive/MyDrive/Gene/model_1/saved/assets\n",
            "15/15 [==============================] - 1s 71ms/step - loss: 0.0247 - accuracy: 0.9979 - val_loss: 0.0173 - val_accuracy: 0.9938\n",
            "Epoch 6/50\n",
            "11/15 [=====================>........] - ETA: 0s - loss: 0.0120 - accuracy: 0.9972INFO:tensorflow:Assets written to: drive/MyDrive/Gene/model_1/saved/assets\n",
            "15/15 [==============================] - 1s 80ms/step - loss: 0.0098 - accuracy: 0.9979 - val_loss: 0.0048 - val_accuracy: 1.0000\n",
            "Epoch 7/50\n",
            "15/15 [==============================] - 0s 12ms/step - loss: 0.0054 - accuracy: 0.9979 - val_loss: 0.0378 - val_accuracy: 0.9938\n",
            "Epoch 8/50\n",
            "15/15 [==============================] - ETA: 0s - loss: 0.0015 - accuracy: 1.0000INFO:tensorflow:Assets written to: drive/MyDrive/Gene/model_1/saved/assets\n",
            "15/15 [==============================] - 1s 70ms/step - loss: 0.0015 - accuracy: 1.0000 - val_loss: 0.0046 - val_accuracy: 1.0000\n",
            "Epoch 9/50\n",
            "15/15 [==============================] - 0s 11ms/step - loss: 9.8445e-04 - accuracy: 1.0000 - val_loss: 0.0207 - val_accuracy: 0.9938\n",
            "Epoch 10/50\n",
            "15/15 [==============================] - 0s 11ms/step - loss: 8.1187e-04 - accuracy: 1.0000 - val_loss: 0.0169 - val_accuracy: 0.9938\n",
            "Epoch 11/50\n",
            "15/15 [==============================] - 0s 11ms/step - loss: 6.7331e-04 - accuracy: 1.0000 - val_loss: 0.0158 - val_accuracy: 0.9938\n",
            "Epoch 12/50\n",
            "15/15 [==============================] - 0s 12ms/step - loss: 5.5480e-04 - accuracy: 1.0000 - val_loss: 0.0165 - val_accuracy: 0.9938\n",
            "Epoch 13/50\n",
            "15/15 [==============================] - 0s 11ms/step - loss: 4.4889e-04 - accuracy: 1.0000 - val_loss: 0.0156 - val_accuracy: 0.9938\n",
            "Epoch 14/50\n",
            "15/15 [==============================] - 0s 12ms/step - loss: 3.9588e-04 - accuracy: 1.0000 - val_loss: 0.0153 - val_accuracy: 0.9938\n",
            "Epoch 15/50\n",
            "15/15 [==============================] - 0s 11ms/step - loss: 3.3624e-04 - accuracy: 1.0000 - val_loss: 0.0154 - val_accuracy: 0.9938\n",
            "Epoch 16/50\n",
            "15/15 [==============================] - 0s 11ms/step - loss: 3.0562e-04 - accuracy: 1.0000 - val_loss: 0.0143 - val_accuracy: 0.9938\n",
            "Epoch 17/50\n",
            "15/15 [==============================] - 0s 11ms/step - loss: 2.7112e-04 - accuracy: 1.0000 - val_loss: 0.0153 - val_accuracy: 0.9938\n",
            "Epoch 18/50\n",
            "15/15 [==============================] - 0s 12ms/step - loss: 2.3861e-04 - accuracy: 1.0000 - val_loss: 0.0152 - val_accuracy: 0.9938\n",
            "Epoch 19/50\n",
            "15/15 [==============================] - 0s 10ms/step - loss: 2.1814e-04 - accuracy: 1.0000 - val_loss: 0.0148 - val_accuracy: 0.9938\n",
            "Epoch 20/50\n",
            "15/15 [==============================] - 0s 11ms/step - loss: 1.9511e-04 - accuracy: 1.0000 - val_loss: 0.0143 - val_accuracy: 0.9938\n",
            "Epoch 21/50\n",
            "15/15 [==============================] - 0s 11ms/step - loss: 1.7564e-04 - accuracy: 1.0000 - val_loss: 0.0150 - val_accuracy: 0.9938\n",
            "Epoch 22/50\n",
            "15/15 [==============================] - 0s 11ms/step - loss: 1.5966e-04 - accuracy: 1.0000 - val_loss: 0.0161 - val_accuracy: 0.9938\n",
            "Epoch 23/50\n",
            "15/15 [==============================] - 0s 11ms/step - loss: 1.4658e-04 - accuracy: 1.0000 - val_loss: 0.0139 - val_accuracy: 0.9938\n",
            "Epoch 24/50\n",
            "15/15 [==============================] - 0s 11ms/step - loss: 1.3236e-04 - accuracy: 1.0000 - val_loss: 0.0143 - val_accuracy: 0.9938\n",
            "Epoch 25/50\n",
            "15/15 [==============================] - 0s 11ms/step - loss: 1.2045e-04 - accuracy: 1.0000 - val_loss: 0.0148 - val_accuracy: 0.9938\n",
            "Epoch 26/50\n",
            "15/15 [==============================] - 0s 11ms/step - loss: 1.0954e-04 - accuracy: 1.0000 - val_loss: 0.0141 - val_accuracy: 0.9938\n",
            "Epoch 27/50\n",
            "15/15 [==============================] - 0s 11ms/step - loss: 9.8156e-05 - accuracy: 1.0000 - val_loss: 0.0138 - val_accuracy: 0.9938\n",
            "Epoch 28/50\n",
            "15/15 [==============================] - 0s 11ms/step - loss: 8.9446e-05 - accuracy: 1.0000 - val_loss: 0.0130 - val_accuracy: 0.9938\n",
            "Epoch 29/50\n",
            "15/15 [==============================] - 0s 11ms/step - loss: 8.0813e-05 - accuracy: 1.0000 - val_loss: 0.0132 - val_accuracy: 0.9938\n",
            "Epoch 30/50\n",
            "15/15 [==============================] - 0s 11ms/step - loss: 7.3952e-05 - accuracy: 1.0000 - val_loss: 0.0117 - val_accuracy: 0.9938\n",
            "Epoch 31/50\n",
            "15/15 [==============================] - 0s 11ms/step - loss: 6.8692e-05 - accuracy: 1.0000 - val_loss: 0.0126 - val_accuracy: 0.9938\n",
            "Epoch 32/50\n",
            "15/15 [==============================] - 0s 12ms/step - loss: 6.1098e-05 - accuracy: 1.0000 - val_loss: 0.0114 - val_accuracy: 0.9938\n",
            "Epoch 33/50\n",
            "15/15 [==============================] - 0s 10ms/step - loss: 5.6845e-05 - accuracy: 1.0000 - val_loss: 0.0118 - val_accuracy: 0.9938\n",
            "Epoch 34/50\n",
            "15/15 [==============================] - 0s 11ms/step - loss: 5.1155e-05 - accuracy: 1.0000 - val_loss: 0.0095 - val_accuracy: 0.9938\n",
            "Epoch 35/50\n",
            "15/15 [==============================] - 0s 12ms/step - loss: 4.6929e-05 - accuracy: 1.0000 - val_loss: 0.0098 - val_accuracy: 0.9938\n",
            "Epoch 36/50\n",
            "15/15 [==============================] - 0s 11ms/step - loss: 4.2478e-05 - accuracy: 1.0000 - val_loss: 0.0087 - val_accuracy: 0.9938\n",
            "Epoch 37/50\n",
            "15/15 [==============================] - 0s 11ms/step - loss: 3.8395e-05 - accuracy: 1.0000 - val_loss: 0.0093 - val_accuracy: 0.9938\n",
            "Epoch 38/50\n",
            "15/15 [==============================] - 0s 11ms/step - loss: 3.5108e-05 - accuracy: 1.0000 - val_loss: 0.0082 - val_accuracy: 0.9938\n",
            "Epoch 39/50\n",
            "15/15 [==============================] - 0s 11ms/step - loss: 3.2014e-05 - accuracy: 1.0000 - val_loss: 0.0094 - val_accuracy: 0.9938\n",
            "Epoch 40/50\n",
            "15/15 [==============================] - 0s 11ms/step - loss: 2.9601e-05 - accuracy: 1.0000 - val_loss: 0.0078 - val_accuracy: 0.9938\n",
            "Epoch 41/50\n",
            "15/15 [==============================] - 0s 11ms/step - loss: 2.7390e-05 - accuracy: 1.0000 - val_loss: 0.0078 - val_accuracy: 0.9938\n",
            "Epoch 42/50\n",
            "15/15 [==============================] - 0s 11ms/step - loss: 2.4992e-05 - accuracy: 1.0000 - val_loss: 0.0072 - val_accuracy: 0.9938\n",
            "Epoch 43/50\n",
            "15/15 [==============================] - 0s 11ms/step - loss: 2.3154e-05 - accuracy: 1.0000 - val_loss: 0.0080 - val_accuracy: 0.9938\n",
            "Epoch 44/50\n",
            "15/15 [==============================] - 0s 11ms/step - loss: 2.1832e-05 - accuracy: 1.0000 - val_loss: 0.0072 - val_accuracy: 0.9938\n",
            "Epoch 45/50\n",
            "15/15 [==============================] - 0s 11ms/step - loss: 2.0266e-05 - accuracy: 1.0000 - val_loss: 0.0076 - val_accuracy: 0.9938\n",
            "Epoch 46/50\n",
            "15/15 [==============================] - 0s 12ms/step - loss: 1.8981e-05 - accuracy: 1.0000 - val_loss: 0.0064 - val_accuracy: 0.9938\n",
            "Epoch 47/50\n",
            "15/15 [==============================] - 0s 11ms/step - loss: 1.8129e-05 - accuracy: 1.0000 - val_loss: 0.0070 - val_accuracy: 0.9938\n",
            "Epoch 48/50\n",
            "15/15 [==============================] - 0s 11ms/step - loss: 1.7249e-05 - accuracy: 1.0000 - val_loss: 0.0093 - val_accuracy: 0.9938\n",
            "Epoch 49/50\n",
            "15/15 [==============================] - 0s 11ms/step - loss: 1.6222e-05 - accuracy: 1.0000 - val_loss: 0.0059 - val_accuracy: 0.9938\n",
            "Epoch 50/50\n",
            "15/15 [==============================] - 0s 11ms/step - loss: 1.5292e-05 - accuracy: 1.0000 - val_loss: 0.0060 - val_accuracy: 0.9938\n"
          ]
        }
      ]
    },
    {
      "cell_type": "markdown",
      "source": [
        "Checking the Graph"
      ],
      "metadata": {
        "id": "xfydrieZFasY"
      }
    },
    {
      "cell_type": "code",
      "source": [
        "def plot(history):\n",
        "  acc = history.history['accuracy']\n",
        "  val_acc = history.history['val_accuracy']\n",
        "  loss = history.history['loss']\n",
        "  val_loss = history.history['val_loss']\n",
        "\n",
        "  epochs = range(len(acc))\n",
        "\n",
        "  plt.plot(epochs,acc,'b')\n",
        "  plt.plot(epochs,val_acc,'r')\n",
        "  plt.xlabel('Training Accuracy')\n",
        "  plt.xlabel('Validation Accuracy')\n",
        "  plt.figure()\n",
        "  plt.show()\n",
        "\n",
        "  plt.plot(epochs,loss,'b')\n",
        "  plt.plot(epochs,val_loss,'r')\n",
        "  plt.xlabel('Training Loss')\n",
        "  plt.xlabel('Validation Loss')\n",
        "  plt.figure()\n",
        "  plt.show()"
      ],
      "metadata": {
        "id": "65-gW7aeFReR"
      },
      "execution_count": 76,
      "outputs": []
    },
    {
      "cell_type": "code",
      "source": [
        "plot(history_2)"
      ],
      "metadata": {
        "colab": {
          "base_uri": "https://localhost:8080/",
          "height": 576
        },
        "id": "GiAioUnTFgKy",
        "outputId": "9b4a8a8a-4205-49e7-f5b3-fdd2b407e383"
      },
      "execution_count": 77,
      "outputs": [
        {
          "output_type": "display_data",
          "data": {
            "text/plain": [
              "<Figure size 432x288 with 1 Axes>"
            ],
            "image/png": "[encoded data removed]"
          },
          "metadata": {
            "needs_background": "light"
          }
        },
        {
          "output_type": "display_data",
          "data": {
            "text/plain": [
              "<Figure size 432x288 with 0 Axes>"
            ]
          },
          "metadata": {}
        },
        {
          "output_type": "display_data",
          "data": {
            "text/plain": [
              "<Figure size 432x288 with 1 Axes>"
            ],
            "image/png": "[encoded data removed]"
          },
          "metadata": {
            "needs_background": "light"
          }
        },
        {
          "output_type": "display_data",
          "data": {
            "text/plain": [
              "<Figure size 432x288 with 0 Axes>"
            ]
          },
          "metadata": {}
        }
      ]
    },
    {
      "cell_type": "code",
      "source": [
        "print(model_1.metrics_names)\n"
      ],
      "metadata": {
        "colab": {
          "base_uri": "https://localhost:8080/"
        },
        "id": "CZo7tXBYFmTp",
        "outputId": "efaf12e7-a94d-4b1b-b510-8b39e874c56c"
      },
      "execution_count": 78,
      "outputs": [
        {
          "output_type": "stream",
          "name": "stdout",
          "text": [
            "['loss', 'accuracy']\n"
          ]
        }
      ]
    },
    {
      "cell_type": "code",
      "source": [
        "loss1 , accuracy1 = model_1.evaluate(valid_feature_norm,valid_labels_categorical)"
      ],
      "metadata": {
        "colab": {
          "base_uri": "https://localhost:8080/"
        },
        "id": "wBr6wnWFFnLZ",
        "outputId": "6901cb64-2de8-4f4b-979b-d3355368a240"
      },
      "execution_count": 79,
      "outputs": [
        {
          "output_type": "stream",
          "name": "stdout",
          "text": [
            "6/6 [==============================] - 0s 4ms/step - loss: 0.0060 - accuracy: 0.9938\n"
          ]
        }
      ]
    },
    {
      "cell_type": "code",
      "source": [
        "print(loss1 , accuracy1)"
      ],
      "metadata": {
        "colab": {
          "base_uri": "https://localhost:8080/"
        },
        "id": "UgQ-tHG_FqKh",
        "outputId": "9b5e9f18-eb06-4669-d78a-3ab44f054fcf"
      },
      "execution_count": 80,
      "outputs": [
        {
          "output_type": "stream",
          "name": "stdout",
          "text": [
            "0.00602765055373311 0.9937888383865356\n"
          ]
        }
      ]
    },
    {
      "cell_type": "markdown",
      "source": [
        "So much accurate model doesn't fit the real world, so we need improve and rebuild the model to meet real world accuracy."
      ],
      "metadata": {
        "id": "tM0z5LBSlyNO"
      }
    },
    {
      "cell_type": "code",
      "source": [
        "def model_2():\n",
        "  model = tf.keras.Sequential([\n",
        "                               tf.keras.layers.Dense(32,activation='relu',input_shape=(20531,),name='dense1_32'),\n",
        "                               tf.keras.layers.Dense(64,activation='relu',name='dense1_64'),\n",
        "                               tf.keras.layers.Dense(64,activation='relu',name='dense2_64'),\n",
        "                               tf.keras.layers.Dense(5,activation='softmax',name='last')\n",
        "  ])\n",
        "  model.compile(loss='categorical_crossentropy',optimizer='adam',metrics=['accuracy'])\n",
        "  model.summary()\n",
        "  return model"
      ],
      "metadata": {
        "id": "1Bm-9Q2LQNW8"
      },
      "execution_count": 81,
      "outputs": []
    },
    {
      "cell_type": "code",
      "source": [
        "#os.mkdir('drive/MyDrive/Gene/model_2')\n",
        "#os.mkdir('drive/MyDrive/Gene/model_2/saved')\n",
        "os.listdir('drive/MyDrive/Gene')"
      ],
      "metadata": {
        "colab": {
          "base_uri": "https://localhost:8080/"
        },
        "id": "cX5lDDFqRWRg",
        "outputId": "6b2d30e6-58bb-4eee-f69e-fefa115259fd"
      },
      "execution_count": 88,
      "outputs": [
        {
          "output_type": "execute_result",
          "data": {
            "text/plain": [
              "['data.csv', 'labels.csv', 'split60_40', 'model_1', 'model_2']"
            ]
          },
          "metadata": {},
          "execution_count": 88
        }
      ]
    },
    {
      "cell_type": "code",
      "source": [
        "# This time we save all the weigths after each epoch."
      ],
      "metadata": {
        "id": "sTmCsgXnStzH"
      },
      "execution_count": null,
      "outputs": []
    },
    {
      "cell_type": "code",
      "source": [
        "\n",
        "checkpoint_path = 'drive/MyDrive/Gene/model_2/saved/cp-{epoch:04d}.ckpt'\n",
        "checkpoint_dir = os.path.dirname(checkpoint_path)\n",
        "cp_callback = tf.keras.callbacks.ModelCheckpoint(checkpoint_path,monitor='val_loss',save_best_only=False,save_weights_only=True)"
      ],
      "metadata": {
        "id": "_H8Spn4cSiY4"
      },
      "execution_count": 89,
      "outputs": []
    },
    {
      "cell_type": "code",
      "source": [
        "model_2 = model_2()"
      ],
      "metadata": {
        "colab": {
          "base_uri": "https://localhost:8080/"
        },
        "id": "gqhF_IJETAK3",
        "outputId": "0d435efd-ccec-4815-9a61-9e247d1eb921"
      },
      "execution_count": 90,
      "outputs": [
        {
          "output_type": "stream",
          "name": "stdout",
          "text": [
            "Model: \"sequential_1\"\n",
            "_________________________________________________________________\n",
            " Layer (type)                Output Shape              Param #   \n",
            "=================================================================\n",
            " dense1_32 (Dense)           (None, 32)                657024    \n",
            "                                                                 \n",
            " dense1_64 (Dense)           (None, 64)                2112      \n",
            "                                                                 \n",
            " dense2_64 (Dense)           (None, 64)                4160      \n",
            "                                                                 \n",
            " last (Dense)                (None, 5)                 325       \n",
            "                                                                 \n",
            "=================================================================\n",
            "Total params: 663,621\n",
            "Trainable params: 663,621\n",
            "Non-trainable params: 0\n",
            "_________________________________________________________________\n"
          ]
        }
      ]
    },
    {
      "cell_type": "code",
      "source": [
        "history_m2 = model_2.fit(train_feature_norm,train_labels_categorical,epochs=5,validation_data=(valid_feature_norm,valid_labels_categorical),callbacks=[cp_callback])\n"
      ],
      "metadata": {
        "colab": {
          "base_uri": "https://localhost:8080/"
        },
        "id": "69cWH_xyTG2_",
        "outputId": "44d4fd7e-24ae-4850-cd43-bd34598769a7"
      },
      "execution_count": 91,
      "outputs": [
        {
          "output_type": "stream",
          "name": "stdout",
          "text": [
            "Epoch 1/5\n",
            "15/15 [==============================] - 1s 34ms/step - loss: 1.4989 - accuracy: 0.3292 - val_loss: 1.2666 - val_accuracy: 0.4534\n",
            "Epoch 2/5\n",
            "15/15 [==============================] - 0s 22ms/step - loss: 1.1912 - accuracy: 0.5562 - val_loss: 0.9138 - val_accuracy: 0.5280\n",
            "Epoch 3/5\n",
            "15/15 [==============================] - 0s 20ms/step - loss: 0.8121 - accuracy: 0.7792 - val_loss: 0.4977 - val_accuracy: 0.8882\n",
            "Epoch 4/5\n",
            "15/15 [==============================] - 0s 21ms/step - loss: 0.4996 - accuracy: 0.8875 - val_loss: 0.2462 - val_accuracy: 0.8882\n",
            "Epoch 5/5\n",
            "15/15 [==============================] - 0s 16ms/step - loss: 0.2758 - accuracy: 0.9083 - val_loss: 0.1054 - val_accuracy: 0.9938\n"
          ]
        }
      ]
    },
    {
      "cell_type": "code",
      "source": [
        "! ls {checkpoint_dir}"
      ],
      "metadata": {
        "colab": {
          "base_uri": "https://localhost:8080/"
        },
        "id": "CVNtTFBYTg53",
        "outputId": "86d3d619-15fb-449d-eaf6-9d966f17b467"
      },
      "execution_count": 92,
      "outputs": [
        {
          "output_type": "stream",
          "name": "stdout",
          "text": [
            "checkpoint\t\t\t  cp-0003.ckpt.index\n",
            "cp-0001.ckpt.data-00000-of-00001  cp-0004.ckpt.data-00000-of-00001\n",
            "cp-0001.ckpt.index\t\t  cp-0004.ckpt.index\n",
            "cp-0002.ckpt.data-00000-of-00001  cp-0005.ckpt.data-00000-of-00001\n",
            "cp-0002.ckpt.index\t\t  cp-0005.ckpt.index\n",
            "cp-0003.ckpt.data-00000-of-00001\n"
          ]
        }
      ]
    },
    {
      "cell_type": "code",
      "source": [
        "os.listdir(os.path.join('drive/MyDrive/Gene/model_2/saved'))"
      ],
      "metadata": {
        "colab": {
          "base_uri": "https://localhost:8080/"
        },
        "id": "iasVCvNyfXLB",
        "outputId": "6a8dac23-377f-433f-b574-daf5937d985f"
      },
      "execution_count": 97,
      "outputs": [
        {
          "output_type": "execute_result",
          "data": {
            "text/plain": [
              "['cp-0001.ckpt.data-00000-of-00001',\n",
              " 'cp-0001.ckpt.index',\n",
              " 'cp-0002.ckpt.data-00000-of-00001',\n",
              " 'cp-0002.ckpt.index',\n",
              " 'cp-0003.ckpt.data-00000-of-00001',\n",
              " 'cp-0003.ckpt.index',\n",
              " 'cp-0004.ckpt.data-00000-of-00001',\n",
              " 'cp-0004.ckpt.index',\n",
              " 'cp-0005.ckpt.data-00000-of-00001',\n",
              " 'cp-0005.ckpt.index',\n",
              " 'checkpoint']"
            ]
          },
          "metadata": {},
          "execution_count": 97
        }
      ]
    },
    {
      "cell_type": "code",
      "source": [
        "model_final = model_2"
      ],
      "metadata": {
        "id": "4TLLWrSoTit_"
      },
      "execution_count": 100,
      "outputs": []
    },
    {
      "cell_type": "code",
      "source": [
        "plot(history_m2)"
      ],
      "metadata": {
        "colab": {
          "base_uri": "https://localhost:8080/",
          "height": 576
        },
        "id": "wexJ94p2lVza",
        "outputId": "f469dfe0-dd07-45b8-84a4-b1618b6c4ac9"
      },
      "execution_count": 106,
      "outputs": [
        {
          "output_type": "display_data",
          "data": {
            "text/plain": [
              "<Figure size 432x288 with 1 Axes>"
            ],
            "image/png": "[encoded data removed]"
          },
          "metadata": {
            "needs_background": "light"
          }
        },
        {
          "output_type": "display_data",
          "data": {
            "text/plain": [
              "<Figure size 432x288 with 0 Axes>"
            ]
          },
          "metadata": {}
        },
        {
          "output_type": "display_data",
          "data": {
            "text/plain": [
              "<Figure size 432x288 with 1 Axes>"
            ],
            "image/png": "[encoded data removed]"
          },
          "metadata": {
            "needs_background": "light"
          }
        },
        {
          "output_type": "display_data",
          "data": {
            "text/plain": [
              "<Figure size 432x288 with 0 Axes>"
            ]
          },
          "metadata": {}
        }
      ]
    },
    {
      "cell_type": "code",
      "source": [
        ""
      ],
      "metadata": {
        "id": "HDNL9FjMnYIQ"
      },
      "execution_count": null,
      "outputs": []
    },
    {
      "cell_type": "code",
      "source": [
        "#os.mkdir('drive/MyDrive/Gene/model_final')\n",
        "#os.mkdir('drive/MyDrive/Gene/model_final/saved')\n",
        "os.listdir('drive/MyDrive/Gene')"
      ],
      "metadata": {
        "colab": {
          "base_uri": "https://localhost:8080/"
        },
        "id": "p6q0ShDnT6nn",
        "outputId": "bdc9d1f5-26b0-4c37-ff1f-512ef37c8f6f"
      },
      "execution_count": 101,
      "outputs": [
        {
          "output_type": "execute_result",
          "data": {
            "text/plain": [
              "['data.csv', 'labels.csv', 'split60_40', 'model_1', 'model_2', 'model_final']"
            ]
          },
          "metadata": {},
          "execution_count": 101
        }
      ]
    },
    {
      "cell_type": "code",
      "source": [
        "checkpoint_path = 'drive/MyDrive/Gene/model_final/saved/cp-{epoch:04d}.ckpt'\n",
        "checkpoint_dir = os.path.dirname(checkpoint_path)\n",
        "cp_callback = tf.keras.callbacks.ModelCheckpoint(checkpoint_path,monitor='val_loss',save_best_only=False,save_weights_only=False)"
      ],
      "metadata": {
        "id": "pwyanTaekQvi"
      },
      "execution_count": 102,
      "outputs": []
    },
    {
      "cell_type": "code",
      "source": [
        "history_3 = model_final.fit(train_feature_norm,train_labels_categorical,epochs=3,validation_data=(valid_feature_norm,valid_labels_categorical),callbacks=[cp_callback])"
      ],
      "metadata": {
        "colab": {
          "base_uri": "https://localhost:8080/"
        },
        "id": "YgjCyH3bkf4I",
        "outputId": "1cb9a506-ff9c-43a5-8143-f6d2ef49f36a"
      },
      "execution_count": 103,
      "outputs": [
        {
          "output_type": "stream",
          "name": "stdout",
          "text": [
            "Epoch 1/3\n",
            "14/15 [===========================>..] - ETA: 0s - loss: 0.1569 - accuracy: 0.9799INFO:tensorflow:Assets written to: drive/MyDrive/Gene/model_final/saved/cp-0001.ckpt/assets\n",
            "15/15 [==============================] - 2s 125ms/step - loss: 0.1533 - accuracy: 0.9812 - val_loss: 0.0400 - val_accuracy: 1.0000\n",
            "Epoch 2/3\n",
            "15/15 [==============================] - ETA: 0s - loss: 0.0774 - accuracy: 0.9979INFO:tensorflow:Assets written to: drive/MyDrive/Gene/model_final/saved/cp-0002.ckpt/assets\n",
            "15/15 [==============================] - 1s 67ms/step - loss: 0.0774 - accuracy: 0.9979 - val_loss: 0.0199 - val_accuracy: 1.0000\n",
            "Epoch 3/3\n",
            " 8/15 [===============>..............] - ETA: 0s - loss: 0.0459 - accuracy: 0.9961INFO:tensorflow:Assets written to: drive/MyDrive/Gene/model_final/saved/cp-0003.ckpt/assets\n",
            "15/15 [==============================] - 1s 65ms/step - loss: 0.0408 - accuracy: 0.9979 - val_loss: 0.0090 - val_accuracy: 1.0000\n"
          ]
        }
      ]
    },
    {
      "cell_type": "code",
      "source": [
        "model_final.evaluate(valid_feature_norm,valid_labels_categorical)"
      ],
      "metadata": {
        "colab": {
          "base_uri": "https://localhost:8080/"
        },
        "id": "h8mMJ6z0k04B",
        "outputId": "07803279-dbe5-4757-83e0-0be7bc5501ae"
      },
      "execution_count": 104,
      "outputs": [
        {
          "output_type": "stream",
          "name": "stdout",
          "text": [
            "6/6 [==============================] - 0s 7ms/step - loss: 0.0090 - accuracy: 1.0000\n"
          ]
        },
        {
          "output_type": "execute_result",
          "data": {
            "text/plain": [
              "[0.009035766124725342, 1.0]"
            ]
          },
          "metadata": {},
          "execution_count": 104
        }
      ]
    },
    {
      "cell_type": "code",
      "source": [
        "plot(history_3)"
      ],
      "metadata": {
        "colab": {
          "base_uri": "https://localhost:8080/",
          "height": 580
        },
        "id": "vVE50xjElCdx",
        "outputId": "0d42151b-3b17-4e52-d2ce-bc059def2e7f"
      },
      "execution_count": 105,
      "outputs": [
        {
          "output_type": "display_data",
          "data": {
            "text/plain": [
              "<Figure size 432x288 with 1 Axes>"
            ],
            "image/png": "[encoded data removed]"
          },
          "metadata": {
            "needs_background": "light"
          }
        },
        {
          "output_type": "display_data",
          "data": {
            "text/plain": [
              "<Figure size 432x288 with 0 Axes>"
            ]
          },
          "metadata": {}
        },
        {
          "output_type": "display_data",
          "data": {
            "text/plain": [
              "<Figure size 432x288 with 1 Axes>"
            ],
            "image/png": "[encoded data removed]"
          },
          "metadata": {
            "needs_background": "light"
          }
        },
        {
          "output_type": "display_data",
          "data": {
            "text/plain": [
              "<Figure size 432x288 with 0 Axes>"
            ]
          },
          "metadata": {}
        }
      ]
    }
  ]
}